{
  "nbformat": 4,
  "nbformat_minor": 0,
  "metadata": {
    "colab": {
      "name": "Exercícios estatística.ipynb",
      "provenance": [],
      "collapsed_sections": [],
      "authorship_tag": "ABX9TyM/DU1MTkmjjjFa5Ccf6lYQ",
      "include_colab_link": true
    },
    "kernelspec": {
      "name": "python3",
      "display_name": "Python 3"
    },
    "language_info": {
      "name": "python"
    }
  },
  "cells": [
    {
      "cell_type": "markdown",
      "metadata": {
        "id": "view-in-github",
        "colab_type": "text"
      },
      "source": [
        "<a href=\"https://colab.research.google.com/github/FernandoLajus/Estudos_em_python/blob/main/Exerc%C3%ADcios_lists.ipynb\" target=\"_parent\"><img src=\"https://colab.research.google.com/assets/colab-badge.svg\" alt=\"Open In Colab\"/></a>"
      ]
    },
    {
      "cell_type": "code",
      "metadata": {
        "id": "bsOBD_bQ_g5t"
      },
      "source": [
        "import statistics as st"
      ],
      "execution_count": null,
      "outputs": []
    },
    {
      "cell_type": "code",
      "metadata": {
        "id": "sKFazN5JPusD"
      },
      "source": [
        "#Dada a seguinte lista de números, qual das afirmativas corresponde à média do conjunto? (A lista será utilizada pra os próximos 3 exercícios)\n",
        "#[140, 300, 732, 395, 563, 118, 282, 430, 867, 910, 40, 823, 361,321, 778, 266, 381, 887]\n",
        " \n",
        " \n",
        "a = [140, 300, 732, 395, 563, 118, 282, 430, 867, 910, 40, 823, 361,321, 778, 266, 381, 887]"
      ],
      "execution_count": null,
      "outputs": []
    },
    {
      "cell_type": "code",
      "metadata": {
        "id": "6vsAkFCHP0YN",
        "colab": {
          "base_uri": "https://localhost:8080/"
        },
        "outputId": "899662d9-6a2f-4520-beb8-e1c670b6e166"
      },
      "source": [
        "# Dada a mesma sequência de números, qual das alternativas correspondem à mediana dos dados?\n",
        "\n",
        "st.median(a)"
      ],
      "execution_count": null,
      "outputs": [
        {
          "output_type": "execute_result",
          "data": {
            "text/plain": [
              "388.0"
            ]
          },
          "metadata": {
            "tags": []
          },
          "execution_count": 8
        }
      ]
    },
    {
      "cell_type": "code",
      "metadata": {
        "colab": {
          "base_uri": "https://localhost:8080/"
        },
        "id": "709pE5MTCKoW",
        "outputId": "e0f00c34-a645-471f-d2f3-b57b6ff62c29"
      },
      "source": [
        "# Ainda com relação à sequência de números dada, qual das alternativas correspondem ao desvio padrão dos dados?\n",
        "st.stdev(a)"
      ],
      "execution_count": null,
      "outputs": [
        {
          "output_type": "execute_result",
          "data": {
            "text/plain": [
              "286.3213378299494"
            ]
          },
          "metadata": {
            "tags": []
          },
          "execution_count": 9
        }
      ]
    },
    {
      "cell_type": "code",
      "metadata": {
        "colab": {
          "base_uri": "https://localhost:8080/"
        },
        "id": "v32kj2JBCmq_",
        "outputId": "acc44c89-1da0-416e-e6f2-bf3788546173"
      },
      "source": [
        "# Por fim, ainda com relação à lista de dados apresentada, é possível afirmar, sobre a moda do conjunto:\n",
        "print (a)"
      ],
      "execution_count": null,
      "outputs": [
        {
          "output_type": "stream",
          "text": [
            "[140, 300, 732, 395, 563, 118, 282, 430, 867, 910, 40, 823, 361, 321, 778, 266, 381, 887]\n"
          ],
          "name": "stdout"
        }
      ]
    },
    {
      "cell_type": "code",
      "metadata": {
        "colab": {
          "base_uri": "https://localhost:8080/"
        },
        "id": "ncRlrEpVDh4c",
        "outputId": "545786a0-975c-46e6-816c-de2e6e386ce7"
      },
      "source": [
        "# Função For para repetição:\n",
        "for i in a:\n",
        "  print (i)\n",
        "  "
      ],
      "execution_count": null,
      "outputs": [
        {
          "output_type": "stream",
          "text": [
            "140\n",
            "300\n",
            "732\n",
            "395\n",
            "563\n",
            "118\n",
            "282\n",
            "430\n",
            "867\n",
            "910\n",
            "40\n",
            "823\n",
            "361\n",
            "321\n",
            "778\n",
            "266\n",
            "381\n",
            "887\n"
          ],
          "name": "stdout"
        }
      ]
    },
    {
      "cell_type": "code",
      "metadata": {
        "colab": {
          "base_uri": "https://localhost:8080/"
        },
        "id": "DmCheNlLFJ1I",
        "outputId": "8e7034c0-f94a-4184-b42e-b54405be71ec"
      },
      "source": [
        "# Função For aplicado a valores categóricos\n",
        "palavra = 'matemática'\n",
        "\n",
        "for i in palavra:\n",
        "  print (i*10)"
      ],
      "execution_count": null,
      "outputs": [
        {
          "output_type": "stream",
          "text": [
            "mmmmmmmmmm\n",
            "aaaaaaaaaa\n",
            "tttttttttt\n",
            "eeeeeeeeee\n",
            "mmmmmmmmmm\n",
            "áááááááááá\n",
            "tttttttttt\n",
            "iiiiiiiiii\n",
            "cccccccccc\n",
            "aaaaaaaaaa\n"
          ],
          "name": "stdout"
        }
      ]
    },
    {
      "cell_type": "code",
      "metadata": {
        "colab": {
          "base_uri": "https://localhost:8080/"
        },
        "id": "7eJT74mKFg8c",
        "outputId": "79f02b85-9ec9-43ef-a465-94187f7ddc82"
      },
      "source": [
        "# Função For com uma função Range\n",
        "for i in range (2):\n",
        "  print ('Estou fazendo um loop dez vezes')"
      ],
      "execution_count": null,
      "outputs": [
        {
          "output_type": "stream",
          "text": [
            "Estou fazendo um loop dez vezes\n",
            "Estou fazendo um loop dez vezes\n"
          ],
          "name": "stdout"
        }
      ]
    },
    {
      "cell_type": "code",
      "metadata": {
        "colab": {
          "base_uri": "https://localhost:8080/"
        },
        "id": "BiiqE6Q7HkQB",
        "outputId": "80cca080-ea7d-4093-89b7-5e7c6af9851f"
      },
      "source": [
        "# Função com função Range com distinção de casas para contagem\n",
        "for i in range (0,100, 25):\n",
        "  print (i)"
      ],
      "execution_count": null,
      "outputs": [
        {
          "output_type": "stream",
          "text": [
            "0\n",
            "25\n",
            "50\n",
            "75\n"
          ],
          "name": "stdout"
        }
      ]
    },
    {
      "cell_type": "markdown",
      "metadata": {
        "id": "JlytvMxJFJsG"
      },
      "source": [
        ""
      ]
    },
    {
      "cell_type": "code",
      "metadata": {
        "colab": {
          "base_uri": "https://localhost:8080/"
        },
        "id": "A-npiO_pSl8K",
        "outputId": "fe6787a1-e63f-4e02-937a-d0964610a33e"
      },
      "source": [
        "# Usando o For para alterar valores em uma lista. Isso se chama List Comprehension. Se trata de um procecimento para \n",
        "# adicionar valores em listas conforme um certo loop\n",
        "quadrados = []\n",
        "\n",
        "for i in range (1,11):\n",
        "  quad = i**2\n",
        "  quadrados.append(quad)\n",
        "\n",
        "print (quadrados)"
      ],
      "execution_count": null,
      "outputs": [
        {
          "output_type": "stream",
          "text": [
            "[1, 4, 9, 16, 25, 36, 49, 64, 81, 100]\n"
          ],
          "name": "stdout"
        }
      ]
    },
    {
      "cell_type": "code",
      "metadata": {
        "id": "5kzY90TwTd-a"
      },
      "source": [
        "palavras = ['cachorro', 'apartamento', 'janela', 'carro', 'bola','emprego','cabana']"
      ],
      "execution_count": null,
      "outputs": []
    },
    {
      "cell_type": "code",
      "metadata": {
        "colab": {
          "base_uri": "https://localhost:8080/"
        },
        "id": "9Tth0FRoTp8k",
        "outputId": "610b219d-98b2-4a6f-ac4c-9b4473555083"
      },
      "source": [
        "# Usando o For para buscar valores específicos. Outro exemplo de List Comprehension, agora com strings.\n",
        "palavras_com_c = [] \n",
        "for i in palavras:\n",
        "  if i[0] == 'c':\n",
        "    palavras_com_c.append(i)\n",
        "\n",
        "print (palavras_com_c)"
      ],
      "execution_count": null,
      "outputs": [
        {
          "output_type": "stream",
          "text": [
            "['cachorro', 'carro', 'cabana']\n"
          ],
          "name": "stdout"
        }
      ]
    },
    {
      "cell_type": "code",
      "metadata": {
        "id": "N1UKiU-WXEq1"
      },
      "source": [
        "# Criando um dicionário\n",
        "dicionário_1 = {'Pessoa':'Felipe', 'Endereço': 'Curitiba', 'Idade': 50}"
      ],
      "execution_count": null,
      "outputs": []
    },
    {
      "cell_type": "code",
      "metadata": {
        "colab": {
          "base_uri": "https://localhost:8080/",
          "height": 35
        },
        "id": "kJmBrSbjYNsn",
        "outputId": "7d845966-348a-4e1a-e3d0-ddb705d443c3"
      },
      "source": [
        "#Usando o dicionário para encontrar valores \n",
        "dicionário_1['Endereço']"
      ],
      "execution_count": null,
      "outputs": [
        {
          "output_type": "execute_result",
          "data": {
            "application/vnd.google.colaboratory.intrinsic+json": {
              "type": "string"
            },
            "text/plain": [
              "'Curitiba'"
            ]
          },
          "metadata": {
            "tags": []
          },
          "execution_count": 52
        }
      ]
    },
    {
      "cell_type": "code",
      "metadata": {
        "id": "akVFnjyjemeo"
      },
      "source": [
        "nomes = ['Fernando','Valentina','Paula','André']\n",
        "idades = [25,32,14,65]"
      ],
      "execution_count": null,
      "outputs": []
    },
    {
      "cell_type": "code",
      "metadata": {
        "colab": {
          "base_uri": "https://localhost:8080/"
        },
        "id": "fDXg47p2fw2U",
        "outputId": "64218b0f-b267-4ce3-c7b6-aeb37beabfce"
      },
      "source": [
        "# Usando o For para fazer um zip de Listas. Pode ser usado para fazer um data frame \n",
        "for n,i in zip (nomes, idades):\n",
        "  print (n,i)"
      ],
      "execution_count": null,
      "outputs": [
        {
          "output_type": "stream",
          "text": [
            "Fernando 25\n",
            "Valentina 32\n",
            "Paula 14\n",
            "André 65\n"
          ],
          "name": "stdout"
        }
      ]
    },
    {
      "cell_type": "code",
      "metadata": {
        "colab": {
          "base_uri": "https://localhost:8080/"
        },
        "id": "aKUAFkMai7tx",
        "outputId": "ad9e66be-2325-435c-b4d8-82570175c311"
      },
      "source": [
        "#Usando o For para printar valores de várias listas\n",
        "for n,i in zip (nomes,idades):\n",
        "  print (f'{n} tem {i} anos de idade')"
      ],
      "execution_count": null,
      "outputs": [
        {
          "output_type": "stream",
          "text": [
            "Fernando tem 25 anos de idade\n",
            "Valentina tem 32 anos de idade\n",
            "Paula tem 14 anos de idade\n",
            "André tem 65 anos de idade\n"
          ],
          "name": "stdout"
        }
      ]
    }
  ]
}