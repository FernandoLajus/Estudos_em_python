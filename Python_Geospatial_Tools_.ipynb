{
  "nbformat": 4,
  "nbformat_minor": 0,
  "metadata": {
    "colab": {
      "name": "Python Geospatial Tools .ipynb",
      "provenance": [],
      "authorship_tag": "ABX9TyMVTxZViqcIBxAUjXw80LVm",
      "include_colab_link": true
    },
    "kernelspec": {
      "name": "python3",
      "display_name": "Python 3"
    },
    "language_info": {
      "name": "python"
    }
  },
  "cells": [
    {
      "cell_type": "markdown",
      "metadata": {
        "id": "view-in-github",
        "colab_type": "text"
      },
      "source": [
        "<a href=\"https://colab.research.google.com/github/FernandoLajus/Python_pd_bootcamp/blob/main/Python_Geospatial_Tools_.ipynb\" target=\"_parent\"><img src=\"https://colab.research.google.com/assets/colab-badge.svg\" alt=\"Open In Colab\"/></a>"
      ]
    },
    {
      "cell_type": "code",
      "metadata": {
        "id": "v49OSvfYd6sI"
      },
      "source": [
        ""
      ],
      "execution_count": null,
      "outputs": []
    },
    {
      "cell_type": "markdown",
      "metadata": {
        "id": "_t7xtgAWpX9e"
      },
      "source": [
        "**Algumas bibliotecas do Python para trabalhar com dados geoespaciais:**\n",
        "\n",
        "Dask (horizontal Scaling)\n",
        "\n",
        "Numba e Cuda (vertical scaling)\n",
        "\n",
        "STAC/Intak e Zarr and fsspec-refence-maker (Data access scaling (indexing big collections)\n",
        "\n",
        "Arrow (Vectoring)\n",
        "\n",
        "GeoPandas e SpatialPandas para trabalhos em geral com dados espaciais\n",
        "\n"
      ]
    },
    {
      "cell_type": "code",
      "metadata": {
        "id": "8D60iLATqOTK"
      },
      "source": [
        "!pip install geopandas"
      ],
      "execution_count": null,
      "outputs": []
    },
    {
      "cell_type": "code",
      "metadata": {
        "id": "p7NCXLVi81nW"
      },
      "source": [
        "import numpy as np\n",
        "import pandas as pd\n",
        "import geopandas as gpp"
      ],
      "execution_count": null,
      "outputs": []
    },
    {
      "cell_type": "markdown",
      "metadata": {
        "id": "VWXRgMWw5OL_"
      },
      "source": [
        "#**dask.array**\n",
        "Dask arrays coordinate many Numpy arrays, arranged into chunks within a grid. They support a large subset of the Numpy API."
      ]
    },
    {
      "cell_type": "code",
      "metadata": {
        "id": "3zCgNidW4Qpq",
        "colab": {
          "base_uri": "https://localhost:8080/",
          "height": 197
        },
        "outputId": "a115ec2f-5f5f-4613-cd7f-3f4b882211e8"
      },
      "source": [
        "import dask.array as da\n",
        "\n",
        "x = da.random.random((1000, 1000), chunks=(200, 200))\n",
        "\n",
        "x"
      ],
      "execution_count": null,
      "outputs": [
        {
          "output_type": "execute_result",
          "data": {
            "text/html": [
              "<table>\n",
              "<tr>\n",
              "<td>\n",
              "<table>\n",
              "  <thead>\n",
              "    <tr><td> </td><th> Array </th><th> Chunk </th></tr>\n",
              "  </thead>\n",
              "  <tbody>\n",
              "    <tr><th> Bytes </th><td> 8.00 MB </td> <td> 320.00 kB </td></tr>\n",
              "    <tr><th> Shape </th><td> (1000, 1000) </td> <td> (200, 200) </td></tr>\n",
              "    <tr><th> Count </th><td> 25 Tasks </td><td> 25 Chunks </td></tr>\n",
              "    <tr><th> Type </th><td> float64 </td><td> numpy.ndarray </td></tr>\n",
              "  </tbody>\n",
              "</table>\n",
              "</td>\n",
              "<td>\n",
              "<svg width=\"170\" height=\"170\" style=\"stroke:rgb(0,0,0);stroke-width:1\" >\n",
              "\n",
              "  <!-- Horizontal lines -->\n",
              "  <line x1=\"0\" y1=\"0\" x2=\"120\" y2=\"0\" style=\"stroke-width:2\" />\n",
              "  <line x1=\"0\" y1=\"24\" x2=\"120\" y2=\"24\" />\n",
              "  <line x1=\"0\" y1=\"48\" x2=\"120\" y2=\"48\" />\n",
              "  <line x1=\"0\" y1=\"72\" x2=\"120\" y2=\"72\" />\n",
              "  <line x1=\"0\" y1=\"96\" x2=\"120\" y2=\"96\" />\n",
              "  <line x1=\"0\" y1=\"120\" x2=\"120\" y2=\"120\" style=\"stroke-width:2\" />\n",
              "\n",
              "  <!-- Vertical lines -->\n",
              "  <line x1=\"0\" y1=\"0\" x2=\"0\" y2=\"120\" style=\"stroke-width:2\" />\n",
              "  <line x1=\"24\" y1=\"0\" x2=\"24\" y2=\"120\" />\n",
              "  <line x1=\"48\" y1=\"0\" x2=\"48\" y2=\"120\" />\n",
              "  <line x1=\"72\" y1=\"0\" x2=\"72\" y2=\"120\" />\n",
              "  <line x1=\"96\" y1=\"0\" x2=\"96\" y2=\"120\" />\n",
              "  <line x1=\"120\" y1=\"0\" x2=\"120\" y2=\"120\" style=\"stroke-width:2\" />\n",
              "\n",
              "  <!-- Colored Rectangle -->\n",
              "  <polygon points=\"0.000000,0.000000 120.000000,0.000000 120.000000,120.000000 0.000000,120.000000\" style=\"fill:#ECB172A0;stroke-width:0\"/>\n",
              "\n",
              "  <!-- Text -->\n",
              "  <text x=\"60.000000\" y=\"140.000000\" font-size=\"1.0rem\" font-weight=\"100\" text-anchor=\"middle\" >1000</text>\n",
              "  <text x=\"140.000000\" y=\"60.000000\" font-size=\"1.0rem\" font-weight=\"100\" text-anchor=\"middle\" transform=\"rotate(-90,140.000000,60.000000)\">1000</text>\n",
              "</svg>\n",
              "</td>\n",
              "</tr>\n",
              "</table>"
            ],
            "text/plain": [
              "dask.array<random_sample, shape=(1000, 1000), dtype=float64, chunksize=(200, 200), chunktype=numpy.ndarray>"
            ]
          },
          "metadata": {},
          "execution_count": 20
        }
      ]
    },
    {
      "cell_type": "code",
      "metadata": {
        "id": "vVv6wcRB4bkd",
        "colab": {
          "base_uri": "https://localhost:8080/",
          "height": 130
        },
        "outputId": "11a8bec4-4637-4793-b2bd-76186853583c"
      },
      "source": [
        "summed= x.sum(axis=1)\n",
        "summed"
      ],
      "execution_count": null,
      "outputs": [
        {
          "output_type": "execute_result",
          "data": {
            "text/html": [
              "<table>\n",
              "<tr>\n",
              "<td>\n",
              "<table>\n",
              "  <thead>\n",
              "    <tr><td> </td><th> Array </th><th> Chunk </th></tr>\n",
              "  </thead>\n",
              "  <tbody>\n",
              "    <tr><th> Bytes </th><td> 8.00 kB </td> <td> 1.60 kB </td></tr>\n",
              "    <tr><th> Shape </th><td> (1000,) </td> <td> (200,) </td></tr>\n",
              "    <tr><th> Count </th><td> 65 Tasks </td><td> 5 Chunks </td></tr>\n",
              "    <tr><th> Type </th><td> float64 </td><td> numpy.ndarray </td></tr>\n",
              "  </tbody>\n",
              "</table>\n",
              "</td>\n",
              "<td>\n",
              "<svg width=\"170\" height=\"75\" style=\"stroke:rgb(0,0,0);stroke-width:1\" >\n",
              "\n",
              "  <!-- Horizontal lines -->\n",
              "  <line x1=\"0\" y1=\"0\" x2=\"120\" y2=\"0\" style=\"stroke-width:2\" />\n",
              "  <line x1=\"0\" y1=\"25\" x2=\"120\" y2=\"25\" style=\"stroke-width:2\" />\n",
              "\n",
              "  <!-- Vertical lines -->\n",
              "  <line x1=\"0\" y1=\"0\" x2=\"0\" y2=\"25\" style=\"stroke-width:2\" />\n",
              "  <line x1=\"24\" y1=\"0\" x2=\"24\" y2=\"25\" />\n",
              "  <line x1=\"48\" y1=\"0\" x2=\"48\" y2=\"25\" />\n",
              "  <line x1=\"72\" y1=\"0\" x2=\"72\" y2=\"25\" />\n",
              "  <line x1=\"96\" y1=\"0\" x2=\"96\" y2=\"25\" />\n",
              "  <line x1=\"120\" y1=\"0\" x2=\"120\" y2=\"25\" style=\"stroke-width:2\" />\n",
              "\n",
              "  <!-- Colored Rectangle -->\n",
              "  <polygon points=\"0.000000,0.000000 120.000000,0.000000 120.000000,25.412617 0.000000,25.412617\" style=\"fill:#ECB172A0;stroke-width:0\"/>\n",
              "\n",
              "  <!-- Text -->\n",
              "  <text x=\"60.000000\" y=\"45.412617\" font-size=\"1.0rem\" font-weight=\"100\" text-anchor=\"middle\" >1000</text>\n",
              "  <text x=\"140.000000\" y=\"12.706308\" font-size=\"1.0rem\" font-weight=\"100\" text-anchor=\"middle\" transform=\"rotate(0,140.000000,12.706308)\">1</text>\n",
              "</svg>\n",
              "</td>\n",
              "</tr>\n",
              "</table>"
            ],
            "text/plain": [
              "dask.array<sum-aggregate, shape=(1000,), dtype=float64, chunksize=(200,), chunktype=numpy.ndarray>"
            ]
          },
          "metadata": {},
          "execution_count": 28
        }
      ]
    },
    {
      "cell_type": "markdown",
      "metadata": {
        "id": "so80Osc45ELn"
      },
      "source": [
        "#**Geopandas**\n",
        "\n",
        "GeoPandas is an open source project to make working with geospatial data in python easier. GeoPandas extends the datatypes used by pandas to allow spatial operations on geometric types. Geometric operations are performed by shapely. Geopandas further depends on fiona for file access and matplotlib for plotting.\n",
        "\n",
        "Documentation\n",
        "GitHub"
      ]
    },
    {
      "cell_type": "code",
      "metadata": {
        "id": "kqvmMJMH6R3S",
        "colab": {
          "base_uri": "https://localhost:8080/",
          "height": 419
        },
        "outputId": "2e26342c-21e7-4c6f-9aff-60fe70b7a68a"
      },
      "source": [
        "url = \"http://d2ad6b4ur7yvpq.cloudfront.net/naturalearth-3.3.0/ne_110m_land.geojson\"\n",
        "gdf = gpd.read_file(url)\n",
        "\n",
        "gdf"
      ],
      "execution_count": null,
      "outputs": [
        {
          "output_type": "execute_result",
          "data": {
            "text/html": [
              "<div>\n",
              "<style scoped>\n",
              "    .dataframe tbody tr th:only-of-type {\n",
              "        vertical-align: middle;\n",
              "    }\n",
              "\n",
              "    .dataframe tbody tr th {\n",
              "        vertical-align: top;\n",
              "    }\n",
              "\n",
              "    .dataframe thead th {\n",
              "        text-align: right;\n",
              "    }\n",
              "</style>\n",
              "<table border=\"1\" class=\"dataframe\">\n",
              "  <thead>\n",
              "    <tr style=\"text-align: right;\">\n",
              "      <th></th>\n",
              "      <th>scalerank</th>\n",
              "      <th>featureclass</th>\n",
              "      <th>geometry</th>\n",
              "    </tr>\n",
              "  </thead>\n",
              "  <tbody>\n",
              "    <tr>\n",
              "      <th>0</th>\n",
              "      <td>1</td>\n",
              "      <td>Country</td>\n",
              "      <td>POLYGON ((-59.57209 -80.04018, -59.86585 -80.5...</td>\n",
              "    </tr>\n",
              "    <tr>\n",
              "      <th>1</th>\n",
              "      <td>1</td>\n",
              "      <td>Country</td>\n",
              "      <td>POLYGON ((-159.20818 -79.49706, -161.12760 -79...</td>\n",
              "    </tr>\n",
              "    <tr>\n",
              "      <th>2</th>\n",
              "      <td>1</td>\n",
              "      <td>Country</td>\n",
              "      <td>POLYGON ((-45.15476 -78.04707, -43.92083 -78.4...</td>\n",
              "    </tr>\n",
              "    <tr>\n",
              "      <th>3</th>\n",
              "      <td>1</td>\n",
              "      <td>Country</td>\n",
              "      <td>POLYGON ((-121.21151 -73.50099, -119.91885 -73...</td>\n",
              "    </tr>\n",
              "    <tr>\n",
              "      <th>4</th>\n",
              "      <td>1</td>\n",
              "      <td>Country</td>\n",
              "      <td>POLYGON ((-125.55957 -73.48135, -124.03188 -73...</td>\n",
              "    </tr>\n",
              "    <tr>\n",
              "      <th>...</th>\n",
              "      <td>...</td>\n",
              "      <td>...</td>\n",
              "      <td>...</td>\n",
              "    </tr>\n",
              "    <tr>\n",
              "      <th>122</th>\n",
              "      <td>1</td>\n",
              "      <td>Country</td>\n",
              "      <td>POLYGON ((51.13619 80.54728, 49.79368 80.41543...</td>\n",
              "    </tr>\n",
              "    <tr>\n",
              "      <th>123</th>\n",
              "      <td>1</td>\n",
              "      <td>Country</td>\n",
              "      <td>POLYGON ((99.93976 78.88094, 97.75794 78.75620...</td>\n",
              "    </tr>\n",
              "    <tr>\n",
              "      <th>124</th>\n",
              "      <td>1</td>\n",
              "      <td>Country</td>\n",
              "      <td>POLYGON ((-87.02000 79.66000, -85.81435 79.336...</td>\n",
              "    </tr>\n",
              "    <tr>\n",
              "      <th>125</th>\n",
              "      <td>1</td>\n",
              "      <td>Country</td>\n",
              "      <td>POLYGON ((-68.50000 83.10632, -65.82735 83.028...</td>\n",
              "    </tr>\n",
              "    <tr>\n",
              "      <th>126</th>\n",
              "      <td>1</td>\n",
              "      <td>Country</td>\n",
              "      <td>POLYGON ((-27.10046 83.51966, -20.84539 82.726...</td>\n",
              "    </tr>\n",
              "  </tbody>\n",
              "</table>\n",
              "<p>127 rows × 3 columns</p>\n",
              "</div>"
            ],
            "text/plain": [
              "     scalerank featureclass                                           geometry\n",
              "0            1      Country  POLYGON ((-59.57209 -80.04018, -59.86585 -80.5...\n",
              "1            1      Country  POLYGON ((-159.20818 -79.49706, -161.12760 -79...\n",
              "2            1      Country  POLYGON ((-45.15476 -78.04707, -43.92083 -78.4...\n",
              "3            1      Country  POLYGON ((-121.21151 -73.50099, -119.91885 -73...\n",
              "4            1      Country  POLYGON ((-125.55957 -73.48135, -124.03188 -73...\n",
              "..         ...          ...                                                ...\n",
              "122          1      Country  POLYGON ((51.13619 80.54728, 49.79368 80.41543...\n",
              "123          1      Country  POLYGON ((99.93976 78.88094, 97.75794 78.75620...\n",
              "124          1      Country  POLYGON ((-87.02000 79.66000, -85.81435 79.336...\n",
              "125          1      Country  POLYGON ((-68.50000 83.10632, -65.82735 83.028...\n",
              "126          1      Country  POLYGON ((-27.10046 83.51966, -20.84539 82.726...\n",
              "\n",
              "[127 rows x 3 columns]"
            ]
          },
          "metadata": {},
          "execution_count": 38
        }
      ]
    },
    {
      "cell_type": "code",
      "metadata": {
        "id": "SSTnS1IJ7wtY",
        "colab": {
          "base_uri": "https://localhost:8080/",
          "height": 121
        },
        "outputId": "60a07360-2568-4f5b-bf23-e7a822c788e5"
      },
      "source": [
        "gdf.geometry.iloc[30]"
      ],
      "execution_count": null,
      "outputs": [
        {
          "output_type": "execute_result",
          "data": {
            "text/plain": [
              "<shapely.geometry.polygon.Polygon at 0x7f338ac3ff90>"
            ],
            "image/svg+xml": "<svg xmlns=\"http://www.w3.org/2000/svg\" xmlns:xlink=\"http://www.w3.org/1999/xlink\" width=\"100.0\" height=\"100.0\" viewBox=\"156.4494751487474 -7.4466500626965715 1.1308333007857527 0.889194303389008\" preserveAspectRatio=\"xMinYMin meet\"><g transform=\"matrix(1,0,0,-1,0,-14.004105822004135)\"><path fill-rule=\"evenodd\" fill=\"#66cc99\" stroke=\"#555555\" stroke-width=\"0.022616666015715055\" opacity=\"0.6\" d=\"M 157.53842573468924,-7.347819919466943 L 157.33941979393327,-7.404767347852655 L 156.90203047101485,-7.176874281445407 L 156.49135786359133,-6.765943291860495 L 156.54282759015402,-6.59933847415148 L 157.1400004417189,-7.021638278840655 L 157.53842573468924,-7.347819919466943 z\" /></g></svg>"
          },
          "metadata": {},
          "execution_count": 40
        }
      ]
    },
    {
      "cell_type": "markdown",
      "metadata": {
        "id": "5gmTI2WX75Fp"
      },
      "source": [
        "However, underlying this is a GeometryArray class:"
      ]
    },
    {
      "cell_type": "code",
      "metadata": {
        "id": "NNWEnFzX76ma",
        "colab": {
          "base_uri": "https://localhost:8080/"
        },
        "outputId": "dfe53a19-b5a4-4970-ae61-9c48fc1cc0d3"
      },
      "source": [
        "type(gdf.geometry.values)"
      ],
      "execution_count": null,
      "outputs": [
        {
          "output_type": "execute_result",
          "data": {
            "text/plain": [
              "geopandas.array.GeometryArray"
            ]
          },
          "metadata": {},
          "execution_count": 41
        }
      ]
    },
    {
      "cell_type": "markdown",
      "metadata": {
        "id": "NRp3d25B8BP5"
      },
      "source": [
        "which stores pointers to GEOS objects:"
      ]
    },
    {
      "cell_type": "code",
      "metadata": {
        "id": "vseIRStP8B3N",
        "colab": {
          "base_uri": "https://localhost:8080/"
        },
        "outputId": "22643f84-f170-46ed-ec08-6db2bdb8d4a3"
      },
      "source": [
        "gdf.geometry.values.data[:1]"
      ],
      "execution_count": null,
      "outputs": [
        {
          "output_type": "execute_result",
          "data": {
            "text/plain": [
              "array([<shapely.geometry.polygon.Polygon object at 0x7f3383765cd0>],\n",
              "      dtype=object)"
            ]
          },
          "metadata": {},
          "execution_count": 44
        }
      ]
    },
    {
      "cell_type": "code",
      "metadata": {
        "id": "Lc0JeB4B8bWr",
        "colab": {
          "base_uri": "https://localhost:8080/",
          "height": 1000
        },
        "outputId": "ce2768b5-a34d-4466-d71f-62cc1d42b517"
      },
      "source": [
        "!pip install spatialpandas"
      ],
      "execution_count": null,
      "outputs": [
        {
          "output_type": "stream",
          "name": "stdout",
          "text": [
            "Collecting spatialpandas\n",
            "  Downloading spatialpandas-0.4.3-py2.py3-none-any.whl (78 kB)\n",
            "\u001b[?25l\r\u001b[K     |████▏                           | 10 kB 18.6 MB/s eta 0:00:01\r\u001b[K     |████████▍                       | 20 kB 25.1 MB/s eta 0:00:01\r\u001b[K     |████████████▋                   | 30 kB 29.4 MB/s eta 0:00:01\r\u001b[K     |████████████████▉               | 40 kB 33.5 MB/s eta 0:00:01\r\u001b[K     |█████████████████████           | 51 kB 8.9 MB/s eta 0:00:01\r\u001b[K     |█████████████████████████▏      | 61 kB 10.2 MB/s eta 0:00:01\r\u001b[K     |█████████████████████████████▍  | 71 kB 8.6 MB/s eta 0:00:01\r\u001b[K     |████████████████████████████████| 78 kB 3.6 MB/s \n",
            "\u001b[?25hRequirement already satisfied: numpy in /usr/local/lib/python3.7/dist-packages (from spatialpandas) (1.19.5)\n",
            "Requirement already satisfied: retrying in /usr/local/lib/python3.7/dist-packages (from spatialpandas) (1.3.3)\n",
            "Requirement already satisfied: pandas>=0.25 in /usr/local/lib/python3.7/dist-packages (from spatialpandas) (1.1.5)\n",
            "Requirement already satisfied: dask[complete]>=2.0 in /usr/local/lib/python3.7/dist-packages (from spatialpandas) (2.12.0)\n",
            "Requirement already satisfied: param in /usr/local/lib/python3.7/dist-packages (from spatialpandas) (1.11.1)\n",
            "Requirement already satisfied: numba in /usr/local/lib/python3.7/dist-packages (from spatialpandas) (0.51.2)\n",
            "Collecting fsspec\n",
            "  Downloading fsspec-2021.8.1-py3-none-any.whl (119 kB)\n",
            "\u001b[K     |████████████████████████████████| 119 kB 17.8 MB/s \n",
            "\u001b[?25hRequirement already satisfied: pyarrow>=1.0 in /usr/local/lib/python3.7/dist-packages (from spatialpandas) (3.0.0)\n",
            "Collecting python-snappy\n",
            "  Downloading python_snappy-0.6.0-cp37-cp37m-manylinux2010_x86_64.whl (55 kB)\n",
            "\u001b[K     |████████████████████████████████| 55 kB 3.3 MB/s \n",
            "\u001b[?25hRequirement already satisfied: PyYaml in /usr/local/lib/python3.7/dist-packages (from dask[complete]>=2.0->spatialpandas) (3.13)\n",
            "Requirement already satisfied: cloudpickle>=0.2.1 in /usr/local/lib/python3.7/dist-packages (from dask[complete]>=2.0->spatialpandas) (1.3.0)\n",
            "Collecting partd>=0.3.10\n",
            "  Downloading partd-1.2.0-py3-none-any.whl (19 kB)\n",
            "Requirement already satisfied: bokeh>=1.0.0 in /usr/local/lib/python3.7/dist-packages (from dask[complete]>=2.0->spatialpandas) (2.3.3)\n",
            "Requirement already satisfied: toolz>=0.7.3 in /usr/local/lib/python3.7/dist-packages (from dask[complete]>=2.0->spatialpandas) (0.11.1)\n",
            "Collecting distributed>=2.0\n",
            "  Downloading distributed-2021.9.0-py3-none-any.whl (779 kB)\n",
            "\u001b[K     |████████████████████████████████| 779 kB 27.6 MB/s \n",
            "\u001b[?25hRequirement already satisfied: tornado>=5.1 in /usr/local/lib/python3.7/dist-packages (from bokeh>=1.0.0->dask[complete]>=2.0->spatialpandas) (5.1.1)\n",
            "Requirement already satisfied: typing-extensions>=3.7.4 in /usr/local/lib/python3.7/dist-packages (from bokeh>=1.0.0->dask[complete]>=2.0->spatialpandas) (3.7.4.3)\n",
            "Requirement already satisfied: python-dateutil>=2.1 in /usr/local/lib/python3.7/dist-packages (from bokeh>=1.0.0->dask[complete]>=2.0->spatialpandas) (2.8.2)\n",
            "Requirement already satisfied: packaging>=16.8 in /usr/local/lib/python3.7/dist-packages (from bokeh>=1.0.0->dask[complete]>=2.0->spatialpandas) (21.0)\n",
            "Requirement already satisfied: Jinja2>=2.9 in /usr/local/lib/python3.7/dist-packages (from bokeh>=1.0.0->dask[complete]>=2.0->spatialpandas) (2.11.3)\n",
            "Requirement already satisfied: pillow>=7.1.0 in /usr/local/lib/python3.7/dist-packages (from bokeh>=1.0.0->dask[complete]>=2.0->spatialpandas) (7.1.2)\n",
            "Requirement already satisfied: psutil>=5.0 in /usr/local/lib/python3.7/dist-packages (from distributed>=2.0->dask[complete]>=2.0->spatialpandas) (5.4.8)\n",
            "Requirement already satisfied: sortedcontainers!=2.0.0,!=2.0.1 in /usr/local/lib/python3.7/dist-packages (from distributed>=2.0->dask[complete]>=2.0->spatialpandas) (2.4.0)\n",
            "Collecting cloudpickle>=0.2.1\n",
            "  Downloading cloudpickle-2.0.0-py3-none-any.whl (25 kB)\n",
            "Requirement already satisfied: tblib>=1.6.0 in /usr/local/lib/python3.7/dist-packages (from distributed>=2.0->dask[complete]>=2.0->spatialpandas) (1.7.0)\n",
            "Requirement already satisfied: click>=6.6 in /usr/local/lib/python3.7/dist-packages (from distributed>=2.0->dask[complete]>=2.0->spatialpandas) (7.1.2)\n",
            "Requirement already satisfied: setuptools in /usr/local/lib/python3.7/dist-packages (from distributed>=2.0->dask[complete]>=2.0->spatialpandas) (57.4.0)\n",
            "Requirement already satisfied: msgpack>=0.6.0 in /usr/local/lib/python3.7/dist-packages (from distributed>=2.0->dask[complete]>=2.0->spatialpandas) (1.0.2)\n",
            "Collecting distributed>=2.0\n",
            "  Downloading distributed-2021.8.1-py3-none-any.whl (778 kB)\n",
            "\u001b[K     |████████████████████████████████| 778 kB 47.4 MB/s \n",
            "\u001b[?25h  Downloading distributed-2021.8.0-py3-none-any.whl (776 kB)\n",
            "\u001b[K     |████████████████████████████████| 776 kB 50.0 MB/s \n",
            "\u001b[?25h  Downloading distributed-2021.7.2-py3-none-any.whl (769 kB)\n",
            "\u001b[K     |████████████████████████████████| 769 kB 54.2 MB/s \n",
            "\u001b[?25hRequirement already satisfied: zict>=0.1.3 in /usr/local/lib/python3.7/dist-packages (from distributed>=2.0->dask[complete]>=2.0->spatialpandas) (2.0.0)\n",
            "  Downloading distributed-2021.7.1-py3-none-any.whl (766 kB)\n",
            "\u001b[K     |████████████████████████████████| 766 kB 63.5 MB/s \n",
            "\u001b[?25h  Downloading distributed-2021.7.0-py3-none-any.whl (1.0 MB)\n",
            "\u001b[K     |████████████████████████████████| 1.0 MB 65.6 MB/s \n",
            "\u001b[?25h  Downloading distributed-2021.6.2-py3-none-any.whl (722 kB)\n",
            "\u001b[K     |████████████████████████████████| 722 kB 52.2 MB/s \n",
            "\u001b[?25h  Downloading distributed-2021.6.1-py3-none-any.whl (722 kB)\n",
            "\u001b[K     |████████████████████████████████| 722 kB 65.1 MB/s \n",
            "\u001b[?25h  Downloading distributed-2021.6.0-py3-none-any.whl (715 kB)\n",
            "\u001b[K     |████████████████████████████████| 715 kB 53.1 MB/s \n",
            "\u001b[?25h  Downloading distributed-2021.5.1-py3-none-any.whl (705 kB)\n",
            "\u001b[K     |████████████████████████████████| 705 kB 50.8 MB/s \n",
            "\u001b[?25h  Downloading distributed-2021.5.0-py3-none-any.whl (699 kB)\n",
            "\u001b[K     |████████████████████████████████| 699 kB 48.4 MB/s \n",
            "\u001b[?25h  Downloading distributed-2021.4.1-py3-none-any.whl (696 kB)\n",
            "\u001b[K     |████████████████████████████████| 696 kB 35.8 MB/s \n",
            "\u001b[?25h  Downloading distributed-2021.4.0-py3-none-any.whl (684 kB)\n",
            "\u001b[K     |████████████████████████████████| 684 kB 52.9 MB/s \n",
            "\u001b[?25h  Downloading distributed-2021.3.1-py3-none-any.whl (679 kB)\n",
            "\u001b[K     |████████████████████████████████| 679 kB 53.8 MB/s \n",
            "\u001b[?25h  Downloading distributed-2021.3.0-py3-none-any.whl (675 kB)\n",
            "\u001b[K     |████████████████████████████████| 675 kB 47.8 MB/s \n",
            "\u001b[?25h  Downloading distributed-2021.2.0-py3-none-any.whl (675 kB)\n",
            "\u001b[K     |████████████████████████████████| 675 kB 55.8 MB/s \n",
            "\u001b[?25h  Downloading distributed-2021.1.1-py3-none-any.whl (672 kB)\n",
            "\u001b[K     |████████████████████████████████| 672 kB 55.3 MB/s \n",
            "\u001b[?25h  Downloading distributed-2021.1.0-py3-none-any.whl (671 kB)\n",
            "\u001b[K     |████████████████████████████████| 671 kB 42.6 MB/s \n",
            "\u001b[?25h  Downloading distributed-2020.12.0-py3-none-any.whl (669 kB)\n",
            "\u001b[K     |████████████████████████████████| 669 kB 55.1 MB/s \n",
            "\u001b[?25h  Downloading distributed-2.30.1-py3-none-any.whl (656 kB)\n",
            "\u001b[K     |████████████████████████████████| 656 kB 57.4 MB/s \n",
            "\u001b[?25hRequirement already satisfied: MarkupSafe>=0.23 in /usr/local/lib/python3.7/dist-packages (from Jinja2>=2.9->bokeh>=1.0.0->dask[complete]>=2.0->spatialpandas) (2.0.1)\n",
            "Requirement already satisfied: pyparsing>=2.0.2 in /usr/local/lib/python3.7/dist-packages (from packaging>=16.8->bokeh>=1.0.0->dask[complete]>=2.0->spatialpandas) (2.4.7)\n",
            "Requirement already satisfied: pytz>=2017.2 in /usr/local/lib/python3.7/dist-packages (from pandas>=0.25->spatialpandas) (2018.9)\n",
            "Collecting locket\n",
            "  Downloading locket-0.2.1-py2.py3-none-any.whl (4.1 kB)\n",
            "Requirement already satisfied: six>=1.5 in /usr/local/lib/python3.7/dist-packages (from python-dateutil>=2.1->bokeh>=1.0.0->dask[complete]>=2.0->spatialpandas) (1.15.0)\n",
            "Requirement already satisfied: heapdict in /usr/local/lib/python3.7/dist-packages (from zict>=0.1.3->distributed>=2.0->dask[complete]>=2.0->spatialpandas) (1.0.1)\n",
            "Requirement already satisfied: llvmlite<0.35,>=0.34.0.dev0 in /usr/local/lib/python3.7/dist-packages (from numba->spatialpandas) (0.34.0)\n",
            "Installing collected packages: locket, cloudpickle, partd, fsspec, distributed, python-snappy, spatialpandas\n",
            "  Attempting uninstall: cloudpickle\n",
            "    Found existing installation: cloudpickle 1.3.0\n",
            "    Uninstalling cloudpickle-1.3.0:\n",
            "      Successfully uninstalled cloudpickle-1.3.0\n",
            "  Attempting uninstall: distributed\n",
            "    Found existing installation: distributed 1.25.3\n",
            "    Uninstalling distributed-1.25.3:\n",
            "      Successfully uninstalled distributed-1.25.3\n",
            "\u001b[31mERROR: pip's dependency resolver does not currently take into account all the packages that are installed. This behaviour is the source of the following dependency conflicts.\n",
            "gym 0.17.3 requires cloudpickle<1.7.0,>=1.2.0, but you have cloudpickle 2.0.0 which is incompatible.\u001b[0m\n",
            "Successfully installed cloudpickle-2.0.0 distributed-2.30.1 fsspec-2021.8.1 locket-0.2.1 partd-1.2.0 python-snappy-0.6.0 spatialpandas-0.4.3\n"
          ]
        },
        {
          "output_type": "display_data",
          "data": {
            "application/vnd.colab-display-data+json": {
              "pip_warning": {
                "packages": [
                  "cloudpickle"
                ]
              }
            }
          },
          "metadata": {}
        }
      ]
    }
  ]
}