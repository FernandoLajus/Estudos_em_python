{
  "nbformat": 4,
  "nbformat_minor": 0,
  "metadata": {
    "colab": {
      "name": "BootcampV2.ipynb",
      "provenance": [],
      "authorship_tag": "ABX9TyOcjcIAQQfQOhBQdbSbc4Kh",
      "include_colab_link": true
    },
    "kernelspec": {
      "name": "python3",
      "display_name": "Python 3"
    },
    "language_info": {
      "name": "python"
    }
  },
  "cells": [
    {
      "cell_type": "markdown",
      "metadata": {
        "id": "view-in-github",
        "colab_type": "text"
      },
      "source": [
        "<a href=\"https://colab.research.google.com/github/FernandoLajus/Python_pd_bootcamp/blob/main/Bootcamp_V2.ipynb\" target=\"_parent\"><img src=\"https://colab.research.google.com/assets/colab-badge.svg\" alt=\"Open In Colab\"/></a>"
      ]
    },
    {
      "cell_type": "code",
      "metadata": {
        "id": "z7ZNqgDGdG2O"
      },
      "source": [
        "import pandas as pd\n",
        "from string import ascii_uppercase as au\n",
        "from string import ascii_lowervcase as  al"
      ],
      "execution_count": 3,
      "outputs": []
    },
    {
      "cell_type": "code",
      "metadata": {
        "colab": {
          "base_uri": "https://localhost:8080/"
        },
        "id": "Cj8vdLKKdmy9",
        "outputId": "a5052cb3-e4b0-4b26-c66e-4cb856210d1b"
      },
      "source": [
        "pd_al = pd.Series(data=list(al), index= map(lambda x:'Label_' + x, list(au)))\n",
        "pd_al [0:5]"
      ],
      "execution_count": 5,
      "outputs": [
        {
          "output_type": "execute_result",
          "data": {
            "text/plain": [
              "Label_A    a\n",
              "Label_B    b\n",
              "Label_C    c\n",
              "Label_D    d\n",
              "Label_E    e\n",
              "dtype: object"
            ]
          },
          "metadata": {},
          "execution_count": 5
        }
      ]
    },
    {
      "cell_type": "code",
      "metadata": {
        "id": "urKu-5jVdoKJ"
      },
      "source": [
        "def cada_cinco (x):\n",
        "    return [True if (i+1)%5 == 0 else False for i in range(x.size)]"
      ],
      "execution_count": 6,
      "outputs": []
    },
    {
      "cell_type": "code",
      "metadata": {
        "colab": {
          "base_uri": "https://localhost:8080/"
        },
        "id": "2v-C75zvdo2B",
        "outputId": "b005d443-5b58-4265-a1b8-9b2b48a48cf1"
      },
      "source": [
        "pd_al.iloc[cada_cinco]"
      ],
      "execution_count": 7,
      "outputs": [
        {
          "output_type": "execute_result",
          "data": {
            "text/plain": [
              "Label_E    e\n",
              "Label_J    j\n",
              "Label_O    o\n",
              "Label_T    t\n",
              "Label_Y    y\n",
              "dtype: object"
            ]
          },
          "metadata": {},
          "execution_count": 7
        }
      ]
    },
    {
      "cell_type": "code",
      "metadata": {
        "id": "qNtSfn1cd7ZR"
      },
      "source": [
        ""
      ],
      "execution_count": null,
      "outputs": []
    },
    {
      "cell_type": "code",
      "metadata": {
        "id": "qIaTP0V-d7pl"
      },
      "source": [
        ""
      ],
      "execution_count": null,
      "outputs": []
    },
    {
      "cell_type": "code",
      "metadata": {
        "id": "CQVIdEvLdo8R"
      },
      "source": [
        ""
      ],
      "execution_count": null,
      "outputs": []
    }
  ]
}