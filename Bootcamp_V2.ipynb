{
  "nbformat": 4,
  "nbformat_minor": 0,
  "metadata": {
    "colab": {
      "name": "BootcampV2.ipynb",
      "provenance": [],
      "authorship_tag": "ABX9TyPCQvsPVRabinOjCnPbKcyA",
      "include_colab_link": true
    },
    "kernelspec": {
      "name": "python3",
      "display_name": "Python 3"
    },
    "language_info": {
      "name": "python"
    }
  },
  "cells": [
    {
      "cell_type": "markdown",
      "metadata": {
        "id": "view-in-github",
        "colab_type": "text"
      },
      "source": [
        "<a href=\"https://colab.research.google.com/github/FernandoLajus/Python_pd_bootcamp/blob/main/Bootcamp_V2.ipynb\" target=\"_parent\"><img src=\"https://colab.research.google.com/assets/colab-badge.svg\" alt=\"Open In Colab\"/></a>"
      ]
    },
    {
      "cell_type": "markdown",
      "metadata": {
        "id": "nZGyNg-xlLvZ"
      },
      "source": [
        "**Series Methods and Handling**"
      ]
    },
    {
      "cell_type": "code",
      "metadata": {
        "id": "up0DBlLGlLXa"
      },
      "source": [
        "import pandas as pd"
      ],
      "execution_count": 1,
      "outputs": []
    },
    {
      "cell_type": "code",
      "metadata": {
        "id": "u-UrCX16TDJz"
      },
      "source": [
        "path = 'drinks.csv'   "
      ],
      "execution_count": 2,
      "outputs": []
    },
    {
      "cell_type": "code",
      "metadata": {
        "colab": {
          "base_uri": "https://localhost:8080/",
          "height": 204
        },
        "id": "qrL-jKobTDZP",
        "outputId": "3fb22a6c-1d6c-4c0d-f763-2e6e7d707c92"
      },
      "source": [
        "# O método 'read_csv' tem diversos parâmetros. Uso alguns deles nos blocos seguintes\n",
        "pd_drinks = pd.read_csv(path)\n",
        "pd_drinks.head()"
      ],
      "execution_count": 11,
      "outputs": [
        {
          "output_type": "execute_result",
          "data": {
            "text/html": [
              "<div>\n",
              "<style scoped>\n",
              "    .dataframe tbody tr th:only-of-type {\n",
              "        vertical-align: middle;\n",
              "    }\n",
              "\n",
              "    .dataframe tbody tr th {\n",
              "        vertical-align: top;\n",
              "    }\n",
              "\n",
              "    .dataframe thead th {\n",
              "        text-align: right;\n",
              "    }\n",
              "</style>\n",
              "<table border=\"1\" class=\"dataframe\">\n",
              "  <thead>\n",
              "    <tr style=\"text-align: right;\">\n",
              "      <th></th>\n",
              "      <th>country</th>\n",
              "      <th>beer_servings</th>\n",
              "      <th>spirit_servings</th>\n",
              "      <th>wine_servings</th>\n",
              "      <th>total_litres_of_pure_alcohol</th>\n",
              "    </tr>\n",
              "  </thead>\n",
              "  <tbody>\n",
              "    <tr>\n",
              "      <th>0</th>\n",
              "      <td>Afghanistan</td>\n",
              "      <td>NaN</td>\n",
              "      <td>NaN</td>\n",
              "      <td>NaN</td>\n",
              "      <td>NaN</td>\n",
              "    </tr>\n",
              "    <tr>\n",
              "      <th>1</th>\n",
              "      <td>Albania</td>\n",
              "      <td>89.0</td>\n",
              "      <td>132.0</td>\n",
              "      <td>54.0</td>\n",
              "      <td>4.9</td>\n",
              "    </tr>\n",
              "    <tr>\n",
              "      <th>2</th>\n",
              "      <td>Algeria</td>\n",
              "      <td>25.0</td>\n",
              "      <td>NaN</td>\n",
              "      <td>14.0</td>\n",
              "      <td>0.7</td>\n",
              "    </tr>\n",
              "    <tr>\n",
              "      <th>3</th>\n",
              "      <td>Andorra</td>\n",
              "      <td>245.0</td>\n",
              "      <td>138.0</td>\n",
              "      <td>312.0</td>\n",
              "      <td>12.4</td>\n",
              "    </tr>\n",
              "    <tr>\n",
              "      <th>4</th>\n",
              "      <td>Angola</td>\n",
              "      <td>217.0</td>\n",
              "      <td>57.0</td>\n",
              "      <td>45.0</td>\n",
              "      <td>5.9</td>\n",
              "    </tr>\n",
              "  </tbody>\n",
              "</table>\n",
              "</div>"
            ],
            "text/plain": [
              "       country  beer_servings  ...  wine_servings  total_litres_of_pure_alcohol\n",
              "0  Afghanistan            NaN  ...            NaN                           NaN\n",
              "1      Albania           89.0  ...           54.0                           4.9\n",
              "2      Algeria           25.0  ...           14.0                           0.7\n",
              "3      Andorra          245.0  ...          312.0                          12.4\n",
              "4       Angola          217.0  ...           45.0                           5.9\n",
              "\n",
              "[5 rows x 5 columns]"
            ]
          },
          "metadata": {},
          "execution_count": 11
        }
      ]
    },
    {
      "cell_type": "code",
      "metadata": {
        "colab": {
          "base_uri": "https://localhost:8080/"
        },
        "id": "2VHe99ygTDgP",
        "outputId": "2196b8a7-c141-4f0a-b0e4-0cf01834fdfb"
      },
      "source": [
        "pd_drinks.shape"
      ],
      "execution_count": 12,
      "outputs": [
        {
          "output_type": "execute_result",
          "data": {
            "text/plain": [
              "(193, 5)"
            ]
          },
          "metadata": {},
          "execution_count": 12
        }
      ]
    },
    {
      "cell_type": "code",
      "metadata": {
        "id": "7JjG-0BqTDlx"
      },
      "source": [
        "# Aqui uso alguns parâmetros diferentes do método 'read_csv'\n",
        "pd_total_litres = pd.read_csv(path,index_col=['country'],usecols=['country','total_litres_of_pure_alcohol'])"
      ],
      "execution_count": 29,
      "outputs": []
    },
    {
      "cell_type": "code",
      "metadata": {
        "colab": {
          "base_uri": "https://localhost:8080/",
          "height": 235
        },
        "id": "rciuNf6TZa4q",
        "outputId": "6e9dcf2c-fb56-41c0-d21e-d7c9720b06b5"
      },
      "source": [
        "pd_total_litres.head()"
      ],
      "execution_count": 30,
      "outputs": [
        {
          "output_type": "execute_result",
          "data": {
            "text/html": [
              "<div>\n",
              "<style scoped>\n",
              "    .dataframe tbody tr th:only-of-type {\n",
              "        vertical-align: middle;\n",
              "    }\n",
              "\n",
              "    .dataframe tbody tr th {\n",
              "        vertical-align: top;\n",
              "    }\n",
              "\n",
              "    .dataframe thead th {\n",
              "        text-align: right;\n",
              "    }\n",
              "</style>\n",
              "<table border=\"1\" class=\"dataframe\">\n",
              "  <thead>\n",
              "    <tr style=\"text-align: right;\">\n",
              "      <th></th>\n",
              "      <th>total_litres_of_pure_alcohol</th>\n",
              "    </tr>\n",
              "    <tr>\n",
              "      <th>country</th>\n",
              "      <th></th>\n",
              "    </tr>\n",
              "  </thead>\n",
              "  <tbody>\n",
              "    <tr>\n",
              "      <th>Afghanistan</th>\n",
              "      <td>NaN</td>\n",
              "    </tr>\n",
              "    <tr>\n",
              "      <th>Albania</th>\n",
              "      <td>4.9</td>\n",
              "    </tr>\n",
              "    <tr>\n",
              "      <th>Algeria</th>\n",
              "      <td>0.7</td>\n",
              "    </tr>\n",
              "    <tr>\n",
              "      <th>Andorra</th>\n",
              "      <td>12.4</td>\n",
              "    </tr>\n",
              "    <tr>\n",
              "      <th>Angola</th>\n",
              "      <td>5.9</td>\n",
              "    </tr>\n",
              "  </tbody>\n",
              "</table>\n",
              "</div>"
            ],
            "text/plain": [
              "             total_litres_of_pure_alcohol\n",
              "country                                  \n",
              "Afghanistan                           NaN\n",
              "Albania                               4.9\n",
              "Algeria                               0.7\n",
              "Andorra                              12.4\n",
              "Angola                                5.9"
            ]
          },
          "metadata": {},
          "execution_count": 30
        }
      ]
    },
    {
      "cell_type": "code",
      "metadata": {
        "colab": {
          "base_uri": "https://localhost:8080/"
        },
        "id": "HfsD7bXyZdEn",
        "outputId": "ad96ffa1-a8d8-4f5f-95f6-86b3434bc627"
      },
      "source": [
        "# Tipo DataFrame\n",
        "type(pd_total_litres)"
      ],
      "execution_count": 17,
      "outputs": [
        {
          "output_type": "execute_result",
          "data": {
            "text/plain": [
              "pandas.core.frame.DataFrame"
            ]
          },
          "metadata": {},
          "execution_count": 17
        }
      ]
    },
    {
      "cell_type": "code",
      "metadata": {
        "id": "5FIaIJLXadTS"
      },
      "source": [
        "# Transformar um Dataframe em uma Series, ou seja, uma objeto multidimensional em um vetor unidimensional, através do\n",
        "#parâmetro 'squeeze' do método 'read_csv'\n",
        "pd_total_litres_S = pd.read_csv('drinks.csv', index_col=['country'],usecols=['country','total_litres_of_pure_alcohol'],squeeze=True)"
      ],
      "execution_count": 34,
      "outputs": []
    },
    {
      "cell_type": "code",
      "metadata": {
        "colab": {
          "base_uri": "https://localhost:8080/"
        },
        "id": "VBuyksmtaxk3",
        "outputId": "abe80dd0-4091-415b-81d9-72be290a9409"
      },
      "source": [
        "# Tipo Series\n",
        "type(pd_total_litres_S)"
      ],
      "execution_count": 35,
      "outputs": [
        {
          "output_type": "execute_result",
          "data": {
            "text/plain": [
              "pandas.core.series.Series"
            ]
          },
          "metadata": {},
          "execution_count": 35
        }
      ]
    },
    {
      "cell_type": "code",
      "metadata": {
        "colab": {
          "base_uri": "https://localhost:8080/"
        },
        "id": "6GfQ0PN6a0yX",
        "outputId": "78a4cbd2-b518-4253-fa8e-e4b8e5209b01"
      },
      "source": [
        "pd_total_litres_S.head()"
      ],
      "execution_count": 39,
      "outputs": [
        {
          "output_type": "execute_result",
          "data": {
            "text/plain": [
              "country\n",
              "Afghanistan     NaN\n",
              "Albania         4.9\n",
              "Algeria         0.7\n",
              "Andorra        12.4\n",
              "Angola          5.9\n",
              "Name: total_litres_of_pure_alcohol, dtype: float64"
            ]
          },
          "metadata": {},
          "execution_count": 39
        }
      ]
    },
    {
      "cell_type": "code",
      "metadata": {
        "colab": {
          "base_uri": "https://localhost:8080/"
        },
        "id": "mhsmA4-XdoRk",
        "outputId": "5bbc1137-8657-4a33-bb0c-5e185bed27ae"
      },
      "source": [
        "#Monotonicity = se existe uma \"direção\" para os elementos numéricos\n",
        "pd_total_litres_S.is_monotonic"
      ],
      "execution_count": 41,
      "outputs": [
        {
          "output_type": "execute_result",
          "data": {
            "text/plain": [
              "False"
            ]
          },
          "metadata": {},
          "execution_count": 41
        }
      ]
    },
    {
      "cell_type": "code",
      "metadata": {
        "colab": {
          "base_uri": "https://localhost:8080/"
        },
        "id": "G2iyEro9eXUL",
        "outputId": "663b53f5-4ba4-4a79-ea75-2b73151e6257"
      },
      "source": [
        "print(pd_total_litres_S.size) # Conta todos os casos, ou linhas\n",
        "print(pd_total_litres_S.count()) ## Conta todos os casos excluindo valores NaN"
      ],
      "execution_count": 47,
      "outputs": [
        {
          "output_type": "stream",
          "name": "stdout",
          "text": [
            "193\n",
            "180\n"
          ]
        }
      ]
    },
    {
      "cell_type": "code",
      "metadata": {
        "colab": {
          "base_uri": "https://localhost:8080/"
        },
        "id": "APqeTMhEexaP",
        "outputId": "a9194097-313f-4a50-9654-394d884d2d90"
      },
      "source": [
        "pd_total_litres_S.isnull() # O método itera sobre todos os itens"
      ],
      "execution_count": 48,
      "outputs": [
        {
          "output_type": "execute_result",
          "data": {
            "text/plain": [
              "country\n",
              "Afghanistan     True\n",
              "Albania        False\n",
              "Algeria        False\n",
              "Andorra        False\n",
              "Angola         False\n",
              "               ...  \n",
              "Venezuela      False\n",
              "Vietnam        False\n",
              "Yemen          False\n",
              "Zambia         False\n",
              "Zimbabwe       False\n",
              "Name: total_litres_of_pure_alcohol, Length: 193, dtype: bool"
            ]
          },
          "metadata": {},
          "execution_count": 48
        }
      ]
    },
    {
      "cell_type": "code",
      "metadata": {
        "colab": {
          "base_uri": "https://localhost:8080/"
        },
        "id": "vgoAQL_OfK-h",
        "outputId": "d0df7077-bf55-4b20-f516-c382e16b80db"
      },
      "source": [
        "[pd_total_litres_S.isnull()] # Retorna só os itens que respodem como True "
      ],
      "execution_count": 50,
      "outputs": [
        {
          "output_type": "execute_result",
          "data": {
            "text/plain": [
              "country\n",
              "Afghanistan        NaN\n",
              "Bangladesh         NaN\n",
              "North Korea        NaN\n",
              "Iran               NaN\n",
              "Kuwait             NaN\n",
              "Libya              NaN\n",
              "Maldives           NaN\n",
              "Marshall Islands   NaN\n",
              "Mauritania         NaN\n",
              "Monaco             NaN\n",
              "Pakistan           NaN\n",
              "San Marino         NaN\n",
              "Somalia            NaN\n",
              "Name: total_litres_of_pure_alcohol, dtype: float64"
            ]
          },
          "metadata": {},
          "execution_count": 50
        }
      ]
    },
    {
      "cell_type": "code",
      "metadata": {
        "colab": {
          "base_uri": "https://localhost:8080/"
        },
        "id": "tZnC-Urwfhtt",
        "outputId": "09832549-4ee4-4069-c533-aaab1b60c902"
      },
      "source": [
        "pd_total_litres_S[pd_total_litres_S.isnull()].index # retorna só o indexador"
      ],
      "execution_count": 51,
      "outputs": [
        {
          "output_type": "execute_result",
          "data": {
            "text/plain": [
              "Index(['Afghanistan', 'Bangladesh', 'North Korea', 'Iran', 'Kuwait', 'Libya',\n",
              "       'Maldives', 'Marshall Islands', 'Mauritania', 'Monaco', 'Pakistan',\n",
              "       'San Marino', 'Somalia'],\n",
              "      dtype='object', name='country')"
            ]
          },
          "metadata": {},
          "execution_count": 51
        }
      ]
    },
    {
      "cell_type": "code",
      "metadata": {
        "colab": {
          "base_uri": "https://localhost:8080/"
        },
        "id": "8eH8TuY2fyev",
        "outputId": "6c5f11ec-45ce-4a06-887e-092da17ccd04"
      },
      "source": [
        "list(pd_total_litres_S[pd_total_litres_S.isnull()].index) # assim posso criar uma lista com o nome dos países\n"
      ],
      "execution_count": 55,
      "outputs": [
        {
          "output_type": "execute_result",
          "data": {
            "text/plain": [
              "['Afghanistan',\n",
              " 'Bangladesh',\n",
              " 'North Korea',\n",
              " 'Iran',\n",
              " 'Kuwait',\n",
              " 'Libya',\n",
              " 'Maldives',\n",
              " 'Marshall Islands',\n",
              " 'Mauritania',\n",
              " 'Monaco',\n",
              " 'Pakistan',\n",
              " 'San Marino',\n",
              " 'Somalia']"
            ]
          },
          "metadata": {},
          "execution_count": 55
        }
      ]
    },
    {
      "cell_type": "code",
      "metadata": {
        "colab": {
          "base_uri": "https://localhost:8080/"
        },
        "id": "e2sVa1x8gEVt",
        "outputId": "3e99a548-8436-4af2-aa7c-ae30b2ad3068"
      },
      "source": [
        "len(list(pd_total_litres_S[pd_total_litres_S.isnull()].index)) # tamanho da lista"
      ],
      "execution_count": 57,
      "outputs": [
        {
          "output_type": "execute_result",
          "data": {
            "text/plain": [
              "13"
            ]
          },
          "metadata": {},
          "execution_count": 57
        }
      ]
    },
    {
      "cell_type": "code",
      "metadata": {
        "id": "Tf70zGUNgWvc"
      },
      "source": [
        "list(pd_total_litres_S[pd_total_litres_S.notnull()].index) ## todos os valores não nulos"
      ],
      "execution_count": null,
      "outputs": []
    },
    {
      "cell_type": "code",
      "metadata": {
        "colab": {
          "base_uri": "https://localhost:8080/"
        },
        "id": "p4mNwn6diFND",
        "outputId": "e68b87d2-cc28-4c7d-b777-10a3c9162767"
      },
      "source": [
        "len(list(pd_total_litres_S[pd_total_litres_S.notnull()].index)) # contagem dos valores não nulos"
      ],
      "execution_count": 72,
      "outputs": [
        {
          "output_type": "execute_result",
          "data": {
            "text/plain": [
              "180"
            ]
          },
          "metadata": {},
          "execution_count": 72
        }
      ]
    },
    {
      "cell_type": "code",
      "metadata": {
        "id": "S8NnAmdIkw59"
      },
      "source": [
        "# Todos os paíse que não tem valores nulos\n",
        "alcohol_servings = pd_total_litres_S[pd_total_litres_S.notnull()]"
      ],
      "execution_count": 78,
      "outputs": []
    },
    {
      "cell_type": "code",
      "metadata": {
        "colab": {
          "base_uri": "https://localhost:8080/"
        },
        "id": "Dkqx1fV6l8Vf",
        "outputId": "261b34e8-d11a-48a4-f803-15eae41d247d"
      },
      "source": [
        "alcohol_servings.head()"
      ],
      "execution_count": 86,
      "outputs": [
        {
          "output_type": "execute_result",
          "data": {
            "text/plain": [
              "country\n",
              "Albania               4.9\n",
              "Algeria               0.7\n",
              "Andorra              12.4\n",
              "Angola                5.9\n",
              "Antigua & Barbuda     4.9\n",
              "Name: total_litres_of_pure_alcohol, dtype: float64"
            ]
          },
          "metadata": {},
          "execution_count": 86
        }
      ]
    },
    {
      "cell_type": "code",
      "metadata": {
        "id": "32q-MMj0lCTa"
      },
      "source": [
        "# Soma do consumo de alcool para todos os países com valores não nulos\n",
        "total_alcohol_consumption = alcohol_servings.sum()"
      ],
      "execution_count": 82,
      "outputs": []
    },
    {
      "cell_type": "code",
      "metadata": {
        "colab": {
          "base_uri": "https://localhost:8080/"
        },
        "id": "eVgNxPDtm9Z6",
        "outputId": "1f9be5d4-d26a-4e88-eb7a-b81af64a5fac"
      },
      "source": [
        "# Quantidade de países que servem menos de um litro de alcool\n",
        "len(alcohol_servings[alcohol_servings <1])"
      ],
      "execution_count": 110,
      "outputs": [
        {
          "output_type": "execute_result",
          "data": {
            "text/plain": [
              "27"
            ]
          },
          "metadata": {},
          "execution_count": 110
        }
      ]
    },
    {
      "cell_type": "code",
      "metadata": {
        "colab": {
          "base_uri": "https://localhost:8080/"
        },
        "id": "5Cq1cacDoJDg",
        "outputId": "dfd9cf6d-6287-4ff4-949a-c604395ccb78"
      },
      "source": [
        "# Soma do total de alcool servidos para os países que servem menos de um litro de alcool\n",
        "alcohol_servings[alcohol_servings<1].sum()"
      ],
      "execution_count": 113,
      "outputs": [
        {
          "output_type": "execute_result",
          "data": {
            "text/plain": [
              "10.6"
            ]
          },
          "metadata": {},
          "execution_count": 113
        }
      ]
    }
  ]
}