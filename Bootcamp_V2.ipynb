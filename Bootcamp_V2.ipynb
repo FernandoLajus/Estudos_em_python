{
  "nbformat": 4,
  "nbformat_minor": 0,
  "metadata": {
    "colab": {
      "name": "BootcampV2.ipynb",
      "provenance": [],
      "authorship_tag": "ABX9TyON31MOnqqNPUcCR5KnW53C",
      "include_colab_link": true
    },
    "kernelspec": {
      "name": "python3",
      "display_name": "Python 3"
    },
    "language_info": {
      "name": "python"
    }
  },
  "cells": [
    {
      "cell_type": "markdown",
      "metadata": {
        "id": "view-in-github",
        "colab_type": "text"
      },
      "source": [
        "<a href=\"https://colab.research.google.com/github/FernandoLajus/Python_pd_bootcamp/blob/main/Bootcamp_V2.ipynb\" target=\"_parent\"><img src=\"https://colab.research.google.com/assets/colab-badge.svg\" alt=\"Open In Colab\"/></a>"
      ]
    },
    {
      "cell_type": "markdown",
      "metadata": {
        "id": "nZGyNg-xlLvZ"
      },
      "source": [
        "# **Series Methods and Handling**"
      ]
    },
    {
      "cell_type": "code",
      "metadata": {
        "id": "up0DBlLGlLXa"
      },
      "source": [
        "import pandas as pd\n",
        "import numpy as np"
      ],
      "execution_count": 4,
      "outputs": []
    },
    {
      "cell_type": "code",
      "metadata": {
        "id": "u-UrCX16TDJz"
      },
      "source": [
        "path = 'drinks.csv'   "
      ],
      "execution_count": 5,
      "outputs": []
    },
    {
      "cell_type": "code",
      "metadata": {
        "colab": {
          "base_uri": "https://localhost:8080/",
          "height": 204
        },
        "id": "qrL-jKobTDZP",
        "outputId": "98df0057-bbee-461e-ec32-8b603f7e5ee7"
      },
      "source": [
        "# O método 'read_csv' tem diversos parâmetros. Uso alguns deles nos blocos seguintes\n",
        "pd_drinks = pd.read_csv(path)\n",
        "pd_drinks.head()"
      ],
      "execution_count": 6,
      "outputs": [
        {
          "output_type": "execute_result",
          "data": {
            "text/html": [
              "<div>\n",
              "<style scoped>\n",
              "    .dataframe tbody tr th:only-of-type {\n",
              "        vertical-align: middle;\n",
              "    }\n",
              "\n",
              "    .dataframe tbody tr th {\n",
              "        vertical-align: top;\n",
              "    }\n",
              "\n",
              "    .dataframe thead th {\n",
              "        text-align: right;\n",
              "    }\n",
              "</style>\n",
              "<table border=\"1\" class=\"dataframe\">\n",
              "  <thead>\n",
              "    <tr style=\"text-align: right;\">\n",
              "      <th></th>\n",
              "      <th>country</th>\n",
              "      <th>beer_servings</th>\n",
              "      <th>spirit_servings</th>\n",
              "      <th>wine_servings</th>\n",
              "      <th>total_litres_of_pure_alcohol</th>\n",
              "    </tr>\n",
              "  </thead>\n",
              "  <tbody>\n",
              "    <tr>\n",
              "      <th>0</th>\n",
              "      <td>Afghanistan</td>\n",
              "      <td>NaN</td>\n",
              "      <td>NaN</td>\n",
              "      <td>NaN</td>\n",
              "      <td>NaN</td>\n",
              "    </tr>\n",
              "    <tr>\n",
              "      <th>1</th>\n",
              "      <td>Albania</td>\n",
              "      <td>89.0</td>\n",
              "      <td>132.0</td>\n",
              "      <td>54.0</td>\n",
              "      <td>4.9</td>\n",
              "    </tr>\n",
              "    <tr>\n",
              "      <th>2</th>\n",
              "      <td>Algeria</td>\n",
              "      <td>25.0</td>\n",
              "      <td>NaN</td>\n",
              "      <td>14.0</td>\n",
              "      <td>0.7</td>\n",
              "    </tr>\n",
              "    <tr>\n",
              "      <th>3</th>\n",
              "      <td>Andorra</td>\n",
              "      <td>245.0</td>\n",
              "      <td>138.0</td>\n",
              "      <td>312.0</td>\n",
              "      <td>12.4</td>\n",
              "    </tr>\n",
              "    <tr>\n",
              "      <th>4</th>\n",
              "      <td>Angola</td>\n",
              "      <td>217.0</td>\n",
              "      <td>57.0</td>\n",
              "      <td>45.0</td>\n",
              "      <td>5.9</td>\n",
              "    </tr>\n",
              "  </tbody>\n",
              "</table>\n",
              "</div>"
            ],
            "text/plain": [
              "       country  beer_servings  ...  wine_servings  total_litres_of_pure_alcohol\n",
              "0  Afghanistan            NaN  ...            NaN                           NaN\n",
              "1      Albania           89.0  ...           54.0                           4.9\n",
              "2      Algeria           25.0  ...           14.0                           0.7\n",
              "3      Andorra          245.0  ...          312.0                          12.4\n",
              "4       Angola          217.0  ...           45.0                           5.9\n",
              "\n",
              "[5 rows x 5 columns]"
            ]
          },
          "metadata": {},
          "execution_count": 6
        }
      ]
    },
    {
      "cell_type": "code",
      "metadata": {
        "colab": {
          "base_uri": "https://localhost:8080/"
        },
        "id": "2VHe99ygTDgP",
        "outputId": "9530ddbb-e5a6-4e22-92d5-3db31f114761"
      },
      "source": [
        "pd_drinks.shape"
      ],
      "execution_count": 7,
      "outputs": [
        {
          "output_type": "execute_result",
          "data": {
            "text/plain": [
              "(193, 5)"
            ]
          },
          "metadata": {},
          "execution_count": 7
        }
      ]
    },
    {
      "cell_type": "code",
      "metadata": {
        "id": "7JjG-0BqTDlx"
      },
      "source": [
        "# Aqui uso alguns parâmetros diferentes do método 'read_csv'\n",
        "pd_total_litres = pd.read_csv(path,index_col=['country'],usecols=['country','total_litres_of_pure_alcohol'])"
      ],
      "execution_count": 8,
      "outputs": []
    },
    {
      "cell_type": "code",
      "metadata": {
        "colab": {
          "base_uri": "https://localhost:8080/",
          "height": 235
        },
        "id": "rciuNf6TZa4q",
        "outputId": "be1b7f56-8b6c-4a1b-e173-99cd75591693"
      },
      "source": [
        "pd_total_litres.head()"
      ],
      "execution_count": 9,
      "outputs": [
        {
          "output_type": "execute_result",
          "data": {
            "text/html": [
              "<div>\n",
              "<style scoped>\n",
              "    .dataframe tbody tr th:only-of-type {\n",
              "        vertical-align: middle;\n",
              "    }\n",
              "\n",
              "    .dataframe tbody tr th {\n",
              "        vertical-align: top;\n",
              "    }\n",
              "\n",
              "    .dataframe thead th {\n",
              "        text-align: right;\n",
              "    }\n",
              "</style>\n",
              "<table border=\"1\" class=\"dataframe\">\n",
              "  <thead>\n",
              "    <tr style=\"text-align: right;\">\n",
              "      <th></th>\n",
              "      <th>total_litres_of_pure_alcohol</th>\n",
              "    </tr>\n",
              "    <tr>\n",
              "      <th>country</th>\n",
              "      <th></th>\n",
              "    </tr>\n",
              "  </thead>\n",
              "  <tbody>\n",
              "    <tr>\n",
              "      <th>Afghanistan</th>\n",
              "      <td>NaN</td>\n",
              "    </tr>\n",
              "    <tr>\n",
              "      <th>Albania</th>\n",
              "      <td>4.9</td>\n",
              "    </tr>\n",
              "    <tr>\n",
              "      <th>Algeria</th>\n",
              "      <td>0.7</td>\n",
              "    </tr>\n",
              "    <tr>\n",
              "      <th>Andorra</th>\n",
              "      <td>12.4</td>\n",
              "    </tr>\n",
              "    <tr>\n",
              "      <th>Angola</th>\n",
              "      <td>5.9</td>\n",
              "    </tr>\n",
              "  </tbody>\n",
              "</table>\n",
              "</div>"
            ],
            "text/plain": [
              "             total_litres_of_pure_alcohol\n",
              "country                                  \n",
              "Afghanistan                           NaN\n",
              "Albania                               4.9\n",
              "Algeria                               0.7\n",
              "Andorra                              12.4\n",
              "Angola                                5.9"
            ]
          },
          "metadata": {},
          "execution_count": 9
        }
      ]
    },
    {
      "cell_type": "code",
      "metadata": {
        "colab": {
          "base_uri": "https://localhost:8080/"
        },
        "id": "HfsD7bXyZdEn",
        "outputId": "7d4e6f67-6b7a-4869-c1e6-48919bbcd8c0"
      },
      "source": [
        "# Tipo DataFrame\n",
        "type(pd_total_litres)"
      ],
      "execution_count": 10,
      "outputs": [
        {
          "output_type": "execute_result",
          "data": {
            "text/plain": [
              "pandas.core.frame.DataFrame"
            ]
          },
          "metadata": {},
          "execution_count": 10
        }
      ]
    },
    {
      "cell_type": "code",
      "metadata": {
        "id": "5FIaIJLXadTS"
      },
      "source": [
        "# Transformar um Dataframe em uma Series, ou seja, uma objeto multidimensional em um vetor unidimensional, através do\n",
        "#parâmetro 'squeeze' do método 'read_csv'\n",
        "pd_total_litres_S = pd.read_csv('drinks.csv', index_col=['country'],usecols=['country','total_litres_of_pure_alcohol'],squeeze=True)"
      ],
      "execution_count": 11,
      "outputs": []
    },
    {
      "cell_type": "code",
      "metadata": {
        "colab": {
          "base_uri": "https://localhost:8080/"
        },
        "id": "VBuyksmtaxk3",
        "outputId": "c2f4892a-245d-4756-d2eb-3a4efc6eabc7"
      },
      "source": [
        "# Tipo Series\n",
        "type(pd_total_litres_S)"
      ],
      "execution_count": 12,
      "outputs": [
        {
          "output_type": "execute_result",
          "data": {
            "text/plain": [
              "pandas.core.series.Series"
            ]
          },
          "metadata": {},
          "execution_count": 12
        }
      ]
    },
    {
      "cell_type": "code",
      "metadata": {
        "colab": {
          "base_uri": "https://localhost:8080/"
        },
        "id": "6GfQ0PN6a0yX",
        "outputId": "be3990ab-7e10-4068-ba16-0e5d3178a84d"
      },
      "source": [
        "pd_total_litres_S.head()"
      ],
      "execution_count": 13,
      "outputs": [
        {
          "output_type": "execute_result",
          "data": {
            "text/plain": [
              "country\n",
              "Afghanistan     NaN\n",
              "Albania         4.9\n",
              "Algeria         0.7\n",
              "Andorra        12.4\n",
              "Angola          5.9\n",
              "Name: total_litres_of_pure_alcohol, dtype: float64"
            ]
          },
          "metadata": {},
          "execution_count": 13
        }
      ]
    },
    {
      "cell_type": "code",
      "metadata": {
        "id": "cIVNz2f7OOPv",
        "colab": {
          "base_uri": "https://localhost:8080/"
        },
        "outputId": "8b6c6173-d32d-4202-d4bf-f69a0511561c"
      },
      "source": [
        "pd_total_litres_S.loc['Argentina']"
      ],
      "execution_count": 14,
      "outputs": [
        {
          "output_type": "execute_result",
          "data": {
            "text/plain": [
              "8.3"
            ]
          },
          "metadata": {},
          "execution_count": 14
        }
      ]
    },
    {
      "cell_type": "code",
      "metadata": {
        "colab": {
          "base_uri": "https://localhost:8080/"
        },
        "id": "mhsmA4-XdoRk",
        "outputId": "db52e5f3-861d-43e0-d2f2-2936fe0f8c8f"
      },
      "source": [
        "#Monotonicity = se existe uma \"direção\" para os elementos numéricos\n",
        "pd_total_litres_S.is_monotonic"
      ],
      "execution_count": 15,
      "outputs": [
        {
          "output_type": "execute_result",
          "data": {
            "text/plain": [
              "False"
            ]
          },
          "metadata": {},
          "execution_count": 15
        }
      ]
    },
    {
      "cell_type": "code",
      "metadata": {
        "colab": {
          "base_uri": "https://localhost:8080/"
        },
        "id": "G2iyEro9eXUL",
        "outputId": "ce9109a5-4725-490a-a7c3-10e2f4fed604"
      },
      "source": [
        "print(pd_total_litres_S.size) # Conta todos os casos, ou linhas\n",
        "print(pd_total_litres_S.count()) ## Conta todos os casos excluindo valores NaN"
      ],
      "execution_count": 16,
      "outputs": [
        {
          "output_type": "stream",
          "name": "stdout",
          "text": [
            "193\n",
            "180\n"
          ]
        }
      ]
    },
    {
      "cell_type": "code",
      "metadata": {
        "colab": {
          "base_uri": "https://localhost:8080/"
        },
        "id": "APqeTMhEexaP",
        "outputId": "4adb785a-f145-4e11-9da8-23f6457bbfe0"
      },
      "source": [
        "pd_total_litres_S.isnull() # O método itera sobre todos os itens"
      ],
      "execution_count": 17,
      "outputs": [
        {
          "output_type": "execute_result",
          "data": {
            "text/plain": [
              "country\n",
              "Afghanistan     True\n",
              "Albania        False\n",
              "Algeria        False\n",
              "Andorra        False\n",
              "Angola         False\n",
              "               ...  \n",
              "Venezuela      False\n",
              "Vietnam        False\n",
              "Yemen          False\n",
              "Zambia         False\n",
              "Zimbabwe       False\n",
              "Name: total_litres_of_pure_alcohol, Length: 193, dtype: bool"
            ]
          },
          "metadata": {},
          "execution_count": 17
        }
      ]
    },
    {
      "cell_type": "code",
      "metadata": {
        "colab": {
          "base_uri": "https://localhost:8080/"
        },
        "id": "vgoAQL_OfK-h",
        "outputId": "16276b43-d787-414d-bf88-38afb9929a1f"
      },
      "source": [
        "[pd_total_litres_S.isnull()] # Retorna só os itens que respodem como True "
      ],
      "execution_count": 18,
      "outputs": [
        {
          "output_type": "execute_result",
          "data": {
            "text/plain": [
              "[country\n",
              " Afghanistan     True\n",
              " Albania        False\n",
              " Algeria        False\n",
              " Andorra        False\n",
              " Angola         False\n",
              "                ...  \n",
              " Venezuela      False\n",
              " Vietnam        False\n",
              " Yemen          False\n",
              " Zambia         False\n",
              " Zimbabwe       False\n",
              " Name: total_litres_of_pure_alcohol, Length: 193, dtype: bool]"
            ]
          },
          "metadata": {},
          "execution_count": 18
        }
      ]
    },
    {
      "cell_type": "code",
      "metadata": {
        "colab": {
          "base_uri": "https://localhost:8080/"
        },
        "id": "tZnC-Urwfhtt",
        "outputId": "834d601e-7b49-4c6e-d81c-49f7e28adfb5"
      },
      "source": [
        "pd_total_litres_S[pd_total_litres_S.isnull()].index # retorna só o indexador"
      ],
      "execution_count": 19,
      "outputs": [
        {
          "output_type": "execute_result",
          "data": {
            "text/plain": [
              "Index(['Afghanistan', 'Bangladesh', 'North Korea', 'Iran', 'Kuwait', 'Libya',\n",
              "       'Maldives', 'Marshall Islands', 'Mauritania', 'Monaco', 'Pakistan',\n",
              "       'San Marino', 'Somalia'],\n",
              "      dtype='object', name='country')"
            ]
          },
          "metadata": {},
          "execution_count": 19
        }
      ]
    },
    {
      "cell_type": "code",
      "metadata": {
        "colab": {
          "base_uri": "https://localhost:8080/"
        },
        "id": "8eH8TuY2fyev",
        "outputId": "40d1e084-bba0-4e00-ac64-f65639953eca"
      },
      "source": [
        "list(pd_total_litres_S[pd_total_litres_S.isnull()].index) # assim posso criar uma lista com o nome dos países\n"
      ],
      "execution_count": 20,
      "outputs": [
        {
          "output_type": "execute_result",
          "data": {
            "text/plain": [
              "['Afghanistan',\n",
              " 'Bangladesh',\n",
              " 'North Korea',\n",
              " 'Iran',\n",
              " 'Kuwait',\n",
              " 'Libya',\n",
              " 'Maldives',\n",
              " 'Marshall Islands',\n",
              " 'Mauritania',\n",
              " 'Monaco',\n",
              " 'Pakistan',\n",
              " 'San Marino',\n",
              " 'Somalia']"
            ]
          },
          "metadata": {},
          "execution_count": 20
        }
      ]
    },
    {
      "cell_type": "code",
      "metadata": {
        "colab": {
          "base_uri": "https://localhost:8080/"
        },
        "id": "e2sVa1x8gEVt",
        "outputId": "30a4b6dc-6aaf-4de2-c201-5c1ff48b7c74"
      },
      "source": [
        "len(list(pd_total_litres_S[pd_total_litres_S.isnull()].index)) # tamanho da lista"
      ],
      "execution_count": 21,
      "outputs": [
        {
          "output_type": "execute_result",
          "data": {
            "text/plain": [
              "13"
            ]
          },
          "metadata": {},
          "execution_count": 21
        }
      ]
    },
    {
      "cell_type": "code",
      "metadata": {
        "colab": {
          "base_uri": "https://localhost:8080/"
        },
        "id": "Tf70zGUNgWvc",
        "outputId": "023f0074-92a5-4191-a70d-a0dd886c766a"
      },
      "source": [
        "list(pd_total_litres_S[pd_total_litres_S.notnull()].index) ## todos os valores não nulos"
      ],
      "execution_count": 22,
      "outputs": [
        {
          "output_type": "execute_result",
          "data": {
            "text/plain": [
              "['Albania',\n",
              " 'Algeria',\n",
              " 'Andorra',\n",
              " 'Angola',\n",
              " 'Antigua & Barbuda',\n",
              " 'Argentina',\n",
              " 'Armenia',\n",
              " 'Australia',\n",
              " 'Austria',\n",
              " 'Azerbaijan',\n",
              " 'Bahamas',\n",
              " 'Bahrain',\n",
              " 'Barbados',\n",
              " 'Belarus',\n",
              " 'Belgium',\n",
              " 'Belize',\n",
              " 'Benin',\n",
              " 'Bhutan',\n",
              " 'Bolivia',\n",
              " 'Bosnia-Herzegovina',\n",
              " 'Botswana',\n",
              " 'Brazil',\n",
              " 'Brunei',\n",
              " 'Bulgaria',\n",
              " 'Burkina Faso',\n",
              " 'Burundi',\n",
              " \"Cote d'Ivoire\",\n",
              " 'Cabo Verde',\n",
              " 'Cambodia',\n",
              " 'Cameroon',\n",
              " 'Canada',\n",
              " 'Central African Republic',\n",
              " 'Chad',\n",
              " 'Chile',\n",
              " 'China',\n",
              " 'Colombia',\n",
              " 'Comoros',\n",
              " 'Congo',\n",
              " 'Cook Islands',\n",
              " 'Costa Rica',\n",
              " 'Croatia',\n",
              " 'Cuba',\n",
              " 'Cyprus',\n",
              " 'Czech Republic',\n",
              " 'DR Congo',\n",
              " 'Denmark',\n",
              " 'Djibouti',\n",
              " 'Dominica',\n",
              " 'Dominican Republic',\n",
              " 'Ecuador',\n",
              " 'Egypt',\n",
              " 'El Salvador',\n",
              " 'Equatorial Guinea',\n",
              " 'Eritrea',\n",
              " 'Estonia',\n",
              " 'Ethiopia',\n",
              " 'Fiji',\n",
              " 'Finland',\n",
              " 'France',\n",
              " 'Gabon',\n",
              " 'Gambia',\n",
              " 'Georgia',\n",
              " 'Germany',\n",
              " 'Ghana',\n",
              " 'Greece',\n",
              " 'Grenada',\n",
              " 'Guatemala',\n",
              " 'Guinea',\n",
              " 'Guinea-Bissau',\n",
              " 'Guyana',\n",
              " 'Haiti',\n",
              " 'Honduras',\n",
              " 'Hungary',\n",
              " 'Iceland',\n",
              " 'India',\n",
              " 'Indonesia',\n",
              " 'Iraq',\n",
              " 'Ireland',\n",
              " 'Israel',\n",
              " 'Italy',\n",
              " 'Jamaica',\n",
              " 'Japan',\n",
              " 'Jordan',\n",
              " 'Kazakhstan',\n",
              " 'Kenya',\n",
              " 'Kiribati',\n",
              " 'Kyrgyzstan',\n",
              " 'Laos',\n",
              " 'Latvia',\n",
              " 'Lebanon',\n",
              " 'Lesotho',\n",
              " 'Liberia',\n",
              " 'Lithuania',\n",
              " 'Luxembourg',\n",
              " 'Madagascar',\n",
              " 'Malawi',\n",
              " 'Malaysia',\n",
              " 'Mali',\n",
              " 'Malta',\n",
              " 'Mauritius',\n",
              " 'Mexico',\n",
              " 'Micronesia',\n",
              " 'Mongolia',\n",
              " 'Montenegro',\n",
              " 'Morocco',\n",
              " 'Mozambique',\n",
              " 'Myanmar',\n",
              " 'Namibia',\n",
              " 'Nauru',\n",
              " 'Nepal',\n",
              " 'Netherlands',\n",
              " 'New Zealand',\n",
              " 'Nicaragua',\n",
              " 'Niger',\n",
              " 'Nigeria',\n",
              " 'Niue',\n",
              " 'Norway',\n",
              " 'Oman',\n",
              " 'Palau',\n",
              " 'Panama',\n",
              " 'Papua New Guinea',\n",
              " 'Paraguay',\n",
              " 'Peru',\n",
              " 'Philippines',\n",
              " 'Poland',\n",
              " 'Portugal',\n",
              " 'Qatar',\n",
              " 'South Korea',\n",
              " 'Moldova',\n",
              " 'Romania',\n",
              " 'Russian Federation',\n",
              " 'Rwanda',\n",
              " 'St. Kitts & Nevis',\n",
              " 'St. Lucia',\n",
              " 'St. Vincent & the Grenadines',\n",
              " 'Samoa',\n",
              " 'Sao Tome & Principe',\n",
              " 'Saudi Arabia',\n",
              " 'Senegal',\n",
              " 'Serbia',\n",
              " 'Seychelles',\n",
              " 'Sierra Leone',\n",
              " 'Singapore',\n",
              " 'Slovakia',\n",
              " 'Slovenia',\n",
              " 'Solomon Islands',\n",
              " 'South Africa',\n",
              " 'Spain',\n",
              " 'Sri Lanka',\n",
              " 'Sudan',\n",
              " 'Suriname',\n",
              " 'Swaziland',\n",
              " 'Sweden',\n",
              " 'Switzerland',\n",
              " 'Syria',\n",
              " 'Tajikistan',\n",
              " 'Thailand',\n",
              " 'Macedonia',\n",
              " 'Timor-Leste',\n",
              " 'Togo',\n",
              " 'Tonga',\n",
              " 'Trinidad & Tobago',\n",
              " 'Tunisia',\n",
              " 'Turkey',\n",
              " 'Turkmenistan',\n",
              " 'Tuvalu',\n",
              " 'Uganda',\n",
              " 'Ukraine',\n",
              " 'United Arab Emirates',\n",
              " 'United Kingdom',\n",
              " 'Tanzania',\n",
              " 'USA',\n",
              " 'Uruguay',\n",
              " 'Uzbekistan',\n",
              " 'Vanuatu',\n",
              " 'Venezuela',\n",
              " 'Vietnam',\n",
              " 'Yemen',\n",
              " 'Zambia',\n",
              " 'Zimbabwe']"
            ]
          },
          "metadata": {},
          "execution_count": 22
        }
      ]
    },
    {
      "cell_type": "code",
      "metadata": {
        "colab": {
          "base_uri": "https://localhost:8080/"
        },
        "id": "p4mNwn6diFND",
        "outputId": "b8a94a82-54e4-437e-9d3f-1ea80ad8bc2d"
      },
      "source": [
        "len(list(pd_total_litres_S[pd_total_litres_S.notnull()].index)) # contagem dos valores não nulos"
      ],
      "execution_count": 23,
      "outputs": [
        {
          "output_type": "execute_result",
          "data": {
            "text/plain": [
              "180"
            ]
          },
          "metadata": {},
          "execution_count": 23
        }
      ]
    },
    {
      "cell_type": "code",
      "metadata": {
        "id": "S8NnAmdIkw59"
      },
      "source": [
        "# Todos os paíse que não tem valores nulos\n",
        "alcohol_servings = pd_total_litres_S[pd_total_litres_S.notnull()]"
      ],
      "execution_count": 24,
      "outputs": []
    },
    {
      "cell_type": "code",
      "metadata": {
        "colab": {
          "base_uri": "https://localhost:8080/"
        },
        "id": "Dkqx1fV6l8Vf",
        "outputId": "2ba0237c-4eaa-4903-d53d-2111ec880c3e"
      },
      "source": [
        "alcohol_servings.head()"
      ],
      "execution_count": 25,
      "outputs": [
        {
          "output_type": "execute_result",
          "data": {
            "text/plain": [
              "country\n",
              "Albania               4.9\n",
              "Algeria               0.7\n",
              "Andorra              12.4\n",
              "Angola                5.9\n",
              "Antigua & Barbuda     4.9\n",
              "Name: total_litres_of_pure_alcohol, dtype: float64"
            ]
          },
          "metadata": {},
          "execution_count": 25
        }
      ]
    },
    {
      "cell_type": "code",
      "metadata": {
        "id": "32q-MMj0lCTa"
      },
      "source": [
        "# Soma do consumo de alcool para todos os países com valores não nulos\n",
        "total_alcohol_consumption = alcohol_servings.sum()"
      ],
      "execution_count": 26,
      "outputs": []
    },
    {
      "cell_type": "code",
      "metadata": {
        "colab": {
          "base_uri": "https://localhost:8080/"
        },
        "id": "eVgNxPDtm9Z6",
        "outputId": "6d88def0-1eef-4398-d166-0b85b8c92739"
      },
      "source": [
        "# Quantidade de países que servem menos de um litro de alcool\n",
        "len(alcohol_servings[alcohol_servings <1])"
      ],
      "execution_count": 27,
      "outputs": [
        {
          "output_type": "execute_result",
          "data": {
            "text/plain": [
              "27"
            ]
          },
          "metadata": {},
          "execution_count": 27
        }
      ]
    },
    {
      "cell_type": "code",
      "metadata": {
        "colab": {
          "base_uri": "https://localhost:8080/"
        },
        "id": "5Cq1cacDoJDg",
        "outputId": "5cfc81e4-0ab2-4883-bb8b-5aa60640239a"
      },
      "source": [
        "# Soma do total de alcool servidos para os países que servem menos de um litro de alcool\n",
        "alcohol_servings[alcohol_servings<1].sum()"
      ],
      "execution_count": 28,
      "outputs": [
        {
          "output_type": "execute_result",
          "data": {
            "text/plain": [
              "10.6"
            ]
          },
          "metadata": {},
          "execution_count": 28
        }
      ]
    },
    {
      "cell_type": "code",
      "metadata": {
        "id": "9YkPucbF_14-",
        "colab": {
          "base_uri": "https://localhost:8080/"
        },
        "outputId": "d1cba5e7-bbb5-4b16-8097-f96f3d157435"
      },
      "source": [
        "pd_total_litres_S.dropna # Retira todos os NaN"
      ],
      "execution_count": 29,
      "outputs": [
        {
          "output_type": "execute_result",
          "data": {
            "text/plain": [
              "<bound method Series.dropna of country\n",
              "Afghanistan     NaN\n",
              "Albania         4.9\n",
              "Algeria         0.7\n",
              "Andorra        12.4\n",
              "Angola          5.9\n",
              "               ... \n",
              "Venezuela       7.7\n",
              "Vietnam         2.0\n",
              "Yemen           0.1\n",
              "Zambia          2.5\n",
              "Zimbabwe        4.7\n",
              "Name: total_litres_of_pure_alcohol, Length: 193, dtype: float64>"
            ]
          },
          "metadata": {},
          "execution_count": 29
        }
      ]
    },
    {
      "cell_type": "code",
      "metadata": {
        "id": "wFosIiGRArKm",
        "colab": {
          "base_uri": "https://localhost:8080/"
        },
        "outputId": "b6b11783-2710-4434-c804-046bcba8a5ed"
      },
      "source": [
        "pd_total_litres_S.fillna(value=999, inplace=False) # Insera um valor definido em todos os casos NaN"
      ],
      "execution_count": 30,
      "outputs": [
        {
          "output_type": "execute_result",
          "data": {
            "text/plain": [
              "country\n",
              "Afghanistan    999.0\n",
              "Albania          4.9\n",
              "Algeria          0.7\n",
              "Andorra         12.4\n",
              "Angola           5.9\n",
              "               ...  \n",
              "Venezuela        7.7\n",
              "Vietnam          2.0\n",
              "Yemen            0.1\n",
              "Zambia           2.5\n",
              "Zimbabwe         4.7\n",
              "Name: total_litres_of_pure_alcohol, Length: 193, dtype: float64"
            ]
          },
          "metadata": {},
          "execution_count": 30
        }
      ]
    },
    {
      "cell_type": "code",
      "metadata": {
        "id": "24m4bVGBBr5q",
        "colab": {
          "base_uri": "https://localhost:8080/"
        },
        "outputId": "1a946f07-b26a-4271-fb1e-db78615c2826"
      },
      "source": [
        "# Descriptive statistics in Pandas\n",
        "print(f'Mean: {pd_total_litres_S.mean()}')\n",
        "print(f'Median: {pd_total_litres_S.median()}') \n",
        "print(f'Mode: {pd_total_litres_S.mode()}')\n",
        "print(f'Count:{pd_total_litres_S.count()}')\n",
        "print(f'Sum: {pd_total_litres_S.sum()}')\n",
        "print(f'Quantile: {pd_total_litres_S.quantile(q=0.25)}')\n",
        "print(f'Min: {pd_total_litres_S.min()}')\n",
        "print(f'Max: {pd_total_litres_S.max()}')\n",
        "print(f'Standart Deviation: {pd_total_litres_S.std()}')"
      ],
      "execution_count": 31,
      "outputs": [
        {
          "output_type": "stream",
          "name": "stdout",
          "text": [
            "Mean: 4.357777777777779\n",
            "Median: 3.8499999999999996\n",
            "Mode: 0    0.1\n",
            "dtype: float64\n",
            "Count:180\n",
            "Sum: 784.3999999999999\n",
            "Quantile: 1.3749999999999998\n",
            "Min: 0.1\n",
            "Max: 14.4\n",
            "Standart Deviation: 3.454136141881824\n"
          ]
        }
      ]
    },
    {
      "cell_type": "code",
      "metadata": {
        "id": "bJX6jyZ8A8I0",
        "colab": {
          "base_uri": "https://localhost:8080/",
          "height": 282
        },
        "outputId": "606afb60-bef7-4f37-c127-0cbef8615b03"
      },
      "source": [
        "pd_total_litres_S.hist()"
      ],
      "execution_count": 32,
      "outputs": [
        {
          "output_type": "execute_result",
          "data": {
            "text/plain": [
              "<matplotlib.axes._subplots.AxesSubplot at 0x7f60d1a7bc90>"
            ]
          },
          "metadata": {},
          "execution_count": 32
        },
        {
          "output_type": "display_data",
          "data": {
            "image/png": "[encoded data removed]",
            "text/plain": [
              "<Figure size 432x288 with 1 Axes>"
            ]
          },
          "metadata": {
            "needs_background": "light"
          }
        }
      ]
    },
    {
      "cell_type": "code",
      "metadata": {
        "id": "RdiCx5Q0KUM1",
        "colab": {
          "base_uri": "https://localhost:8080/"
        },
        "outputId": "24144b93-bacb-4cc4-9de7-ccd2b6c712cd"
      },
      "source": [
        "# Este método retorna todas as estatísticas descritivas\n",
        "pd_total_litres_S.describe()"
      ],
      "execution_count": 33,
      "outputs": [
        {
          "output_type": "execute_result",
          "data": {
            "text/plain": [
              "count    180.000000\n",
              "mean       4.357778\n",
              "std        3.454136\n",
              "min        0.100000\n",
              "25%        1.375000\n",
              "50%        3.850000\n",
              "75%        6.700000\n",
              "max       14.400000\n",
              "Name: total_litres_of_pure_alcohol, dtype: float64"
            ]
          },
          "metadata": {},
          "execution_count": 33
        }
      ]
    },
    {
      "cell_type": "code",
      "metadata": {
        "id": "tqhhNG57LDra",
        "colab": {
          "base_uri": "https://localhost:8080/"
        },
        "outputId": "56241c03-459e-4131-d2fa-b582258a4def"
      },
      "source": [
        "print(pd_total_litres_S.value_counts()) # Retorna a contagem dos diferentes valores\n",
        "print(pd_total_litres_S.value_counts(normalize=True)) # Retorna a contagem relativa (x/total de casos) dos diferentes valores"
      ],
      "execution_count": 34,
      "outputs": [
        {
          "output_type": "stream",
          "name": "stdout",
          "text": [
            "0.1     7\n",
            "2.2     6\n",
            "1.0     6\n",
            "1.5     5\n",
            "6.3     5\n",
            "       ..\n",
            "14.4    1\n",
            "4.1     1\n",
            "1.6     1\n",
            "5.7     1\n",
            "3.1     1\n",
            "Name: total_litres_of_pure_alcohol, Length: 82, dtype: int64\n",
            "0.1     0.038889\n",
            "2.2     0.033333\n",
            "1.0     0.033333\n",
            "1.5     0.027778\n",
            "6.3     0.027778\n",
            "          ...   \n",
            "14.4    0.005556\n",
            "4.1     0.005556\n",
            "1.6     0.005556\n",
            "5.7     0.005556\n",
            "3.1     0.005556\n",
            "Name: total_litres_of_pure_alcohol, Length: 82, dtype: float64\n"
          ]
        }
      ]
    },
    {
      "cell_type": "code",
      "metadata": {
        "id": "DDlkfW5qMohG",
        "colab": {
          "base_uri": "https://localhost:8080/"
        },
        "outputId": "c45d1fc7-9f41-4c23-dbc9-772e04f79a07"
      },
      "source": [
        "print(pd_total_litres_S.idxmax()) # Index do valor máximo\n",
        "print(pd_total_litres_S.idxmin()) # Index do valor mínimo\n",
        "print(pd_total_litres_S[pd_total_litres_S == pd_total_litres_S.min()]) # Lista dos menores valores (se tiver mais que um)"
      ],
      "execution_count": 35,
      "outputs": [
        {
          "output_type": "stream",
          "name": "stdout",
          "text": [
            "Belarus\n",
            "Comoros\n",
            "country\n",
            "Comoros         0.1\n",
            "Indonesia       0.1\n",
            "Myanmar         0.1\n",
            "Niger           0.1\n",
            "Saudi Arabia    0.1\n",
            "Timor-Leste     0.1\n",
            "Yemen           0.1\n",
            "Name: total_litres_of_pure_alcohol, dtype: float64\n"
          ]
        }
      ]
    },
    {
      "cell_type": "code",
      "metadata": {
        "id": "uOFTMKCbN06M",
        "colab": {
          "base_uri": "https://localhost:8080/"
        },
        "outputId": "6ec2363c-8296-4830-88f6-8d601d05efdc"
      },
      "source": [
        "pd_total_litres_S.sort_values(ascending=False) # Organizar os valores em orden crescente ou descrescente"
      ],
      "execution_count": 36,
      "outputs": [
        {
          "output_type": "execute_result",
          "data": {
            "text/plain": [
              "country\n",
              "Belarus       14.4\n",
              "Lithuania     12.9\n",
              "Andorra       12.4\n",
              "Grenada       11.9\n",
              "France        11.8\n",
              "              ... \n",
              "Mauritania     NaN\n",
              "Monaco         NaN\n",
              "Pakistan       NaN\n",
              "San Marino     NaN\n",
              "Somalia        NaN\n",
              "Name: total_litres_of_pure_alcohol, Length: 193, dtype: float64"
            ]
          },
          "metadata": {},
          "execution_count": 36
        }
      ]
    },
    {
      "cell_type": "code",
      "metadata": {
        "id": "dx_k0qkWRuzE",
        "colab": {
          "base_uri": "https://localhost:8080/"
        },
        "outputId": "2515fefd-0ac3-4aa5-ce09-bdead936159a"
      },
      "source": [
        "#Retorna o conjunto N dos maiores e menores valores. Ex: top10\n",
        "print(pd_total_litres_S.nlargest(n=7))\n",
        "print(pd_total_litres_S.nsmallest(n=7))"
      ],
      "execution_count": 37,
      "outputs": [
        {
          "output_type": "stream",
          "name": "stdout",
          "text": [
            "country\n",
            "Belarus               14.4\n",
            "Lithuania             12.9\n",
            "Andorra               12.4\n",
            "Grenada               11.9\n",
            "Czech Republic        11.8\n",
            "France                11.8\n",
            "Russian Federation    11.5\n",
            "Name: total_litres_of_pure_alcohol, dtype: float64\n",
            "country\n",
            "Comoros         0.1\n",
            "Indonesia       0.1\n",
            "Myanmar         0.1\n",
            "Niger           0.1\n",
            "Saudi Arabia    0.1\n",
            "Timor-Leste     0.1\n",
            "Yemen           0.1\n",
            "Name: total_litres_of_pure_alcohol, dtype: float64\n"
          ]
        }
      ]
    },
    {
      "cell_type": "code",
      "metadata": {
        "id": "0YwDG9qfSQ-y"
      },
      "source": [
        "#Categoriza pelo valor do Index. O parâmetro inplace faz uma atribuição do resultado para a variável. Não é só uma cópia\n",
        "pd_total_litres_S.sort_index(inplace= True)"
      ],
      "execution_count": 38,
      "outputs": []
    },
    {
      "cell_type": "code",
      "metadata": {
        "id": "EbBGk27ITYOs"
      },
      "source": [
        "top_13= pd_total_litres_S[pd_total_litres_S>10]"
      ],
      "execution_count": 39,
      "outputs": []
    },
    {
      "cell_type": "code",
      "metadata": {
        "id": "QBP9h5fzUDNA",
        "colab": {
          "base_uri": "https://localhost:8080/"
        },
        "outputId": "bcd87281-127c-4239-cb79-589363811eee"
      },
      "source": [
        "print(top_13)\n",
        "print(top_13.nsmallest(n=6))"
      ],
      "execution_count": 40,
      "outputs": [
        {
          "output_type": "stream",
          "name": "stdout",
          "text": [
            "country\n",
            "Andorra               12.4\n",
            "Belarus               14.4\n",
            "Czech Republic        11.8\n",
            "France                11.8\n",
            "Germany               11.3\n",
            "Grenada               11.9\n",
            "Hungary               11.3\n",
            "Ireland               11.4\n",
            "Lithuania             12.9\n",
            "Luxembourg            11.4\n",
            "Portugal              11.0\n",
            "Russian Federation    11.5\n",
            "Slovakia              11.4\n",
            "Name: total_litres_of_pure_alcohol, dtype: float64\n",
            "country\n",
            "Portugal      11.0\n",
            "Germany       11.3\n",
            "Hungary       11.3\n",
            "Ireland       11.4\n",
            "Luxembourg    11.4\n",
            "Slovakia      11.4\n",
            "Name: total_litres_of_pure_alcohol, dtype: float64\n"
          ]
        }
      ]
    },
    {
      "cell_type": "code",
      "metadata": {
        "id": "Yp6qdkhTUUdW",
        "colab": {
          "base_uri": "https://localhost:8080/"
        },
        "outputId": "d42b2242-1e1b-4c40-c5dd-380323c8ed50"
      },
      "source": [
        "print(f'The descriptive statistics for the top 7 alcohol drinkings countries are:\\nMean: {top_13.nsmallest(n=6).mean()}\\nMedian: {top_13.nsmallest(n=6).median()}\\nStandart Deviation: {top_13.nsmallest(n=6).std()}')"
      ],
      "execution_count": 41,
      "outputs": [
        {
          "output_type": "stream",
          "name": "stdout",
          "text": [
            "The descriptive statistics for the top 7 alcohol drinkings countries are:\n",
            "Mean: 11.299999999999999\n",
            "Median: 11.350000000000001\n",
            "Standart Deviation: 0.15491933384829681\n"
          ]
        }
      ]
    },
    {
      "cell_type": "code",
      "metadata": {
        "id": "dny0VDLz56A4",
        "colab": {
          "base_uri": "https://localhost:8080/"
        },
        "outputId": "a8e70866-b903-49aa-afe8-3253d564dfc5"
      },
      "source": [
        "# Método que adiciona novos valores ao dataset. Fill_value especifica se é para deixar os outros valores iguais\n",
        "mais_paises = pd.Series({'France': 5})\n",
        "top_13.add(mais_paises,fill_value = 0)"
      ],
      "execution_count": 42,
      "outputs": [
        {
          "output_type": "execute_result",
          "data": {
            "text/plain": [
              "Andorra               12.4\n",
              "Belarus               14.4\n",
              "Czech Republic        11.8\n",
              "France                16.8\n",
              "Germany               11.3\n",
              "Grenada               11.9\n",
              "Hungary               11.3\n",
              "Ireland               11.4\n",
              "Lithuania             12.9\n",
              "Luxembourg            11.4\n",
              "Portugal              11.0\n",
              "Russian Federation    11.5\n",
              "Slovakia              11.4\n",
              "dtype: float64"
            ]
          },
          "metadata": {},
          "execution_count": 42
        }
      ]
    },
    {
      "cell_type": "code",
      "metadata": {
        "id": "KSzx7bhU66JF",
        "colab": {
          "base_uri": "https://localhost:8080/"
        },
        "outputId": "4b40e6fe-a6cd-4ced-f3e7-1f2f63ddd63e"
      },
      "source": [
        "top_13.sort_index(inplace=True)\n",
        "print(top_13)"
      ],
      "execution_count": 43,
      "outputs": [
        {
          "output_type": "stream",
          "name": "stdout",
          "text": [
            "country\n",
            "Andorra               12.4\n",
            "Belarus               14.4\n",
            "Czech Republic        11.8\n",
            "France                11.8\n",
            "Germany               11.3\n",
            "Grenada               11.9\n",
            "Hungary               11.3\n",
            "Ireland               11.4\n",
            "Lithuania             12.9\n",
            "Luxembourg            11.4\n",
            "Portugal              11.0\n",
            "Russian Federation    11.5\n",
            "Slovakia              11.4\n",
            "Name: total_litres_of_pure_alcohol, dtype: float64\n"
          ]
        }
      ]
    },
    {
      "cell_type": "code",
      "metadata": {
        "id": "gEuriGjY_jIb",
        "colab": {
          "base_uri": "https://localhost:8080/"
        },
        "outputId": "d71e1a23-325e-4297-a0d6-66b1f36b86f1"
      },
      "source": [
        "#Soma acumulado de todos os casos. Soma cada um na ordem indexada\n",
        "pd_total_litres_S.cumsum()"
      ],
      "execution_count": 44,
      "outputs": [
        {
          "output_type": "execute_result",
          "data": {
            "text/plain": [
              "country\n",
              "Afghanistan      NaN\n",
              "Albania          4.9\n",
              "Algeria          5.6\n",
              "Andorra         18.0\n",
              "Angola          23.9\n",
              "               ...  \n",
              "Venezuela      775.1\n",
              "Vietnam        777.1\n",
              "Yemen          777.2\n",
              "Zambia         779.7\n",
              "Zimbabwe       784.4\n",
              "Name: total_litres_of_pure_alcohol, Length: 193, dtype: float64"
            ]
          },
          "metadata": {},
          "execution_count": 44
        }
      ]
    },
    {
      "cell_type": "code",
      "metadata": {
        "id": "g-Rv65JnAbXR",
        "colab": {
          "base_uri": "https://localhost:8080/"
        },
        "outputId": "74d7b10f-172a-4bbf-dfa2-00a289d93fb6"
      },
      "source": [
        "top_5 = pd_total_litres_S.sort_values(ascending=False).head(5)\n",
        "top_5"
      ],
      "execution_count": 45,
      "outputs": [
        {
          "output_type": "execute_result",
          "data": {
            "text/plain": [
              "country\n",
              "Belarus           14.4\n",
              "Lithuania         12.9\n",
              "Andorra           12.4\n",
              "Grenada           11.9\n",
              "Czech Republic    11.8\n",
              "Name: total_litres_of_pure_alcohol, dtype: float64"
            ]
          },
          "metadata": {},
          "execution_count": 45
        }
      ]
    },
    {
      "cell_type": "code",
      "metadata": {
        "id": "2qQn9A-YAw4n",
        "colab": {
          "base_uri": "https://localhost:8080/"
        },
        "outputId": "2217cb51-b305-4705-b725-88b47bd5b0f2"
      },
      "source": [
        "# O método Diff é especialmente utilizado e importante para trabalhar como variáveis de tempo. É a diferença entre os\n",
        "#valores anteriores. O parâmetro periods é usado para definir quantas \"casas\" a conta irá pular entre cada elemento.\n",
        "# Diff padrão é igual a 'periods=1'\n",
        "top_5.diff()"
      ],
      "execution_count": 46,
      "outputs": [
        {
          "output_type": "execute_result",
          "data": {
            "text/plain": [
              "country\n",
              "Belarus           NaN\n",
              "Lithuania        -1.5\n",
              "Andorra          -0.5\n",
              "Grenada          -0.5\n",
              "Czech Republic   -0.1\n",
              "Name: total_litres_of_pure_alcohol, dtype: float64"
            ]
          },
          "metadata": {},
          "execution_count": 46
        }
      ]
    },
    {
      "cell_type": "markdown",
      "metadata": {
        "id": "gBfgGE1KC3fj"
      },
      "source": [
        "#**Formas de iterar sobre a Series**"
      ]
    },
    {
      "cell_type": "code",
      "metadata": {
        "id": "PpfJSV4nBwVw",
        "colab": {
          "base_uri": "https://localhost:8080/"
        },
        "outputId": "13d1afec-54eb-4c0e-f240-1a291a314611"
      },
      "source": [
        "for i in top_5:\n",
        "  print(i)"
      ],
      "execution_count": 47,
      "outputs": [
        {
          "output_type": "stream",
          "name": "stdout",
          "text": [
            "14.4\n",
            "12.9\n",
            "12.4\n",
            "11.9\n",
            "11.8\n"
          ]
        }
      ]
    },
    {
      "cell_type": "code",
      "metadata": {
        "id": "bO3ehG6uB8ze",
        "colab": {
          "base_uri": "https://localhost:8080/"
        },
        "outputId": "45783e0e-0ccf-433e-a7ea-3a359656280c"
      },
      "source": [
        "for i in top_5.index:\n",
        "  print(i, top_5[i])"
      ],
      "execution_count": 48,
      "outputs": [
        {
          "output_type": "stream",
          "name": "stdout",
          "text": [
            "Belarus 14.4\n",
            "Lithuania 12.9\n",
            "Andorra 12.4\n",
            "Grenada 11.9\n",
            "Czech Republic 11.8\n"
          ]
        }
      ]
    },
    {
      "cell_type": "code",
      "metadata": {
        "id": "FnwCCNC8Cxcc",
        "colab": {
          "base_uri": "https://localhost:8080/"
        },
        "outputId": "d13ec0e2-8928-4809-a10f-8e3f7bc9f7a5"
      },
      "source": [
        "for i in top_5.items():\n",
        "  print(i)"
      ],
      "execution_count": 49,
      "outputs": [
        {
          "output_type": "stream",
          "name": "stdout",
          "text": [
            "('Belarus', 14.4)\n",
            "('Lithuania', 12.9)\n",
            "('Andorra', 12.4)\n",
            "('Grenada', 11.9)\n",
            "('Czech Republic', 11.8)\n"
          ]
        }
      ]
    },
    {
      "cell_type": "markdown",
      "metadata": {
        "id": "q9DypKa1DJPV"
      },
      "source": [
        "#**Filtros:**\n",
        "-filter\n",
        "\n",
        "-regex\n",
        "\n",
        "-like (sql)\n",
        "\n",
        "-where (sql)\n",
        "\n",
        "-mask\n"
      ]
    },
    {
      "cell_type": "code",
      "metadata": {
        "id": "jjIbBt6YDFzq",
        "colab": {
          "base_uri": "https://localhost:8080/"
        },
        "outputId": "5dcfd155-8305-4b42-abfe-c19aaff52c78"
      },
      "source": [
        "pd_total_litres_S.filter(regex='^V',)"
      ],
      "execution_count": 50,
      "outputs": [
        {
          "output_type": "execute_result",
          "data": {
            "text/plain": [
              "country\n",
              "Vanuatu      0.9\n",
              "Venezuela    7.7\n",
              "Vietnam      2.0\n",
              "Name: total_litres_of_pure_alcohol, dtype: float64"
            ]
          },
          "metadata": {},
          "execution_count": 50
        }
      ]
    },
    {
      "cell_type": "code",
      "metadata": {
        "id": "Z6kVa9hFDjMS",
        "colab": {
          "base_uri": "https://localhost:8080/"
        },
        "outputId": "51b3f964-7178-49c2-e239-b2dd6d64b062"
      },
      "source": [
        "pd_total_litres_S.filter(regex='V',)"
      ],
      "execution_count": 51,
      "outputs": [
        {
          "output_type": "execute_result",
          "data": {
            "text/plain": [
              "country\n",
              "Cabo Verde                      4.0\n",
              "St. Vincent & the Grenadines    6.3\n",
              "Vanuatu                         0.9\n",
              "Venezuela                       7.7\n",
              "Vietnam                         2.0\n",
              "Name: total_litres_of_pure_alcohol, dtype: float64"
            ]
          },
          "metadata": {},
          "execution_count": 51
        }
      ]
    },
    {
      "cell_type": "code",
      "metadata": {
        "id": "tatsQ6AgDnaS",
        "colab": {
          "base_uri": "https://localhost:8080/"
        },
        "outputId": "6ef7dc13-1361-492c-8a13-7217303e40c4"
      },
      "source": [
        "pd_total_litres_S.filter(like=\"zil\")"
      ],
      "execution_count": 52,
      "outputs": [
        {
          "output_type": "execute_result",
          "data": {
            "text/plain": [
              "country\n",
              "Brazil       7.2\n",
              "Swaziland    4.7\n",
              "Name: total_litres_of_pure_alcohol, dtype: float64"
            ]
          },
          "metadata": {},
          "execution_count": 52
        }
      ]
    },
    {
      "cell_type": "code",
      "metadata": {
        "id": "cKL6RxQQD19C",
        "colab": {
          "base_uri": "https://localhost:8080/"
        },
        "outputId": "ee683c66-60b8-4afb-8c35-a20d2d007470"
      },
      "source": [
        "print(pd_total_litres_S[pd_total_litres_S > 10].filter(like='G'))\n",
        "print('\\n')\n",
        "print(pd_total_litres_S[pd_total_litres_S > 10].filter(regex='nce'))"
      ],
      "execution_count": 53,
      "outputs": [
        {
          "output_type": "stream",
          "name": "stdout",
          "text": [
            "country\n",
            "Germany    11.3\n",
            "Grenada    11.9\n",
            "Name: total_litres_of_pure_alcohol, dtype: float64\n",
            "\n",
            "\n",
            "country\n",
            "France    11.8\n",
            "Name: total_litres_of_pure_alcohol, dtype: float64\n"
          ]
        }
      ]
    },
    {
      "cell_type": "code",
      "metadata": {
        "id": "WohtGrg4FJmI",
        "colab": {
          "base_uri": "https://localhost:8080/"
        },
        "outputId": "12635eb5-a92e-42f9-ed53-6b611baf064f"
      },
      "source": [
        "pd_total_litres_S.where(pd_total_litres_S > 12, other='Menor do que 12')"
      ],
      "execution_count": 54,
      "outputs": [
        {
          "output_type": "execute_result",
          "data": {
            "text/plain": [
              "country\n",
              "Afghanistan    Menor do que 12\n",
              "Albania        Menor do que 12\n",
              "Algeria        Menor do que 12\n",
              "Andorra                   12.4\n",
              "Angola         Menor do que 12\n",
              "                    ...       \n",
              "Venezuela      Menor do que 12\n",
              "Vietnam        Menor do que 12\n",
              "Yemen          Menor do que 12\n",
              "Zambia         Menor do que 12\n",
              "Zimbabwe       Menor do que 12\n",
              "Name: total_litres_of_pure_alcohol, Length: 193, dtype: object"
            ]
          },
          "metadata": {},
          "execution_count": 54
        }
      ]
    },
    {
      "cell_type": "code",
      "metadata": {
        "id": "YvlmFGk2F0Z1",
        "colab": {
          "base_uri": "https://localhost:8080/"
        },
        "outputId": "4074eacc-0592-40cb-d27f-126394ad6b40"
      },
      "source": [
        "pd_total_litres_S.where(pd_total_litres_S > 12).dropna()"
      ],
      "execution_count": 55,
      "outputs": [
        {
          "output_type": "execute_result",
          "data": {
            "text/plain": [
              "country\n",
              "Andorra      12.4\n",
              "Belarus      14.4\n",
              "Lithuania    12.9\n",
              "Name: total_litres_of_pure_alcohol, dtype: float64"
            ]
          },
          "metadata": {},
          "execution_count": 55
        }
      ]
    },
    {
      "cell_type": "code",
      "metadata": {
        "id": "XSa6FURDHbby",
        "colab": {
          "base_uri": "https://localhost:8080/"
        },
        "outputId": "27740de1-e668-45fb-89cb-043a27ba037c"
      },
      "source": [
        "# É possível usar uma condicional interadora, como a função anônima lambda\n",
        "pd_total_litres_S.where(lambda x: x >12).dropna()"
      ],
      "execution_count": 56,
      "outputs": [
        {
          "output_type": "execute_result",
          "data": {
            "text/plain": [
              "country\n",
              "Andorra      12.4\n",
              "Belarus      14.4\n",
              "Lithuania    12.9\n",
              "Name: total_litres_of_pure_alcohol, dtype: float64"
            ]
          },
          "metadata": {},
          "execution_count": 56
        }
      ]
    },
    {
      "cell_type": "code",
      "metadata": {
        "id": "6b37sQJ3GjDk",
        "colab": {
          "base_uri": "https://localhost:8080/"
        },
        "outputId": "bae487c5-a786-40ba-a98e-5693dec08b8e"
      },
      "source": [
        "# Retorna todos os casos que não estão especificados no filtor mask.\n",
        "# Faz o oposto do filtro Where\n",
        "pd_total_litres_S.mask(pd_total_litres_S > 12).dropna()"
      ],
      "execution_count": 57,
      "outputs": [
        {
          "output_type": "execute_result",
          "data": {
            "text/plain": [
              "country\n",
              "Albania              4.9\n",
              "Algeria              0.7\n",
              "Angola               5.9\n",
              "Antigua & Barbuda    4.9\n",
              "Argentina            8.3\n",
              "                    ... \n",
              "Venezuela            7.7\n",
              "Vietnam              2.0\n",
              "Yemen                0.1\n",
              "Zambia               2.5\n",
              "Zimbabwe             4.7\n",
              "Name: total_litres_of_pure_alcohol, Length: 177, dtype: float64"
            ]
          },
          "metadata": {},
          "execution_count": 57
        }
      ]
    },
    {
      "cell_type": "code",
      "metadata": {
        "id": "EuEmByvAHEoY",
        "colab": {
          "base_uri": "https://localhost:8080/"
        },
        "outputId": "b920898e-6b89-4fa7-9e36-d0b679ca57f8"
      },
      "source": [
        "pd_total_litres_S.mask(lambda x: x >=0.3).dropna()"
      ],
      "execution_count": 58,
      "outputs": [
        {
          "output_type": "execute_result",
          "data": {
            "text/plain": [
              "country\n",
              "Comoros         0.1\n",
              "Egypt           0.2\n",
              "Guinea          0.2\n",
              "Indonesia       0.1\n",
              "Iraq            0.2\n",
              "Myanmar         0.1\n",
              "Nepal           0.2\n",
              "Niger           0.1\n",
              "Saudi Arabia    0.1\n",
              "Timor-Leste     0.1\n",
              "Yemen           0.1\n",
              "Name: total_litres_of_pure_alcohol, dtype: float64"
            ]
          },
          "metadata": {},
          "execution_count": 58
        }
      ]
    },
    {
      "cell_type": "markdown",
      "metadata": {
        "id": "U_zk9yc-K5LY"
      },
      "source": [
        "#Métodos de modificação:\n",
        "\n",
        "-Update\n",
        "\n",
        "-Apply\n",
        "\n",
        "-map"
      ]
    },
    {
      "cell_type": "code",
      "metadata": {
        "id": "FeJWuWxdLO-e"
      },
      "source": [
        "new_values = pd_total_litres_S.copy()"
      ],
      "execution_count": 59,
      "outputs": []
    },
    {
      "cell_type": "code",
      "metadata": {
        "id": "b7Sk5hX3K6MD",
        "colab": {
          "base_uri": "https://localhost:8080/",
          "height": 197
        },
        "outputId": "774e80a5-28bd-43e8-befd-dbbdc9425c01"
      },
      "source": [
        "# Altera uma lista de valores na Series\n",
        "new_values.update(pd.Series(data=[21,41,32], index=['Argentina','Brazil','Australia']))\n",
        "new_values[a > 20].sort_index()"
      ],
      "execution_count": 60,
      "outputs": [
        {
          "output_type": "error",
          "ename": "NameError",
          "evalue": "ignored",
          "traceback": [
            "\u001b[0;31m---------------------------------------------------------------------------\u001b[0m",
            "\u001b[0;31mNameError\u001b[0m                                 Traceback (most recent call last)",
            "\u001b[0;32m<ipython-input-60-6529cf383949>\u001b[0m in \u001b[0;36m<module>\u001b[0;34m()\u001b[0m\n\u001b[1;32m      1\u001b[0m \u001b[0;31m# Altera uma lista de valores na Series\u001b[0m\u001b[0;34m\u001b[0m\u001b[0;34m\u001b[0m\u001b[0;34m\u001b[0m\u001b[0m\n\u001b[1;32m      2\u001b[0m \u001b[0mnew_values\u001b[0m\u001b[0;34m.\u001b[0m\u001b[0mupdate\u001b[0m\u001b[0;34m(\u001b[0m\u001b[0mpd\u001b[0m\u001b[0;34m.\u001b[0m\u001b[0mSeries\u001b[0m\u001b[0;34m(\u001b[0m\u001b[0mdata\u001b[0m\u001b[0;34m=\u001b[0m\u001b[0;34m[\u001b[0m\u001b[0;36m21\u001b[0m\u001b[0;34m,\u001b[0m\u001b[0;36m41\u001b[0m\u001b[0;34m,\u001b[0m\u001b[0;36m32\u001b[0m\u001b[0;34m]\u001b[0m\u001b[0;34m,\u001b[0m \u001b[0mindex\u001b[0m\u001b[0;34m=\u001b[0m\u001b[0;34m[\u001b[0m\u001b[0;34m'Argentina'\u001b[0m\u001b[0;34m,\u001b[0m\u001b[0;34m'Brazil'\u001b[0m\u001b[0;34m,\u001b[0m\u001b[0;34m'Australia'\u001b[0m\u001b[0;34m]\u001b[0m\u001b[0;34m)\u001b[0m\u001b[0;34m)\u001b[0m\u001b[0;34m\u001b[0m\u001b[0;34m\u001b[0m\u001b[0m\n\u001b[0;32m----> 3\u001b[0;31m \u001b[0mnew_values\u001b[0m\u001b[0;34m[\u001b[0m\u001b[0ma\u001b[0m \u001b[0;34m>\u001b[0m \u001b[0;36m20\u001b[0m\u001b[0;34m]\u001b[0m\u001b[0;34m.\u001b[0m\u001b[0msort_index\u001b[0m\u001b[0;34m(\u001b[0m\u001b[0;34m)\u001b[0m\u001b[0;34m\u001b[0m\u001b[0;34m\u001b[0m\u001b[0m\n\u001b[0m",
            "\u001b[0;31mNameError\u001b[0m: name 'a' is not defined"
          ]
        }
      ]
    },
    {
      "cell_type": "code",
      "metadata": {
        "id": "Ayuy6SA-L_Xh"
      },
      "source": [
        "new_values.nlargest().sort_index()"
      ],
      "execution_count": null,
      "outputs": []
    },
    {
      "cell_type": "code",
      "metadata": {
        "id": "HVHKc7H_R5GB"
      },
      "source": [
        "new_values"
      ],
      "execution_count": null,
      "outputs": []
    },
    {
      "cell_type": "code",
      "metadata": {
        "id": "NZgIVOIYP3p8"
      },
      "source": [
        "print(new_values.apply(lambda x: x**2).nlargest(n=4))\n",
        "print(new_values.apply(np.square).nlargest(n=4))"
      ],
      "execution_count": null,
      "outputs": []
    },
    {
      "cell_type": "code",
      "metadata": {
        "id": "mlkOefT9SBM-"
      },
      "source": [
        "def multiply_by_4 (x):\n",
        "  return x * 4"
      ],
      "execution_count": 62,
      "outputs": []
    },
    {
      "cell_type": "code",
      "metadata": {
        "id": "O12zxg9IRn8B",
        "colab": {
          "base_uri": "https://localhost:8080/"
        },
        "outputId": "7b20c5e1-9a82-41f7-f81a-6fa43a4d075a"
      },
      "source": [
        "new_values.map(multiply_by_4).nlargest(n=4)"
      ],
      "execution_count": 63,
      "outputs": [
        {
          "output_type": "execute_result",
          "data": {
            "text/plain": [
              "country\n",
              "Brazil       164.0\n",
              "Australia    128.0\n",
              "Argentina     84.0\n",
              "Belarus       57.6\n",
              "Name: total_litres_of_pure_alcohol, dtype: float64"
            ]
          },
          "metadata": {},
          "execution_count": 63
        }
      ]
    },
    {
      "cell_type": "markdown",
      "metadata": {
        "id": "L7QKUDaP1Fyl"
      },
      "source": [
        "#**Challenges**"
      ]
    },
    {
      "cell_type": "code",
      "metadata": {
        "id": "CQnTsysL1IcF"
      },
      "source": [
        "#Read the drinks.csv file again, this time bringing the \"beers_servings\" into a new series with country acting\n",
        "#as the index. Assing this series to a variable \"beers\""
      ],
      "execution_count": null,
      "outputs": []
    },
    {
      "cell_type": "code",
      "metadata": {
        "colab": {
          "base_uri": "https://localhost:8080/",
          "height": 204
        },
        "id": "BSVdrHF91agg",
        "outputId": "fee7e9dd-0ea0-4f99-d4aa-6ae70804ac21"
      },
      "source": [
        "data_set = pd.read_csv('drinks.csv')\n",
        "data_set.head()"
      ],
      "execution_count": 67,
      "outputs": [
        {
          "output_type": "execute_result",
          "data": {
            "text/html": [
              "<div>\n",
              "<style scoped>\n",
              "    .dataframe tbody tr th:only-of-type {\n",
              "        vertical-align: middle;\n",
              "    }\n",
              "\n",
              "    .dataframe tbody tr th {\n",
              "        vertical-align: top;\n",
              "    }\n",
              "\n",
              "    .dataframe thead th {\n",
              "        text-align: right;\n",
              "    }\n",
              "</style>\n",
              "<table border=\"1\" class=\"dataframe\">\n",
              "  <thead>\n",
              "    <tr style=\"text-align: right;\">\n",
              "      <th></th>\n",
              "      <th>country</th>\n",
              "      <th>beer_servings</th>\n",
              "      <th>spirit_servings</th>\n",
              "      <th>wine_servings</th>\n",
              "      <th>total_litres_of_pure_alcohol</th>\n",
              "    </tr>\n",
              "  </thead>\n",
              "  <tbody>\n",
              "    <tr>\n",
              "      <th>0</th>\n",
              "      <td>Afghanistan</td>\n",
              "      <td>NaN</td>\n",
              "      <td>NaN</td>\n",
              "      <td>NaN</td>\n",
              "      <td>NaN</td>\n",
              "    </tr>\n",
              "    <tr>\n",
              "      <th>1</th>\n",
              "      <td>Albania</td>\n",
              "      <td>89.0</td>\n",
              "      <td>132.0</td>\n",
              "      <td>54.0</td>\n",
              "      <td>4.9</td>\n",
              "    </tr>\n",
              "    <tr>\n",
              "      <th>2</th>\n",
              "      <td>Algeria</td>\n",
              "      <td>25.0</td>\n",
              "      <td>NaN</td>\n",
              "      <td>14.0</td>\n",
              "      <td>0.7</td>\n",
              "    </tr>\n",
              "    <tr>\n",
              "      <th>3</th>\n",
              "      <td>Andorra</td>\n",
              "      <td>245.0</td>\n",
              "      <td>138.0</td>\n",
              "      <td>312.0</td>\n",
              "      <td>12.4</td>\n",
              "    </tr>\n",
              "    <tr>\n",
              "      <th>4</th>\n",
              "      <td>Angola</td>\n",
              "      <td>217.0</td>\n",
              "      <td>57.0</td>\n",
              "      <td>45.0</td>\n",
              "      <td>5.9</td>\n",
              "    </tr>\n",
              "  </tbody>\n",
              "</table>\n",
              "</div>"
            ],
            "text/plain": [
              "       country  beer_servings  ...  wine_servings  total_litres_of_pure_alcohol\n",
              "0  Afghanistan            NaN  ...            NaN                           NaN\n",
              "1      Albania           89.0  ...           54.0                           4.9\n",
              "2      Algeria           25.0  ...           14.0                           0.7\n",
              "3      Andorra          245.0  ...          312.0                          12.4\n",
              "4       Angola          217.0  ...           45.0                           5.9\n",
              "\n",
              "[5 rows x 5 columns]"
            ]
          },
          "metadata": {},
          "execution_count": 67
        }
      ]
    },
    {
      "cell_type": "code",
      "metadata": {
        "id": "seFCBehA2CjV"
      },
      "source": [
        "beers_ds = pd.read_csv('drinks.csv',index_col=['country'],usecols=['country','beer_servings'],squeeze=True)\n",
        "beers = pd.Series(beers_ds)"
      ],
      "execution_count": 68,
      "outputs": []
    },
    {
      "cell_type": "code",
      "metadata": {
        "colab": {
          "base_uri": "https://localhost:8080/"
        },
        "id": "s_JR6Y1H262d",
        "outputId": "cf8cb8bc-5fe3-43f3-eedf-faf2b65d705d"
      },
      "source": [
        "type(beers)"
      ],
      "execution_count": 70,
      "outputs": [
        {
          "output_type": "execute_result",
          "data": {
            "text/plain": [
              "pandas.core.series.Series"
            ]
          },
          "metadata": {},
          "execution_count": 70
        }
      ]
    },
    {
      "cell_type": "code",
      "metadata": {
        "id": "p7VcFkMO2_8B"
      },
      "source": [
        "beers.sort_index()"
      ],
      "execution_count": null,
      "outputs": []
    },
    {
      "cell_type": "code",
      "metadata": {
        "id": "kVtSy3zJ3OfZ"
      },
      "source": [
        "# Calculate the mean, median and standart deviation of beer_servings in beers\n",
        "#Is the distribution right of left skewed?"
      ],
      "execution_count": null,
      "outputs": []
    },
    {
      "cell_type": "code",
      "metadata": {
        "colab": {
          "base_uri": "https://localhost:8080/",
          "height": 282
        },
        "id": "ZBwuHVxj39rM",
        "outputId": "af02243c-8617-41b8-bdc0-3bd2615bebbd"
      },
      "source": [
        "beers.hist() #The distribution is left skewed, meaning it will have a bigger mean than a median"
      ],
      "execution_count": 76,
      "outputs": [
        {
          "output_type": "execute_result",
          "data": {
            "text/plain": [
              "<matplotlib.axes._subplots.AxesSubplot at 0x7f60ccb60510>"
            ]
          },
          "metadata": {},
          "execution_count": 76
        },
        {
          "output_type": "display_data",
          "data": {
            "image/png": "[encoded data removed]",
            "text/plain": [
              "<Figure size 432x288 with 1 Axes>"
            ]
          },
          "metadata": {
            "needs_background": "light"
          }
        }
      ]
    },
    {
      "cell_type": "code",
      "metadata": {
        "colab": {
          "base_uri": "https://localhost:8080/"
        },
        "id": "fMZ9KJwC4LJZ",
        "outputId": "548be952-be11-4c3c-f401-c983ff541cdd"
      },
      "source": [
        "#We can confirm such conclusion in the following\n",
        "print(f'The mean, median and standart deviations are:\\nMean: {beers.mean()}\\nMedian: {beers.median()}\\nStandart Deviation: {beers.std()}')"
      ],
      "execution_count": 77,
      "outputs": [
        {
          "output_type": "stream",
          "name": "stdout",
          "text": [
            "The mean, median and standart deviations are:\n",
            "Mean: 102.87078651685393\n",
            "Median: 60.0\n",
            "Standart Deviation: 100.64571267934778\n"
          ]
        }
      ]
    },
    {
      "cell_type": "code",
      "metadata": {
        "colab": {
          "base_uri": "https://localhost:8080/"
        },
        "id": "pw8FhkEj48TI",
        "outputId": "c5831b09-fbaf-46c9-c5d1-32e72f8afb44"
      },
      "source": [
        "#Slice the first 10 countries. Are theses relatively large or small to the rest of the sample. Compare the mean and the median\n",
        "print(f'**Mean and median of the first ten countries**\\nMean: {beers.iloc[:10].mean()}\\nMedian: {beers.iloc[:10].median()}\\n**Mean and median of the full dataset**\\nMean: {beers.mean()}\\nMedian: {beers.median()}')"
      ],
      "execution_count": 86,
      "outputs": [
        {
          "output_type": "stream",
          "name": "stdout",
          "text": [
            "**Mean and median of the first ten countries**\n",
            "Mean: 149.11111111111111\n",
            "Median: 193.0\n",
            "**Mean and median of the full dataset**\n",
            "Mean: 102.87078651685393\n",
            "Median: 60.0\n"
          ]
        }
      ]
    },
    {
      "cell_type": "code",
      "metadata": {
        "id": "GksNKxjD6uXs"
      },
      "source": [
        "# Uma outra forma de entender os dois grupos de dados é pelo seu z-score. O z-score mostra o quão distante dada observação está da média geral\n",
        "# do dataset."
      ],
      "execution_count": null,
      "outputs": []
    },
    {
      "cell_type": "code",
      "metadata": {
        "id": "MCV7yneA_UQL",
        "outputId": "95814bfe-f75f-4a15-ea87-b08879cebb37",
        "colab": {
          "base_uri": "https://localhost:8080/"
        }
      },
      "source": [
        "z_score = (beers - beers.mean()) / beers.std()\n",
        "z_score"
      ],
      "execution_count": 96,
      "outputs": [
        {
          "output_type": "execute_result",
          "data": {
            "text/plain": [
              "country\n",
              "Afghanistan         NaN\n",
              "Albania       -0.137818\n",
              "Algeria       -0.773712\n",
              "Andorra        1.412174\n",
              "Angola         1.133970\n",
              "                 ...   \n",
              "Venezuela      2.286528\n",
              "Vietnam        0.080771\n",
              "Yemen         -0.962493\n",
              "Zambia        -0.704161\n",
              "Zimbabwe      -0.386214\n",
              "Name: beer_servings, Length: 193, dtype: float64"
            ]
          },
          "metadata": {},
          "execution_count": 96
        }
      ]
    },
    {
      "cell_type": "code",
      "metadata": {
        "id": "Mds55_X4_8lC",
        "outputId": "b41094f8-8156-45b0-cea0-44a7109d5dab",
        "colab": {
          "base_uri": "https://localhost:8080/"
        }
      },
      "source": [
        "print(z_score.max())\n",
        "print(z_score.idxmax())\n",
        "print(beers['Namibia'])"
      ],
      "execution_count": 106,
      "outputs": [
        {
          "output_type": "stream",
          "name": "stdout",
          "text": [
            "2.7137689844109123\n",
            "Namibia\n",
            "376.0\n"
          ]
        }
      ]
    }
  ]
}