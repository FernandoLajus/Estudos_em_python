{
  "nbformat": 4,
  "nbformat_minor": 0,
  "metadata": {
    "colab": {
      "name": "BootcampV2.ipynb",
      "provenance": [],
      "authorship_tag": "ABX9TyOMWeUc5Si/jy/4jrK/HHJv",
      "include_colab_link": true
    },
    "kernelspec": {
      "name": "python3",
      "display_name": "Python 3"
    },
    "language_info": {
      "name": "python"
    }
  },
  "cells": [
    {
      "cell_type": "markdown",
      "metadata": {
        "id": "view-in-github",
        "colab_type": "text"
      },
      "source": [
        "<a href=\"https://colab.research.google.com/github/FernandoLajus/Python_pd_bootcamp/blob/main/Bootcamp_V2.ipynb\" target=\"_parent\"><img src=\"https://colab.research.google.com/assets/colab-badge.svg\" alt=\"Open In Colab\"/></a>"
      ]
    },
    {
      "cell_type": "markdown",
      "metadata": {
        "id": "nZGyNg-xlLvZ"
      },
      "source": [
        "**Series Methods and Handling**"
      ]
    },
    {
      "cell_type": "code",
      "metadata": {
        "id": "up0DBlLGlLXa"
      },
      "source": [
        ""
      ],
      "execution_count": null,
      "outputs": []
    }
  ]
}