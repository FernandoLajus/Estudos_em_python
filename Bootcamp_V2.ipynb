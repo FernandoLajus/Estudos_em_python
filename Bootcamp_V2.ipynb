{
  "nbformat": 4,
  "nbformat_minor": 0,
  "metadata": {
    "colab": {
      "name": "BootcampV2.ipynb",
      "provenance": [],
      "authorship_tag": "ABX9TyObx1gyQEmrR7lJWYBYbe8H",
      "include_colab_link": true
    },
    "kernelspec": {
      "name": "python3",
      "display_name": "Python 3"
    },
    "language_info": {
      "name": "python"
    }
  },
  "cells": [
    {
      "cell_type": "markdown",
      "metadata": {
        "id": "view-in-github",
        "colab_type": "text"
      },
      "source": [
        "<a href=\"https://colab.research.google.com/github/FernandoLajus/Python_pd_bootcamp/blob/main/Bootcamp_V2.ipynb\" target=\"_parent\"><img src=\"https://colab.research.google.com/assets/colab-badge.svg\" alt=\"Open In Colab\"/></a>"
      ]
    },
    {
      "cell_type": "markdown",
      "metadata": {
        "id": "nZGyNg-xlLvZ"
      },
      "source": [
        "# **Series Methods and Handling**"
      ]
    },
    {
      "cell_type": "code",
      "metadata": {
        "id": "up0DBlLGlLXa"
      },
      "source": [
        "import pandas as pd\n",
        "import numpy as np"
      ],
      "execution_count": 175,
      "outputs": []
    },
    {
      "cell_type": "code",
      "metadata": {
        "id": "u-UrCX16TDJz"
      },
      "source": [
        "path = 'drinks.csv'   "
      ],
      "execution_count": 6,
      "outputs": []
    },
    {
      "cell_type": "code",
      "metadata": {
        "colab": {
          "base_uri": "https://localhost:8080/",
          "height": 204
        },
        "id": "qrL-jKobTDZP",
        "outputId": "330866c7-43f5-4ea8-e1f1-db06c643b5d6"
      },
      "source": [
        "# O método 'read_csv' tem diversos parâmetros. Uso alguns deles nos blocos seguintes\n",
        "pd_drinks = pd.read_csv(path)\n",
        "pd_drinks.head()"
      ],
      "execution_count": 145,
      "outputs": [
        {
          "output_type": "execute_result",
          "data": {
            "text/html": [
              "<div>\n",
              "<style scoped>\n",
              "    .dataframe tbody tr th:only-of-type {\n",
              "        vertical-align: middle;\n",
              "    }\n",
              "\n",
              "    .dataframe tbody tr th {\n",
              "        vertical-align: top;\n",
              "    }\n",
              "\n",
              "    .dataframe thead th {\n",
              "        text-align: right;\n",
              "    }\n",
              "</style>\n",
              "<table border=\"1\" class=\"dataframe\">\n",
              "  <thead>\n",
              "    <tr style=\"text-align: right;\">\n",
              "      <th></th>\n",
              "      <th>country</th>\n",
              "      <th>beer_servings</th>\n",
              "      <th>spirit_servings</th>\n",
              "      <th>wine_servings</th>\n",
              "      <th>total_litres_of_pure_alcohol</th>\n",
              "    </tr>\n",
              "  </thead>\n",
              "  <tbody>\n",
              "    <tr>\n",
              "      <th>0</th>\n",
              "      <td>Afghanistan</td>\n",
              "      <td>NaN</td>\n",
              "      <td>NaN</td>\n",
              "      <td>NaN</td>\n",
              "      <td>NaN</td>\n",
              "    </tr>\n",
              "    <tr>\n",
              "      <th>1</th>\n",
              "      <td>Albania</td>\n",
              "      <td>89.0</td>\n",
              "      <td>132.0</td>\n",
              "      <td>54.0</td>\n",
              "      <td>4.9</td>\n",
              "    </tr>\n",
              "    <tr>\n",
              "      <th>2</th>\n",
              "      <td>Algeria</td>\n",
              "      <td>25.0</td>\n",
              "      <td>NaN</td>\n",
              "      <td>14.0</td>\n",
              "      <td>0.7</td>\n",
              "    </tr>\n",
              "    <tr>\n",
              "      <th>3</th>\n",
              "      <td>Andorra</td>\n",
              "      <td>245.0</td>\n",
              "      <td>138.0</td>\n",
              "      <td>312.0</td>\n",
              "      <td>12.4</td>\n",
              "    </tr>\n",
              "    <tr>\n",
              "      <th>4</th>\n",
              "      <td>Angola</td>\n",
              "      <td>217.0</td>\n",
              "      <td>57.0</td>\n",
              "      <td>45.0</td>\n",
              "      <td>5.9</td>\n",
              "    </tr>\n",
              "  </tbody>\n",
              "</table>\n",
              "</div>"
            ],
            "text/plain": [
              "       country  beer_servings  ...  wine_servings  total_litres_of_pure_alcohol\n",
              "0  Afghanistan            NaN  ...            NaN                           NaN\n",
              "1      Albania           89.0  ...           54.0                           4.9\n",
              "2      Algeria           25.0  ...           14.0                           0.7\n",
              "3      Andorra          245.0  ...          312.0                          12.4\n",
              "4       Angola          217.0  ...           45.0                           5.9\n",
              "\n",
              "[5 rows x 5 columns]"
            ]
          },
          "metadata": {},
          "execution_count": 145
        }
      ]
    },
    {
      "cell_type": "code",
      "metadata": {
        "colab": {
          "base_uri": "https://localhost:8080/"
        },
        "id": "2VHe99ygTDgP",
        "outputId": "d0ebc3d7-757e-4c91-db88-f2df3a4b3651"
      },
      "source": [
        "pd_drinks.shape"
      ],
      "execution_count": 8,
      "outputs": [
        {
          "output_type": "execute_result",
          "data": {
            "text/plain": [
              "(193, 5)"
            ]
          },
          "metadata": {},
          "execution_count": 8
        }
      ]
    },
    {
      "cell_type": "code",
      "metadata": {
        "id": "7JjG-0BqTDlx"
      },
      "source": [
        "# Aqui uso alguns parâmetros diferentes do método 'read_csv'\n",
        "pd_total_litres = pd.read_csv(path,index_col=['country'],usecols=['country','total_litres_of_pure_alcohol'])"
      ],
      "execution_count": 9,
      "outputs": []
    },
    {
      "cell_type": "code",
      "metadata": {
        "colab": {
          "base_uri": "https://localhost:8080/",
          "height": 235
        },
        "id": "rciuNf6TZa4q",
        "outputId": "f4161e74-2669-40b3-8305-9214883bc05c"
      },
      "source": [
        "pd_total_litres.head()"
      ],
      "execution_count": 10,
      "outputs": [
        {
          "output_type": "execute_result",
          "data": {
            "text/html": [
              "<div>\n",
              "<style scoped>\n",
              "    .dataframe tbody tr th:only-of-type {\n",
              "        vertical-align: middle;\n",
              "    }\n",
              "\n",
              "    .dataframe tbody tr th {\n",
              "        vertical-align: top;\n",
              "    }\n",
              "\n",
              "    .dataframe thead th {\n",
              "        text-align: right;\n",
              "    }\n",
              "</style>\n",
              "<table border=\"1\" class=\"dataframe\">\n",
              "  <thead>\n",
              "    <tr style=\"text-align: right;\">\n",
              "      <th></th>\n",
              "      <th>total_litres_of_pure_alcohol</th>\n",
              "    </tr>\n",
              "    <tr>\n",
              "      <th>country</th>\n",
              "      <th></th>\n",
              "    </tr>\n",
              "  </thead>\n",
              "  <tbody>\n",
              "    <tr>\n",
              "      <th>Afghanistan</th>\n",
              "      <td>NaN</td>\n",
              "    </tr>\n",
              "    <tr>\n",
              "      <th>Albania</th>\n",
              "      <td>4.9</td>\n",
              "    </tr>\n",
              "    <tr>\n",
              "      <th>Algeria</th>\n",
              "      <td>0.7</td>\n",
              "    </tr>\n",
              "    <tr>\n",
              "      <th>Andorra</th>\n",
              "      <td>12.4</td>\n",
              "    </tr>\n",
              "    <tr>\n",
              "      <th>Angola</th>\n",
              "      <td>5.9</td>\n",
              "    </tr>\n",
              "  </tbody>\n",
              "</table>\n",
              "</div>"
            ],
            "text/plain": [
              "             total_litres_of_pure_alcohol\n",
              "country                                  \n",
              "Afghanistan                           NaN\n",
              "Albania                               4.9\n",
              "Algeria                               0.7\n",
              "Andorra                              12.4\n",
              "Angola                                5.9"
            ]
          },
          "metadata": {},
          "execution_count": 10
        }
      ]
    },
    {
      "cell_type": "code",
      "metadata": {
        "colab": {
          "base_uri": "https://localhost:8080/"
        },
        "id": "HfsD7bXyZdEn",
        "outputId": "7c91db2e-e3c8-4daa-d55c-8e28f22664f3"
      },
      "source": [
        "# Tipo DataFrame\n",
        "type(pd_total_litres)"
      ],
      "execution_count": 11,
      "outputs": [
        {
          "output_type": "execute_result",
          "data": {
            "text/plain": [
              "pandas.core.frame.DataFrame"
            ]
          },
          "metadata": {},
          "execution_count": 11
        }
      ]
    },
    {
      "cell_type": "code",
      "metadata": {
        "id": "5FIaIJLXadTS"
      },
      "source": [
        "# Transformar um Dataframe em uma Series, ou seja, uma objeto multidimensional em um vetor unidimensional, através do\n",
        "#parâmetro 'squeeze' do método 'read_csv'\n",
        "pd_total_litres_S = pd.read_csv('drinks.csv', index_col=['country'],usecols=['country','total_litres_of_pure_alcohol'],squeeze=True)"
      ],
      "execution_count": 146,
      "outputs": []
    },
    {
      "cell_type": "code",
      "metadata": {
        "colab": {
          "base_uri": "https://localhost:8080/"
        },
        "id": "VBuyksmtaxk3",
        "outputId": "15f8d3aa-b398-42ac-8c8d-e787a936f641"
      },
      "source": [
        "# Tipo Series\n",
        "type(pd_total_litres_S)"
      ],
      "execution_count": 13,
      "outputs": [
        {
          "output_type": "execute_result",
          "data": {
            "text/plain": [
              "pandas.core.series.Series"
            ]
          },
          "metadata": {},
          "execution_count": 13
        }
      ]
    },
    {
      "cell_type": "code",
      "metadata": {
        "colab": {
          "base_uri": "https://localhost:8080/"
        },
        "id": "6GfQ0PN6a0yX",
        "outputId": "59632b3e-f694-4b60-bc05-078aa5d9af45"
      },
      "source": [
        "pd_total_litres_S.head()"
      ],
      "execution_count": 147,
      "outputs": [
        {
          "output_type": "execute_result",
          "data": {
            "text/plain": [
              "country\n",
              "Afghanistan     NaN\n",
              "Albania         4.9\n",
              "Algeria         0.7\n",
              "Andorra        12.4\n",
              "Angola          5.9\n",
              "Name: total_litres_of_pure_alcohol, dtype: float64"
            ]
          },
          "metadata": {},
          "execution_count": 147
        }
      ]
    },
    {
      "cell_type": "code",
      "metadata": {
        "id": "cIVNz2f7OOPv",
        "outputId": "0ef399ee-84f5-4dfb-e719-5b73124b17e1",
        "colab": {
          "base_uri": "https://localhost:8080/"
        }
      },
      "source": [
        "pd_total_litres_S.loc['Argentina']"
      ],
      "execution_count": 148,
      "outputs": [
        {
          "output_type": "execute_result",
          "data": {
            "text/plain": [
              "8.3"
            ]
          },
          "metadata": {},
          "execution_count": 148
        }
      ]
    },
    {
      "cell_type": "code",
      "metadata": {
        "colab": {
          "base_uri": "https://localhost:8080/"
        },
        "id": "mhsmA4-XdoRk",
        "outputId": "780b2fd1-ba73-45ba-ded2-27c7ba3655ae"
      },
      "source": [
        "#Monotonicity = se existe uma \"direção\" para os elementos numéricos\n",
        "pd_total_litres_S.is_monotonic"
      ],
      "execution_count": 15,
      "outputs": [
        {
          "output_type": "execute_result",
          "data": {
            "text/plain": [
              "False"
            ]
          },
          "metadata": {},
          "execution_count": 15
        }
      ]
    },
    {
      "cell_type": "code",
      "metadata": {
        "colab": {
          "base_uri": "https://localhost:8080/"
        },
        "id": "G2iyEro9eXUL",
        "outputId": "428a3758-716d-474b-b360-0e8d6eb3ac78"
      },
      "source": [
        "print(pd_total_litres_S.size) # Conta todos os casos, ou linhas\n",
        "print(pd_total_litres_S.count()) ## Conta todos os casos excluindo valores NaN"
      ],
      "execution_count": 16,
      "outputs": [
        {
          "output_type": "stream",
          "name": "stdout",
          "text": [
            "193\n",
            "180\n"
          ]
        }
      ]
    },
    {
      "cell_type": "code",
      "metadata": {
        "colab": {
          "base_uri": "https://localhost:8080/"
        },
        "id": "APqeTMhEexaP",
        "outputId": "49e74b5a-c5e2-4e01-de03-8740fd517f4c"
      },
      "source": [
        "pd_total_litres_S.isnull() # O método itera sobre todos os itens"
      ],
      "execution_count": 17,
      "outputs": [
        {
          "output_type": "execute_result",
          "data": {
            "text/plain": [
              "country\n",
              "Afghanistan     True\n",
              "Albania        False\n",
              "Algeria        False\n",
              "Andorra        False\n",
              "Angola         False\n",
              "               ...  \n",
              "Venezuela      False\n",
              "Vietnam        False\n",
              "Yemen          False\n",
              "Zambia         False\n",
              "Zimbabwe       False\n",
              "Name: total_litres_of_pure_alcohol, Length: 193, dtype: bool"
            ]
          },
          "metadata": {},
          "execution_count": 17
        }
      ]
    },
    {
      "cell_type": "code",
      "metadata": {
        "colab": {
          "base_uri": "https://localhost:8080/"
        },
        "id": "vgoAQL_OfK-h",
        "outputId": "8990f5f6-29d5-4a10-9222-38f84d0fd9bd"
      },
      "source": [
        "[pd_total_litres_S.isnull()] # Retorna só os itens que respodem como True "
      ],
      "execution_count": 18,
      "outputs": [
        {
          "output_type": "execute_result",
          "data": {
            "text/plain": [
              "[country\n",
              " Afghanistan     True\n",
              " Albania        False\n",
              " Algeria        False\n",
              " Andorra        False\n",
              " Angola         False\n",
              "                ...  \n",
              " Venezuela      False\n",
              " Vietnam        False\n",
              " Yemen          False\n",
              " Zambia         False\n",
              " Zimbabwe       False\n",
              " Name: total_litres_of_pure_alcohol, Length: 193, dtype: bool]"
            ]
          },
          "metadata": {},
          "execution_count": 18
        }
      ]
    },
    {
      "cell_type": "code",
      "metadata": {
        "colab": {
          "base_uri": "https://localhost:8080/"
        },
        "id": "tZnC-Urwfhtt",
        "outputId": "dbd24788-687d-43cf-e082-d5d8865850b9"
      },
      "source": [
        "pd_total_litres_S[pd_total_litres_S.isnull()].index # retorna só o indexador"
      ],
      "execution_count": 19,
      "outputs": [
        {
          "output_type": "execute_result",
          "data": {
            "text/plain": [
              "Index(['Afghanistan', 'Bangladesh', 'North Korea', 'Iran', 'Kuwait', 'Libya',\n",
              "       'Maldives', 'Marshall Islands', 'Mauritania', 'Monaco', 'Pakistan',\n",
              "       'San Marino', 'Somalia'],\n",
              "      dtype='object', name='country')"
            ]
          },
          "metadata": {},
          "execution_count": 19
        }
      ]
    },
    {
      "cell_type": "code",
      "metadata": {
        "colab": {
          "base_uri": "https://localhost:8080/"
        },
        "id": "8eH8TuY2fyev",
        "outputId": "d9df04ed-3dfd-4ae6-b4fc-7af5c51aa233"
      },
      "source": [
        "list(pd_total_litres_S[pd_total_litres_S.isnull()].index) # assim posso criar uma lista com o nome dos países\n"
      ],
      "execution_count": 20,
      "outputs": [
        {
          "output_type": "execute_result",
          "data": {
            "text/plain": [
              "['Afghanistan',\n",
              " 'Bangladesh',\n",
              " 'North Korea',\n",
              " 'Iran',\n",
              " 'Kuwait',\n",
              " 'Libya',\n",
              " 'Maldives',\n",
              " 'Marshall Islands',\n",
              " 'Mauritania',\n",
              " 'Monaco',\n",
              " 'Pakistan',\n",
              " 'San Marino',\n",
              " 'Somalia']"
            ]
          },
          "metadata": {},
          "execution_count": 20
        }
      ]
    },
    {
      "cell_type": "code",
      "metadata": {
        "colab": {
          "base_uri": "https://localhost:8080/"
        },
        "id": "e2sVa1x8gEVt",
        "outputId": "811429e8-f0d3-48ad-8f52-a284e4527111"
      },
      "source": [
        "len(list(pd_total_litres_S[pd_total_litres_S.isnull()].index)) # tamanho da lista"
      ],
      "execution_count": 21,
      "outputs": [
        {
          "output_type": "execute_result",
          "data": {
            "text/plain": [
              "13"
            ]
          },
          "metadata": {},
          "execution_count": 21
        }
      ]
    },
    {
      "cell_type": "code",
      "metadata": {
        "colab": {
          "base_uri": "https://localhost:8080/"
        },
        "id": "Tf70zGUNgWvc",
        "outputId": "3c1b096b-3d31-4418-859b-01d0ed1eba27"
      },
      "source": [
        "list(pd_total_litres_S[pd_total_litres_S.notnull()].index) ## todos os valores não nulos"
      ],
      "execution_count": 22,
      "outputs": [
        {
          "output_type": "execute_result",
          "data": {
            "text/plain": [
              "['Albania',\n",
              " 'Algeria',\n",
              " 'Andorra',\n",
              " 'Angola',\n",
              " 'Antigua & Barbuda',\n",
              " 'Argentina',\n",
              " 'Armenia',\n",
              " 'Australia',\n",
              " 'Austria',\n",
              " 'Azerbaijan',\n",
              " 'Bahamas',\n",
              " 'Bahrain',\n",
              " 'Barbados',\n",
              " 'Belarus',\n",
              " 'Belgium',\n",
              " 'Belize',\n",
              " 'Benin',\n",
              " 'Bhutan',\n",
              " 'Bolivia',\n",
              " 'Bosnia-Herzegovina',\n",
              " 'Botswana',\n",
              " 'Brazil',\n",
              " 'Brunei',\n",
              " 'Bulgaria',\n",
              " 'Burkina Faso',\n",
              " 'Burundi',\n",
              " \"Cote d'Ivoire\",\n",
              " 'Cabo Verde',\n",
              " 'Cambodia',\n",
              " 'Cameroon',\n",
              " 'Canada',\n",
              " 'Central African Republic',\n",
              " 'Chad',\n",
              " 'Chile',\n",
              " 'China',\n",
              " 'Colombia',\n",
              " 'Comoros',\n",
              " 'Congo',\n",
              " 'Cook Islands',\n",
              " 'Costa Rica',\n",
              " 'Croatia',\n",
              " 'Cuba',\n",
              " 'Cyprus',\n",
              " 'Czech Republic',\n",
              " 'DR Congo',\n",
              " 'Denmark',\n",
              " 'Djibouti',\n",
              " 'Dominica',\n",
              " 'Dominican Republic',\n",
              " 'Ecuador',\n",
              " 'Egypt',\n",
              " 'El Salvador',\n",
              " 'Equatorial Guinea',\n",
              " 'Eritrea',\n",
              " 'Estonia',\n",
              " 'Ethiopia',\n",
              " 'Fiji',\n",
              " 'Finland',\n",
              " 'France',\n",
              " 'Gabon',\n",
              " 'Gambia',\n",
              " 'Georgia',\n",
              " 'Germany',\n",
              " 'Ghana',\n",
              " 'Greece',\n",
              " 'Grenada',\n",
              " 'Guatemala',\n",
              " 'Guinea',\n",
              " 'Guinea-Bissau',\n",
              " 'Guyana',\n",
              " 'Haiti',\n",
              " 'Honduras',\n",
              " 'Hungary',\n",
              " 'Iceland',\n",
              " 'India',\n",
              " 'Indonesia',\n",
              " 'Iraq',\n",
              " 'Ireland',\n",
              " 'Israel',\n",
              " 'Italy',\n",
              " 'Jamaica',\n",
              " 'Japan',\n",
              " 'Jordan',\n",
              " 'Kazakhstan',\n",
              " 'Kenya',\n",
              " 'Kiribati',\n",
              " 'Kyrgyzstan',\n",
              " 'Laos',\n",
              " 'Latvia',\n",
              " 'Lebanon',\n",
              " 'Lesotho',\n",
              " 'Liberia',\n",
              " 'Lithuania',\n",
              " 'Luxembourg',\n",
              " 'Madagascar',\n",
              " 'Malawi',\n",
              " 'Malaysia',\n",
              " 'Mali',\n",
              " 'Malta',\n",
              " 'Mauritius',\n",
              " 'Mexico',\n",
              " 'Micronesia',\n",
              " 'Mongolia',\n",
              " 'Montenegro',\n",
              " 'Morocco',\n",
              " 'Mozambique',\n",
              " 'Myanmar',\n",
              " 'Namibia',\n",
              " 'Nauru',\n",
              " 'Nepal',\n",
              " 'Netherlands',\n",
              " 'New Zealand',\n",
              " 'Nicaragua',\n",
              " 'Niger',\n",
              " 'Nigeria',\n",
              " 'Niue',\n",
              " 'Norway',\n",
              " 'Oman',\n",
              " 'Palau',\n",
              " 'Panama',\n",
              " 'Papua New Guinea',\n",
              " 'Paraguay',\n",
              " 'Peru',\n",
              " 'Philippines',\n",
              " 'Poland',\n",
              " 'Portugal',\n",
              " 'Qatar',\n",
              " 'South Korea',\n",
              " 'Moldova',\n",
              " 'Romania',\n",
              " 'Russian Federation',\n",
              " 'Rwanda',\n",
              " 'St. Kitts & Nevis',\n",
              " 'St. Lucia',\n",
              " 'St. Vincent & the Grenadines',\n",
              " 'Samoa',\n",
              " 'Sao Tome & Principe',\n",
              " 'Saudi Arabia',\n",
              " 'Senegal',\n",
              " 'Serbia',\n",
              " 'Seychelles',\n",
              " 'Sierra Leone',\n",
              " 'Singapore',\n",
              " 'Slovakia',\n",
              " 'Slovenia',\n",
              " 'Solomon Islands',\n",
              " 'South Africa',\n",
              " 'Spain',\n",
              " 'Sri Lanka',\n",
              " 'Sudan',\n",
              " 'Suriname',\n",
              " 'Swaziland',\n",
              " 'Sweden',\n",
              " 'Switzerland',\n",
              " 'Syria',\n",
              " 'Tajikistan',\n",
              " 'Thailand',\n",
              " 'Macedonia',\n",
              " 'Timor-Leste',\n",
              " 'Togo',\n",
              " 'Tonga',\n",
              " 'Trinidad & Tobago',\n",
              " 'Tunisia',\n",
              " 'Turkey',\n",
              " 'Turkmenistan',\n",
              " 'Tuvalu',\n",
              " 'Uganda',\n",
              " 'Ukraine',\n",
              " 'United Arab Emirates',\n",
              " 'United Kingdom',\n",
              " 'Tanzania',\n",
              " 'USA',\n",
              " 'Uruguay',\n",
              " 'Uzbekistan',\n",
              " 'Vanuatu',\n",
              " 'Venezuela',\n",
              " 'Vietnam',\n",
              " 'Yemen',\n",
              " 'Zambia',\n",
              " 'Zimbabwe']"
            ]
          },
          "metadata": {},
          "execution_count": 22
        }
      ]
    },
    {
      "cell_type": "code",
      "metadata": {
        "colab": {
          "base_uri": "https://localhost:8080/"
        },
        "id": "p4mNwn6diFND",
        "outputId": "5ea342bb-265b-408b-ee1c-4b599dd1cb5b"
      },
      "source": [
        "len(list(pd_total_litres_S[pd_total_litres_S.notnull()].index)) # contagem dos valores não nulos"
      ],
      "execution_count": 23,
      "outputs": [
        {
          "output_type": "execute_result",
          "data": {
            "text/plain": [
              "180"
            ]
          },
          "metadata": {},
          "execution_count": 23
        }
      ]
    },
    {
      "cell_type": "code",
      "metadata": {
        "id": "S8NnAmdIkw59"
      },
      "source": [
        "# Todos os paíse que não tem valores nulos\n",
        "alcohol_servings = pd_total_litres_S[pd_total_litres_S.notnull()]"
      ],
      "execution_count": 24,
      "outputs": []
    },
    {
      "cell_type": "code",
      "metadata": {
        "colab": {
          "base_uri": "https://localhost:8080/"
        },
        "id": "Dkqx1fV6l8Vf",
        "outputId": "8a17b817-71c2-4d35-c169-e9bf607f1fbd"
      },
      "source": [
        "alcohol_servings.head()"
      ],
      "execution_count": 25,
      "outputs": [
        {
          "output_type": "execute_result",
          "data": {
            "text/plain": [
              "country\n",
              "Albania               4.9\n",
              "Algeria               0.7\n",
              "Andorra              12.4\n",
              "Angola                5.9\n",
              "Antigua & Barbuda     4.9\n",
              "Name: total_litres_of_pure_alcohol, dtype: float64"
            ]
          },
          "metadata": {},
          "execution_count": 25
        }
      ]
    },
    {
      "cell_type": "code",
      "metadata": {
        "id": "32q-MMj0lCTa"
      },
      "source": [
        "# Soma do consumo de alcool para todos os países com valores não nulos\n",
        "total_alcohol_consumption = alcohol_servings.sum()"
      ],
      "execution_count": 26,
      "outputs": []
    },
    {
      "cell_type": "code",
      "metadata": {
        "colab": {
          "base_uri": "https://localhost:8080/"
        },
        "id": "eVgNxPDtm9Z6",
        "outputId": "a0739859-74ef-4036-d341-e4f8a66c9dbe"
      },
      "source": [
        "# Quantidade de países que servem menos de um litro de alcool\n",
        "len(alcohol_servings[alcohol_servings <1])"
      ],
      "execution_count": 27,
      "outputs": [
        {
          "output_type": "execute_result",
          "data": {
            "text/plain": [
              "27"
            ]
          },
          "metadata": {},
          "execution_count": 27
        }
      ]
    },
    {
      "cell_type": "code",
      "metadata": {
        "colab": {
          "base_uri": "https://localhost:8080/"
        },
        "id": "5Cq1cacDoJDg",
        "outputId": "cca204bb-17f4-4373-e8e1-93930769f174"
      },
      "source": [
        "# Soma do total de alcool servidos para os países que servem menos de um litro de alcool\n",
        "alcohol_servings[alcohol_servings<1].sum()"
      ],
      "execution_count": 28,
      "outputs": [
        {
          "output_type": "execute_result",
          "data": {
            "text/plain": [
              "10.6"
            ]
          },
          "metadata": {},
          "execution_count": 28
        }
      ]
    },
    {
      "cell_type": "code",
      "metadata": {
        "id": "9YkPucbF_14-",
        "outputId": "a72ff9a4-8e57-4dd7-deee-7833da9d592d",
        "colab": {
          "base_uri": "https://localhost:8080/"
        }
      },
      "source": [
        "pd_total_litres_S.dropna # Retira todos os NaN"
      ],
      "execution_count": 30,
      "outputs": [
        {
          "output_type": "execute_result",
          "data": {
            "text/plain": [
              "<bound method Series.dropna of country\n",
              "Afghanistan     NaN\n",
              "Albania         4.9\n",
              "Algeria         0.7\n",
              "Andorra        12.4\n",
              "Angola          5.9\n",
              "               ... \n",
              "Venezuela       7.7\n",
              "Vietnam         2.0\n",
              "Yemen           0.1\n",
              "Zambia          2.5\n",
              "Zimbabwe        4.7\n",
              "Name: total_litres_of_pure_alcohol, Length: 193, dtype: float64>"
            ]
          },
          "metadata": {},
          "execution_count": 30
        }
      ]
    },
    {
      "cell_type": "code",
      "metadata": {
        "id": "wFosIiGRArKm",
        "outputId": "3f9e5d1d-0253-40be-c0de-4379a7961e34",
        "colab": {
          "base_uri": "https://localhost:8080/"
        }
      },
      "source": [
        "pd_total_litres_S.fillna(value=999, inplace=False) # Insera um valor definido em todos os casos NaN"
      ],
      "execution_count": 31,
      "outputs": [
        {
          "output_type": "execute_result",
          "data": {
            "text/plain": [
              "country\n",
              "Afghanistan    999.0\n",
              "Albania          4.9\n",
              "Algeria          0.7\n",
              "Andorra         12.4\n",
              "Angola           5.9\n",
              "               ...  \n",
              "Venezuela        7.7\n",
              "Vietnam          2.0\n",
              "Yemen            0.1\n",
              "Zambia           2.5\n",
              "Zimbabwe         4.7\n",
              "Name: total_litres_of_pure_alcohol, Length: 193, dtype: float64"
            ]
          },
          "metadata": {},
          "execution_count": 31
        }
      ]
    },
    {
      "cell_type": "code",
      "metadata": {
        "id": "24m4bVGBBr5q",
        "outputId": "fb9025a6-8923-4026-c76d-ca2c96317048",
        "colab": {
          "base_uri": "https://localhost:8080/"
        }
      },
      "source": [
        "# Descriptive statistics in Pandas\n",
        "print(f'Mean: {pd_total_litres_S.mean()}')\n",
        "print(f'Median: {pd_total_litres_S.median()}') \n",
        "print(f'Mode: {pd_total_litres_S.mode()}')\n",
        "print(f'Count:{pd_total_litres_S.count()}')\n",
        "print(f'Sum: {pd_total_litres_S.sum()}')\n",
        "print(f'Quantile: {pd_total_litres_S.quantile(q=0.25)}')\n",
        "print(f'Min: {pd_total_litres_S.min()}')\n",
        "print(f'Max: {pd_total_litres_S.max()}')\n",
        "print(f'Standart Deviation: {pd_total_litres_S.std()}')"
      ],
      "execution_count": 52,
      "outputs": [
        {
          "output_type": "stream",
          "name": "stdout",
          "text": [
            "Mean: 4.357777777777779\n",
            "Median: 3.8499999999999996\n",
            "Mode: 0    0.1\n",
            "dtype: float64\n",
            "Count:180\n",
            "Sum: 784.3999999999999\n",
            "Quantile: 1.3749999999999998\n",
            "Min: 0.1\n",
            "Max: 14.4\n",
            "Standart Deviation: 3.4541361418818237\n"
          ]
        }
      ]
    },
    {
      "cell_type": "code",
      "metadata": {
        "id": "bJX6jyZ8A8I0",
        "outputId": "71f31eb7-8c3c-4b83-c0a8-c12cc4d78617",
        "colab": {
          "base_uri": "https://localhost:8080/",
          "height": 282
        }
      },
      "source": [
        "pd_total_litres_S.hist()"
      ],
      "execution_count": 33,
      "outputs": [
        {
          "output_type": "execute_result",
          "data": {
            "text/plain": [
              "<matplotlib.axes._subplots.AxesSubplot at 0x7f8bc2404310>"
            ]
          },
          "metadata": {},
          "execution_count": 33
        },
        {
          "output_type": "display_data",
          "data": {
            "image/png": "[encoded data removed]",
            "text/plain": [
              "<Figure size 432x288 with 1 Axes>"
            ]
          },
          "metadata": {
            "needs_background": "light"
          }
        }
      ]
    },
    {
      "cell_type": "code",
      "metadata": {
        "id": "RdiCx5Q0KUM1",
        "outputId": "fd522fba-122b-4796-b1a5-68a1655f3eaf",
        "colab": {
          "base_uri": "https://localhost:8080/"
        }
      },
      "source": [
        "# Este método retorna todas as estatísticas descritivas\n",
        "pd_total_litres_S.describe()"
      ],
      "execution_count": 34,
      "outputs": [
        {
          "output_type": "execute_result",
          "data": {
            "text/plain": [
              "count    180.000000\n",
              "mean       4.357778\n",
              "std        3.454136\n",
              "min        0.100000\n",
              "25%        1.375000\n",
              "50%        3.850000\n",
              "75%        6.700000\n",
              "max       14.400000\n",
              "Name: total_litres_of_pure_alcohol, dtype: float64"
            ]
          },
          "metadata": {},
          "execution_count": 34
        }
      ]
    },
    {
      "cell_type": "code",
      "metadata": {
        "id": "tqhhNG57LDra",
        "outputId": "f677d12e-5fe7-44d1-a123-4a4130f6ab91",
        "colab": {
          "base_uri": "https://localhost:8080/"
        }
      },
      "source": [
        "print(pd_total_litres_S.value_counts()) # Retorna a contagem dos diferentes valores\n",
        "print(pd_total_litres_S.value_counts(normalize=True)) # Retorna a contagem relativa (x/total de casos) dos diferentes valores"
      ],
      "execution_count": 35,
      "outputs": [
        {
          "output_type": "stream",
          "name": "stdout",
          "text": [
            "0.1     7\n",
            "2.2     6\n",
            "1.0     6\n",
            "1.5     5\n",
            "6.3     5\n",
            "       ..\n",
            "14.4    1\n",
            "4.1     1\n",
            "1.6     1\n",
            "5.7     1\n",
            "3.1     1\n",
            "Name: total_litres_of_pure_alcohol, Length: 82, dtype: int64\n",
            "0.1     0.038889\n",
            "2.2     0.033333\n",
            "1.0     0.033333\n",
            "1.5     0.027778\n",
            "6.3     0.027778\n",
            "          ...   \n",
            "14.4    0.005556\n",
            "4.1     0.005556\n",
            "1.6     0.005556\n",
            "5.7     0.005556\n",
            "3.1     0.005556\n",
            "Name: total_litres_of_pure_alcohol, Length: 82, dtype: float64\n"
          ]
        }
      ]
    },
    {
      "cell_type": "code",
      "metadata": {
        "id": "DDlkfW5qMohG",
        "outputId": "e3ac7949-841b-42db-8bcd-a261371050cb",
        "colab": {
          "base_uri": "https://localhost:8080/"
        }
      },
      "source": [
        "print(pd_total_litres_S.idxmax()) # Index do valor máximo\n",
        "print(pd_total_litres_S.idxmin()) # Index do valor mínimo\n",
        "print(pd_total_litres_S[pd_total_litres_S == pd_total_litres_S.min()]) # Lista dos menores valores (se tiver mais que um)"
      ],
      "execution_count": 36,
      "outputs": [
        {
          "output_type": "stream",
          "name": "stdout",
          "text": [
            "Belarus\n",
            "Comoros\n",
            "country\n",
            "Comoros         0.1\n",
            "Indonesia       0.1\n",
            "Myanmar         0.1\n",
            "Niger           0.1\n",
            "Saudi Arabia    0.1\n",
            "Timor-Leste     0.1\n",
            "Yemen           0.1\n",
            "Name: total_litres_of_pure_alcohol, dtype: float64\n"
          ]
        }
      ]
    },
    {
      "cell_type": "code",
      "metadata": {
        "id": "uOFTMKCbN06M",
        "outputId": "d203ee80-1015-4bfb-9648-4d81df1c3012",
        "colab": {
          "base_uri": "https://localhost:8080/"
        }
      },
      "source": [
        "pd_total_litres_S.sort_values(ascending=False) # Organizar os valores em orden crescente ou descrescente"
      ],
      "execution_count": 37,
      "outputs": [
        {
          "output_type": "execute_result",
          "data": {
            "text/plain": [
              "country\n",
              "Belarus       14.4\n",
              "Lithuania     12.9\n",
              "Andorra       12.4\n",
              "Grenada       11.9\n",
              "France        11.8\n",
              "              ... \n",
              "Mauritania     NaN\n",
              "Monaco         NaN\n",
              "Pakistan       NaN\n",
              "San Marino     NaN\n",
              "Somalia        NaN\n",
              "Name: total_litres_of_pure_alcohol, Length: 193, dtype: float64"
            ]
          },
          "metadata": {},
          "execution_count": 37
        }
      ]
    },
    {
      "cell_type": "code",
      "metadata": {
        "id": "dx_k0qkWRuzE",
        "outputId": "1203da77-8247-4fbf-e37d-a8e6a62e3fd0",
        "colab": {
          "base_uri": "https://localhost:8080/"
        }
      },
      "source": [
        "#Retorna o conjunto N dos maiores e menores valores. Ex: top10\n",
        "print(pd_total_litres_S.nlargest(n=7))\n",
        "print(pd_total_litres_S.nsmallest(n=7))"
      ],
      "execution_count": 38,
      "outputs": [
        {
          "output_type": "stream",
          "name": "stdout",
          "text": [
            "country\n",
            "Belarus               14.4\n",
            "Lithuania             12.9\n",
            "Andorra               12.4\n",
            "Grenada               11.9\n",
            "Czech Republic        11.8\n",
            "France                11.8\n",
            "Russian Federation    11.5\n",
            "Name: total_litres_of_pure_alcohol, dtype: float64\n",
            "country\n",
            "Comoros         0.1\n",
            "Indonesia       0.1\n",
            "Myanmar         0.1\n",
            "Niger           0.1\n",
            "Saudi Arabia    0.1\n",
            "Timor-Leste     0.1\n",
            "Yemen           0.1\n",
            "Name: total_litres_of_pure_alcohol, dtype: float64\n"
          ]
        }
      ]
    },
    {
      "cell_type": "code",
      "metadata": {
        "id": "0YwDG9qfSQ-y"
      },
      "source": [
        "#Categoriza pelo valor do Index. O parâmetro inplace faz uma atribuição do resultado para a variável. Não é só uma cópia\n",
        "pd_total_litres_S.sort_index(inplace= True)"
      ],
      "execution_count": 39,
      "outputs": []
    },
    {
      "cell_type": "code",
      "metadata": {
        "id": "EbBGk27ITYOs"
      },
      "source": [
        "top_13= pd_total_litres_S[pd_total_litres_S>10]"
      ],
      "execution_count": 40,
      "outputs": []
    },
    {
      "cell_type": "code",
      "metadata": {
        "id": "QBP9h5fzUDNA",
        "outputId": "50ee043e-096d-4f6a-f4cf-3d53b200140a",
        "colab": {
          "base_uri": "https://localhost:8080/"
        }
      },
      "source": [
        "print(top_13)\n",
        "print(top_13.nsmallest(n=6))"
      ],
      "execution_count": 42,
      "outputs": [
        {
          "output_type": "stream",
          "name": "stdout",
          "text": [
            "country\n",
            "Andorra               12.4\n",
            "Belarus               14.4\n",
            "Czech Republic        11.8\n",
            "France                11.8\n",
            "Germany               11.3\n",
            "Grenada               11.9\n",
            "Hungary               11.3\n",
            "Ireland               11.4\n",
            "Lithuania             12.9\n",
            "Luxembourg            11.4\n",
            "Portugal              11.0\n",
            "Russian Federation    11.5\n",
            "Slovakia              11.4\n",
            "Name: total_litres_of_pure_alcohol, dtype: float64\n",
            "country\n",
            "Portugal      11.0\n",
            "Germany       11.3\n",
            "Hungary       11.3\n",
            "Ireland       11.4\n",
            "Luxembourg    11.4\n",
            "Slovakia      11.4\n",
            "Name: total_litres_of_pure_alcohol, dtype: float64\n"
          ]
        }
      ]
    },
    {
      "cell_type": "code",
      "metadata": {
        "id": "Yp6qdkhTUUdW",
        "outputId": "2c3d852f-0c5e-47b3-a99b-103c02c2207b",
        "colab": {
          "base_uri": "https://localhost:8080/"
        }
      },
      "source": [
        "print(f'The descriptive statistics for the top 7 alcohol drinkings countries are:\\nMean: {top_13.nsmallest(n=6).mean()}\\nMedian: {top_13.nsmallest(n=6).median()}\\nStandart Deviation: {top_13.nsmallest(n=6).std()}')"
      ],
      "execution_count": 46,
      "outputs": [
        {
          "output_type": "stream",
          "name": "stdout",
          "text": [
            "The descriptive statistics for the top 7 alcohol drinkings countries are:\n",
            "Mean: 11.299999999999999\n",
            "Median: 11.350000000000001\n",
            "Standart Deviation: 0.15491933384829681\n"
          ]
        }
      ]
    },
    {
      "cell_type": "code",
      "metadata": {
        "id": "dny0VDLz56A4",
        "outputId": "0f22d99c-bef2-4a4f-b42b-f66a4a35023f",
        "colab": {
          "base_uri": "https://localhost:8080/"
        }
      },
      "source": [
        "# Método que adiciona novos valores ao dataset. Fill_value especifica se é para deixar os outros valores iguais\n",
        "mais_paises = pd.Series({'France': 5})\n",
        "top_13.add(mais_paises,fill_value = 0)"
      ],
      "execution_count": 45,
      "outputs": [
        {
          "output_type": "execute_result",
          "data": {
            "text/plain": [
              "Andorra               12.4\n",
              "Belarus               14.4\n",
              "Czech Republic        11.8\n",
              "France                16.8\n",
              "Germany               11.3\n",
              "Grenada               11.9\n",
              "Hungary               11.3\n",
              "Ireland               11.4\n",
              "Lithuania             12.9\n",
              "Luxembourg            11.4\n",
              "Portugal              11.0\n",
              "Russian Federation    11.5\n",
              "Slovakia              11.4\n",
              "dtype: float64"
            ]
          },
          "metadata": {},
          "execution_count": 45
        }
      ]
    },
    {
      "cell_type": "code",
      "metadata": {
        "id": "KSzx7bhU66JF",
        "outputId": "25ea4a37-6f89-4c85-88a3-73fb42ca1bbb",
        "colab": {
          "base_uri": "https://localhost:8080/"
        }
      },
      "source": [
        "top_13.sort_index(inplace=True)\n",
        "print(top_13)"
      ],
      "execution_count": 49,
      "outputs": [
        {
          "output_type": "stream",
          "name": "stdout",
          "text": [
            "country\n",
            "Andorra               12.4\n",
            "Belarus               14.4\n",
            "Czech Republic        11.8\n",
            "France                11.8\n",
            "Germany               11.3\n",
            "Grenada               11.9\n",
            "Hungary               11.3\n",
            "Ireland               11.4\n",
            "Lithuania             12.9\n",
            "Luxembourg            11.4\n",
            "Portugal              11.0\n",
            "Russian Federation    11.5\n",
            "Slovakia              11.4\n",
            "Name: total_litres_of_pure_alcohol, dtype: float64\n"
          ]
        }
      ]
    },
    {
      "cell_type": "code",
      "metadata": {
        "id": "gEuriGjY_jIb",
        "outputId": "6735801b-4b1d-499d-f860-3d8dcc680898",
        "colab": {
          "base_uri": "https://localhost:8080/"
        }
      },
      "source": [
        "#Soma acumulado de todos os casos. Soma cada um na ordem indexada\n",
        "pd_total_litres_S.cumsum()"
      ],
      "execution_count": 55,
      "outputs": [
        {
          "output_type": "execute_result",
          "data": {
            "text/plain": [
              "country\n",
              "Afghanistan      NaN\n",
              "Albania          4.9\n",
              "Algeria          5.6\n",
              "Andorra         18.0\n",
              "Angola          23.9\n",
              "               ...  \n",
              "Venezuela      775.1\n",
              "Vietnam        777.1\n",
              "Yemen          777.2\n",
              "Zambia         779.7\n",
              "Zimbabwe       784.4\n",
              "Name: total_litres_of_pure_alcohol, Length: 193, dtype: float64"
            ]
          },
          "metadata": {},
          "execution_count": 55
        }
      ]
    },
    {
      "cell_type": "code",
      "metadata": {
        "id": "g-Rv65JnAbXR",
        "outputId": "f296b895-96ad-4234-9cfd-17abbe6944ff",
        "colab": {
          "base_uri": "https://localhost:8080/"
        }
      },
      "source": [
        "top_5 = pd_total_litres_S.sort_values(ascending=False).head(5)\n",
        "top_5"
      ],
      "execution_count": 62,
      "outputs": [
        {
          "output_type": "execute_result",
          "data": {
            "text/plain": [
              "country\n",
              "Belarus           14.4\n",
              "Lithuania         12.9\n",
              "Andorra           12.4\n",
              "Grenada           11.9\n",
              "Czech Republic    11.8\n",
              "Name: total_litres_of_pure_alcohol, dtype: float64"
            ]
          },
          "metadata": {},
          "execution_count": 62
        }
      ]
    },
    {
      "cell_type": "code",
      "metadata": {
        "id": "2qQn9A-YAw4n",
        "outputId": "21b2c509-46f3-4a30-cec0-8e0c0d148a2e",
        "colab": {
          "base_uri": "https://localhost:8080/"
        }
      },
      "source": [
        "# O método Diff é especialmente utilizado e importante para trabalhar como variáveis de tempo. É a diferença entre os\n",
        "#valores anteriores. O parâmetro periods é usado para definir quantas \"casas\" a conta irá pular entre cada elemento.\n",
        "# Diff padrão é igual a 'periods=1'\n",
        "top_5.diff()"
      ],
      "execution_count": 65,
      "outputs": [
        {
          "output_type": "execute_result",
          "data": {
            "text/plain": [
              "country\n",
              "Belarus           NaN\n",
              "Lithuania        -1.5\n",
              "Andorra          -0.5\n",
              "Grenada          -0.5\n",
              "Czech Republic   -0.1\n",
              "Name: total_litres_of_pure_alcohol, dtype: float64"
            ]
          },
          "metadata": {},
          "execution_count": 65
        }
      ]
    },
    {
      "cell_type": "markdown",
      "metadata": {
        "id": "gBfgGE1KC3fj"
      },
      "source": [
        "#**Formas de iterar sobre a Series**"
      ]
    },
    {
      "cell_type": "code",
      "metadata": {
        "id": "PpfJSV4nBwVw",
        "outputId": "afbd5d76-953e-4f80-a308-c99b32cc0044",
        "colab": {
          "base_uri": "https://localhost:8080/"
        }
      },
      "source": [
        "for i in top_5:\n",
        "  print(i)"
      ],
      "execution_count": 69,
      "outputs": [
        {
          "output_type": "stream",
          "name": "stdout",
          "text": [
            "14.4\n",
            "12.9\n",
            "12.4\n",
            "11.9\n",
            "11.8\n"
          ]
        }
      ]
    },
    {
      "cell_type": "code",
      "metadata": {
        "id": "bO3ehG6uB8ze",
        "outputId": "d0d5376c-fb05-4053-b730-b941d86a7157",
        "colab": {
          "base_uri": "https://localhost:8080/"
        }
      },
      "source": [
        "for i in top_5.index:\n",
        "  print(i, top_5[i])"
      ],
      "execution_count": 75,
      "outputs": [
        {
          "output_type": "stream",
          "name": "stdout",
          "text": [
            "Belarus 14.4\n",
            "Lithuania 12.9\n",
            "Andorra 12.4\n",
            "Grenada 11.9\n",
            "Czech Republic 11.8\n"
          ]
        }
      ]
    },
    {
      "cell_type": "code",
      "metadata": {
        "id": "FnwCCNC8Cxcc",
        "outputId": "30b2d3f4-7746-44b4-db0b-92253d2bec72",
        "colab": {
          "base_uri": "https://localhost:8080/"
        }
      },
      "source": [
        "for i in top_5.items():\n",
        "  print(i)"
      ],
      "execution_count": 77,
      "outputs": [
        {
          "output_type": "stream",
          "name": "stdout",
          "text": [
            "('Belarus', 14.4)\n",
            "('Lithuania', 12.9)\n",
            "('Andorra', 12.4)\n",
            "('Grenada', 11.9)\n",
            "('Czech Republic', 11.8)\n"
          ]
        }
      ]
    },
    {
      "cell_type": "markdown",
      "metadata": {
        "id": "q9DypKa1DJPV"
      },
      "source": [
        "#**Filtros:**\n",
        "-filter\n",
        "\n",
        "-regex\n",
        "\n",
        "-like (sql)\n",
        "\n",
        "-where (sql)\n",
        "\n",
        "-mask\n"
      ]
    },
    {
      "cell_type": "code",
      "metadata": {
        "id": "jjIbBt6YDFzq",
        "outputId": "a064b8f6-7dda-45da-ad50-87b9984bf689",
        "colab": {
          "base_uri": "https://localhost:8080/"
        }
      },
      "source": [
        "pd_total_litres_S.filter(regex='^V',)"
      ],
      "execution_count": 82,
      "outputs": [
        {
          "output_type": "execute_result",
          "data": {
            "text/plain": [
              "country\n",
              "Vanuatu      0.9\n",
              "Venezuela    7.7\n",
              "Vietnam      2.0\n",
              "Name: total_litres_of_pure_alcohol, dtype: float64"
            ]
          },
          "metadata": {},
          "execution_count": 82
        }
      ]
    },
    {
      "cell_type": "code",
      "metadata": {
        "id": "Z6kVa9hFDjMS",
        "outputId": "ce25cefa-0674-4260-b385-1c071f1aa58d",
        "colab": {
          "base_uri": "https://localhost:8080/"
        }
      },
      "source": [
        "pd_total_litres_S.filter(regex='V',)"
      ],
      "execution_count": 83,
      "outputs": [
        {
          "output_type": "execute_result",
          "data": {
            "text/plain": [
              "country\n",
              "Cabo Verde                      4.0\n",
              "St. Vincent & the Grenadines    6.3\n",
              "Vanuatu                         0.9\n",
              "Venezuela                       7.7\n",
              "Vietnam                         2.0\n",
              "Name: total_litres_of_pure_alcohol, dtype: float64"
            ]
          },
          "metadata": {},
          "execution_count": 83
        }
      ]
    },
    {
      "cell_type": "code",
      "metadata": {
        "id": "tatsQ6AgDnaS",
        "outputId": "1ac6e6d6-5702-4378-8f86-cdeecdfefbad",
        "colab": {
          "base_uri": "https://localhost:8080/"
        }
      },
      "source": [
        "pd_total_litres_S.filter(like=\"zil\")"
      ],
      "execution_count": 86,
      "outputs": [
        {
          "output_type": "execute_result",
          "data": {
            "text/plain": [
              "country\n",
              "Brazil       7.2\n",
              "Swaziland    4.7\n",
              "Name: total_litres_of_pure_alcohol, dtype: float64"
            ]
          },
          "metadata": {},
          "execution_count": 86
        }
      ]
    },
    {
      "cell_type": "code",
      "metadata": {
        "id": "cKL6RxQQD19C",
        "outputId": "6186bf54-a421-41b1-d8b1-310806229182",
        "colab": {
          "base_uri": "https://localhost:8080/"
        }
      },
      "source": [
        "print(pd_total_litres_S[pd_total_litres_S > 10].filter(like='G'))\n",
        "print('\\n')\n",
        "print(pd_total_litres_S[pd_total_litres_S > 10].filter(regex='nce'))"
      ],
      "execution_count": 98,
      "outputs": [
        {
          "output_type": "stream",
          "name": "stdout",
          "text": [
            "country\n",
            "Germany    11.3\n",
            "Grenada    11.9\n",
            "Name: total_litres_of_pure_alcohol, dtype: float64\n",
            "\n",
            "\n",
            "country\n",
            "France    11.8\n",
            "Name: total_litres_of_pure_alcohol, dtype: float64\n"
          ]
        }
      ]
    },
    {
      "cell_type": "code",
      "metadata": {
        "id": "WohtGrg4FJmI",
        "outputId": "5228d9ca-5e0a-4579-aeaf-764312ac1e7c",
        "colab": {
          "base_uri": "https://localhost:8080/"
        }
      },
      "source": [
        "pd_total_litres_S.where(pd_total_litres_S > 12, other='Menor do que 12')"
      ],
      "execution_count": 127,
      "outputs": [
        {
          "output_type": "execute_result",
          "data": {
            "text/plain": [
              "country\n",
              "Afghanistan    Menor do que 12\n",
              "Albania        Menor do que 12\n",
              "Algeria        Menor do que 12\n",
              "Andorra                   12.4\n",
              "Angola         Menor do que 12\n",
              "                    ...       \n",
              "Venezuela      Menor do que 12\n",
              "Vietnam        Menor do que 12\n",
              "Yemen          Menor do que 12\n",
              "Zambia         Menor do que 12\n",
              "Zimbabwe       Menor do que 12\n",
              "Name: total_litres_of_pure_alcohol, Length: 193, dtype: object"
            ]
          },
          "metadata": {},
          "execution_count": 127
        }
      ]
    },
    {
      "cell_type": "code",
      "metadata": {
        "id": "YvlmFGk2F0Z1",
        "outputId": "b4bff44c-a984-487b-b3cc-f24b419ec805",
        "colab": {
          "base_uri": "https://localhost:8080/"
        }
      },
      "source": [
        "pd_total_litres_S.where(pd_total_litres_S > 12).dropna()"
      ],
      "execution_count": 128,
      "outputs": [
        {
          "output_type": "execute_result",
          "data": {
            "text/plain": [
              "country\n",
              "Andorra      12.4\n",
              "Belarus      14.4\n",
              "Lithuania    12.9\n",
              "Name: total_litres_of_pure_alcohol, dtype: float64"
            ]
          },
          "metadata": {},
          "execution_count": 128
        }
      ]
    },
    {
      "cell_type": "code",
      "metadata": {
        "id": "XSa6FURDHbby",
        "outputId": "3bd3bbae-52e7-411d-ad03-e48c45134cdd",
        "colab": {
          "base_uri": "https://localhost:8080/"
        }
      },
      "source": [
        "# É possível usar uma condicional interadora, como a função anônima lambda\n",
        "pd_total_litres_S.where(lambda x: x >12).dropna()"
      ],
      "execution_count": 124,
      "outputs": [
        {
          "output_type": "execute_result",
          "data": {
            "text/plain": [
              "country\n",
              "Andorra      12.4\n",
              "Belarus      14.4\n",
              "Lithuania    12.9\n",
              "Name: total_litres_of_pure_alcohol, dtype: float64"
            ]
          },
          "metadata": {},
          "execution_count": 124
        }
      ]
    },
    {
      "cell_type": "code",
      "metadata": {
        "id": "6b37sQJ3GjDk",
        "outputId": "c5ea827e-5030-417d-c232-843e89b92528",
        "colab": {
          "base_uri": "https://localhost:8080/"
        }
      },
      "source": [
        "# Retorna todos os casos que não estão especificados no filtor mask.\n",
        "# Faz o oposto do filtro Where\n",
        "pd_total_litres_S.mask(pd_total_litres_S > 12).dropna()"
      ],
      "execution_count": 129,
      "outputs": [
        {
          "output_type": "execute_result",
          "data": {
            "text/plain": [
              "country\n",
              "Albania              4.9\n",
              "Algeria              0.7\n",
              "Angola               5.9\n",
              "Antigua & Barbuda    4.9\n",
              "Argentina            8.3\n",
              "                    ... \n",
              "Venezuela            7.7\n",
              "Vietnam              2.0\n",
              "Yemen                0.1\n",
              "Zambia               2.5\n",
              "Zimbabwe             4.7\n",
              "Name: total_litres_of_pure_alcohol, Length: 177, dtype: float64"
            ]
          },
          "metadata": {},
          "execution_count": 129
        }
      ]
    },
    {
      "cell_type": "code",
      "metadata": {
        "id": "EuEmByvAHEoY",
        "outputId": "bd54a2c2-0271-4da8-af69-59adf3759e42",
        "colab": {
          "base_uri": "https://localhost:8080/"
        }
      },
      "source": [
        "pd_total_litres_S.mask(lambda x: x >=0.3).dropna()"
      ],
      "execution_count": 123,
      "outputs": [
        {
          "output_type": "execute_result",
          "data": {
            "text/plain": [
              "country\n",
              "Comoros         0.1\n",
              "Egypt           0.2\n",
              "Guinea          0.2\n",
              "Indonesia       0.1\n",
              "Iraq            0.2\n",
              "Myanmar         0.1\n",
              "Nepal           0.2\n",
              "Niger           0.1\n",
              "Saudi Arabia    0.1\n",
              "Timor-Leste     0.1\n",
              "Yemen           0.1\n",
              "Name: total_litres_of_pure_alcohol, dtype: float64"
            ]
          },
          "metadata": {},
          "execution_count": 123
        }
      ]
    },
    {
      "cell_type": "markdown",
      "metadata": {
        "id": "U_zk9yc-K5LY"
      },
      "source": [
        "#Métodos de modificação:\n",
        "\n",
        "-Update\n",
        "\n",
        "-Apply\n",
        "\n",
        "-map"
      ]
    },
    {
      "cell_type": "code",
      "metadata": {
        "id": "FeJWuWxdLO-e"
      },
      "source": [
        "new_values = pd_total_litres_S.copy()"
      ],
      "execution_count": 166,
      "outputs": []
    },
    {
      "cell_type": "code",
      "metadata": {
        "id": "b7Sk5hX3K6MD",
        "outputId": "4a8bd8c2-7487-453c-c3b5-b332845d6631",
        "colab": {
          "base_uri": "https://localhost:8080/"
        }
      },
      "source": [
        "# Altera uma lista de valores na Series\n",
        "new_values.update(pd.Series(data=[21,41,32], index=['Argentina','Brazil','Australia']))\n",
        "new_values[a > 20].sort_index()"
      ],
      "execution_count": 167,
      "outputs": [
        {
          "output_type": "execute_result",
          "data": {
            "text/plain": [
              "country\n",
              "Argentina    21.0\n",
              "Australia    32.0\n",
              "Brazil       41.0\n",
              "Name: total_litres_of_pure_alcohol, dtype: float64"
            ]
          },
          "metadata": {},
          "execution_count": 167
        }
      ]
    },
    {
      "cell_type": "code",
      "metadata": {
        "id": "Ayuy6SA-L_Xh",
        "outputId": "cfe3ed67-c0e4-434b-f7e2-43bc62ce575d",
        "colab": {
          "base_uri": "https://localhost:8080/"
        }
      },
      "source": [
        "new_values.nlargest().sort_index()"
      ],
      "execution_count": 168,
      "outputs": [
        {
          "output_type": "execute_result",
          "data": {
            "text/plain": [
              "country\n",
              "Argentina    21.0\n",
              "Australia    32.0\n",
              "Belarus      14.4\n",
              "Brazil       41.0\n",
              "Lithuania    12.9\n",
              "Name: total_litres_of_pure_alcohol, dtype: float64"
            ]
          },
          "metadata": {},
          "execution_count": 168
        }
      ]
    },
    {
      "cell_type": "code",
      "metadata": {
        "id": "HVHKc7H_R5GB",
        "outputId": "d2ab2dc6-ad4f-46fa-c583-ed933431b2bf",
        "colab": {
          "base_uri": "https://localhost:8080/"
        }
      },
      "source": [
        "new_values"
      ],
      "execution_count": 187,
      "outputs": [
        {
          "output_type": "execute_result",
          "data": {
            "text/plain": [
              "country\n",
              "Afghanistan     NaN\n",
              "Albania         4.9\n",
              "Algeria         0.7\n",
              "Andorra        12.4\n",
              "Angola          5.9\n",
              "               ... \n",
              "Venezuela       7.7\n",
              "Vietnam         2.0\n",
              "Yemen           0.1\n",
              "Zambia          2.5\n",
              "Zimbabwe        4.7\n",
              "Name: total_litres_of_pure_alcohol, Length: 193, dtype: float64"
            ]
          },
          "metadata": {},
          "execution_count": 187
        }
      ]
    },
    {
      "cell_type": "code",
      "metadata": {
        "id": "NZgIVOIYP3p8",
        "outputId": "f2e809d6-a0b1-4db2-a110-f631faffbc4d",
        "colab": {
          "base_uri": "https://localhost:8080/"
        }
      },
      "source": [
        "print(new_values.apply(lambda x: x**2).nlargest(n=4))\n",
        "print(new_values.apply(np.square).nlargest(n=4))"
      ],
      "execution_count": 184,
      "outputs": [
        {
          "output_type": "stream",
          "name": "stdout",
          "text": [
            "country\n",
            "Brazil       1681.00\n",
            "Australia    1024.00\n",
            "Argentina     441.00\n",
            "Belarus       207.36\n",
            "Name: total_litres_of_pure_alcohol, dtype: float64\n",
            "country\n",
            "Brazil       1681.00\n",
            "Australia    1024.00\n",
            "Argentina     441.00\n",
            "Belarus       207.36\n",
            "Name: total_litres_of_pure_alcohol, dtype: float64\n"
          ]
        }
      ]
    },
    {
      "cell_type": "code",
      "metadata": {
        "id": "mlkOefT9SBM-"
      },
      "source": [
        "def multiply_by_4 (x):\n",
        "  return x * 4"
      ],
      "execution_count": 188,
      "outputs": []
    },
    {
      "cell_type": "code",
      "metadata": {
        "id": "O12zxg9IRn8B",
        "outputId": "ffeee82a-335c-4c8c-9788-7072115b552c",
        "colab": {
          "base_uri": "https://localhost:8080/"
        }
      },
      "source": [
        "new_values.map(multiply_by_4).nlargest(n=4)"
      ],
      "execution_count": 190,
      "outputs": [
        {
          "output_type": "execute_result",
          "data": {
            "text/plain": [
              "country\n",
              "Brazil       164.0\n",
              "Australia    128.0\n",
              "Argentina     84.0\n",
              "Belarus       57.6\n",
              "Name: total_litres_of_pure_alcohol, dtype: float64"
            ]
          },
          "metadata": {},
          "execution_count": 190
        }
      ]
    }
  ]
}