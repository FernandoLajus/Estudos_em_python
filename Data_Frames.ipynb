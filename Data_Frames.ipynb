{
  "nbformat": 4,
  "nbformat_minor": 0,
  "metadata": {
    "colab": {
      "name": "Data Frames.ipynb",
      "provenance": [],
      "authorship_tag": "ABX9TyMLxV8F4CCYtg6YcPjnUQWh",
      "include_colab_link": true
    },
    "kernelspec": {
      "name": "python3",
      "display_name": "Python 3"
    },
    "language_info": {
      "name": "python"
    }
  },
  "cells": [
    {
      "cell_type": "markdown",
      "metadata": {
        "id": "view-in-github",
        "colab_type": "text"
      },
      "source": [
        "<a href=\"https://colab.research.google.com/github/FernandoLajus/Python_pd_bootcamp/blob/main/Data_Frames.ipynb\" target=\"_parent\"><img src=\"https://colab.research.google.com/assets/colab-badge.svg\" alt=\"Open In Colab\"/></a>"
      ]
    },
    {
      "cell_type": "markdown",
      "metadata": {
        "id": "FCL5fRwcMary"
      },
      "source": [
        "# Data Frames methods and functions\n"
      ]
    },
    {
      "cell_type": "code",
      "metadata": {
        "id": "CIWFwl9lq7BO"
      },
      "source": [
        "import numpy as np\n",
        "import pandas as pd"
      ],
      "execution_count": 1,
      "outputs": []
    },
    {
      "cell_type": "code",
      "metadata": {
        "colab": {
          "base_uri": "https://localhost:8080/",
          "height": 35
        },
        "id": "Gi5Yo3L0sH0P",
        "outputId": "3db556a3-29bc-497b-e676-e785686e2e55"
      },
      "source": [
        "pd.__version__"
      ],
      "execution_count": null,
      "outputs": [
        {
          "output_type": "execute_result",
          "data": {
            "application/vnd.google.colaboratory.intrinsic+json": {
              "type": "string"
            },
            "text/plain": [
              "'1.1.5'"
            ]
          },
          "metadata": {},
          "execution_count": 2
        }
      ]
    },
    {
      "cell_type": "code",
      "metadata": {
        "id": "qKigwxoTsMGs"
      },
      "source": [
        "name = ['Fernando','Paulo','Maria','Valentina','Júlio']\n",
        "years = [21,32,25,19,31]\n",
        "married = [True,True,False,False,False ]"
      ],
      "execution_count": null,
      "outputs": []
    },
    {
      "cell_type": "code",
      "metadata": {
        "id": "gqwUEay1sj9Y"
      },
      "source": [
        "df = pd.DataFrame({'nome':name,'years': years, 'married':married})"
      ],
      "execution_count": null,
      "outputs": []
    },
    {
      "cell_type": "code",
      "metadata": {
        "colab": {
          "base_uri": "https://localhost:8080/",
          "height": 204
        },
        "id": "CeowOkZWt6Ur",
        "outputId": "f6f78506-4d8d-469c-e8d7-494e124f4844"
      },
      "source": [
        "df.head()"
      ],
      "execution_count": null,
      "outputs": [
        {
          "output_type": "execute_result",
          "data": {
            "text/html": [
              "<div>\n",
              "<style scoped>\n",
              "    .dataframe tbody tr th:only-of-type {\n",
              "        vertical-align: middle;\n",
              "    }\n",
              "\n",
              "    .dataframe tbody tr th {\n",
              "        vertical-align: top;\n",
              "    }\n",
              "\n",
              "    .dataframe thead th {\n",
              "        text-align: right;\n",
              "    }\n",
              "</style>\n",
              "<table border=\"1\" class=\"dataframe\">\n",
              "  <thead>\n",
              "    <tr style=\"text-align: right;\">\n",
              "      <th></th>\n",
              "      <th>nome</th>\n",
              "      <th>years</th>\n",
              "      <th>married</th>\n",
              "    </tr>\n",
              "  </thead>\n",
              "  <tbody>\n",
              "    <tr>\n",
              "      <th>0</th>\n",
              "      <td>Fernando</td>\n",
              "      <td>21</td>\n",
              "      <td>True</td>\n",
              "    </tr>\n",
              "    <tr>\n",
              "      <th>1</th>\n",
              "      <td>Paulo</td>\n",
              "      <td>32</td>\n",
              "      <td>True</td>\n",
              "    </tr>\n",
              "    <tr>\n",
              "      <th>2</th>\n",
              "      <td>Maria</td>\n",
              "      <td>25</td>\n",
              "      <td>False</td>\n",
              "    </tr>\n",
              "    <tr>\n",
              "      <th>3</th>\n",
              "      <td>Valentina</td>\n",
              "      <td>19</td>\n",
              "      <td>False</td>\n",
              "    </tr>\n",
              "    <tr>\n",
              "      <th>4</th>\n",
              "      <td>Júlio</td>\n",
              "      <td>31</td>\n",
              "      <td>False</td>\n",
              "    </tr>\n",
              "  </tbody>\n",
              "</table>\n",
              "</div>"
            ],
            "text/plain": [
              "        nome  years  married\n",
              "0   Fernando     21     True\n",
              "1      Paulo     32     True\n",
              "2      Maria     25    False\n",
              "3  Valentina     19    False\n",
              "4      Júlio     31    False"
            ]
          },
          "metadata": {},
          "execution_count": 5
        }
      ]
    },
    {
      "cell_type": "code",
      "metadata": {
        "colab": {
          "base_uri": "https://localhost:8080/",
          "height": 35
        },
        "id": "QofkIn8mtCq6",
        "outputId": "8ca5f1f7-5073-4a47-f1d9-f6ce0f478968"
      },
      "source": [
        " df.iloc[2,0]"
      ],
      "execution_count": null,
      "outputs": [
        {
          "output_type": "execute_result",
          "data": {
            "application/vnd.google.colaboratory.intrinsic+json": {
              "type": "string"
            },
            "text/plain": [
              "'Maria'"
            ]
          },
          "metadata": {},
          "execution_count": 6
        }
      ]
    },
    {
      "cell_type": "code",
      "metadata": {
        "colab": {
          "base_uri": "https://localhost:8080/"
        },
        "id": "wW4TAHvPuPl5",
        "outputId": "768f8a58-8735-4b05-e13a-e39836ed6c11"
      },
      "source": [
        "df.shape"
      ],
      "execution_count": null,
      "outputs": [
        {
          "output_type": "execute_result",
          "data": {
            "text/plain": [
              "(5, 3)"
            ]
          },
          "metadata": {},
          "execution_count": 7
        }
      ]
    },
    {
      "cell_type": "code",
      "metadata": {
        "colab": {
          "base_uri": "https://localhost:8080/"
        },
        "id": "CHCyUfgcuXBI",
        "outputId": "0f6be4e9-d080-417c-e0b8-118e24ea9da9"
      },
      "source": [
        "df.years"
      ],
      "execution_count": null,
      "outputs": [
        {
          "output_type": "execute_result",
          "data": {
            "text/plain": [
              "0    21\n",
              "1    32\n",
              "2    25\n",
              "3    19\n",
              "4    31\n",
              "Name: years, dtype: int64"
            ]
          },
          "metadata": {},
          "execution_count": 8
        }
      ]
    },
    {
      "cell_type": "code",
      "metadata": {
        "colab": {
          "base_uri": "https://localhost:8080/"
        },
        "id": "bSFASMUTuo4b",
        "outputId": "86314043-6a65-4c52-8057-1a1d8ad883b6"
      },
      "source": [
        "df.dtypes"
      ],
      "execution_count": null,
      "outputs": [
        {
          "output_type": "execute_result",
          "data": {
            "text/plain": [
              "nome       object\n",
              "years       int64\n",
              "married      bool\n",
              "dtype: object"
            ]
          },
          "metadata": {},
          "execution_count": 9
        }
      ]
    },
    {
      "cell_type": "code",
      "metadata": {
        "colab": {
          "base_uri": "https://localhost:8080/"
        },
        "id": "ZfZZkzVY2WIx",
        "outputId": "a9d97b21-5d97-47ff-bd5e-a4332ff1fd0c"
      },
      "source": [
        "df.info()"
      ],
      "execution_count": null,
      "outputs": [
        {
          "output_type": "stream",
          "name": "stdout",
          "text": [
            "<class 'pandas.core.frame.DataFrame'>\n",
            "RangeIndex: 5 entries, 0 to 4\n",
            "Data columns (total 3 columns):\n",
            " #   Column   Non-Null Count  Dtype \n",
            "---  ------   --------------  ----- \n",
            " 0   nome     5 non-null      object\n",
            " 1   years    5 non-null      int64 \n",
            " 2   married  5 non-null      bool  \n",
            "dtypes: bool(1), int64(1), object(1)\n",
            "memory usage: 213.0+ bytes\n"
          ]
        }
      ]
    },
    {
      "cell_type": "markdown",
      "metadata": {
        "id": "fyLlT-i0MRFa"
      },
      "source": [
        "# Refugees"
      ]
    },
    {
      "cell_type": "code",
      "metadata": {
        "id": "wFFVGDHq7EcJ"
      },
      "source": [
        "refugees = pd.read_csv('Refugee.csv')"
      ],
      "execution_count": null,
      "outputs": []
    },
    {
      "cell_type": "code",
      "metadata": {
        "id": "FgYFOUWA7TGv"
      },
      "source": [
        "refugees.info(memory_usage='deep')"
      ],
      "execution_count": null,
      "outputs": []
    },
    {
      "cell_type": "code",
      "metadata": {
        "colab": {
          "base_uri": "https://localhost:8080/",
          "height": 309
        },
        "id": "3jc-zvSD7t48",
        "outputId": "317a88d1-23ae-414b-ef52-2fae5030d098"
      },
      "source": [
        "refugees.head()"
      ],
      "execution_count": null,
      "outputs": [
        {
          "output_type": "execute_result",
          "data": {
            "text/html": [
              "<div>\n",
              "<style scoped>\n",
              "    .dataframe tbody tr th:only-of-type {\n",
              "        vertical-align: middle;\n",
              "    }\n",
              "\n",
              "    .dataframe tbody tr th {\n",
              "        vertical-align: top;\n",
              "    }\n",
              "\n",
              "    .dataframe thead th {\n",
              "        text-align: right;\n",
              "    }\n",
              "</style>\n",
              "<table border=\"1\" class=\"dataframe\">\n",
              "  <thead>\n",
              "    <tr style=\"text-align: right;\">\n",
              "      <th></th>\n",
              "      <th>Year</th>\n",
              "      <th>Country of origin</th>\n",
              "      <th>Country of origin (ISO)</th>\n",
              "      <th>Country of asylum</th>\n",
              "      <th>Country of asylum (ISO)</th>\n",
              "      <th>Female 0 - 4</th>\n",
              "      <th>Female 5 - 11</th>\n",
              "      <th>Female 12 - 17</th>\n",
              "      <th>Female 5 - 17</th>\n",
              "      <th>Female 18 - 59</th>\n",
              "      <th>Female 60</th>\n",
              "      <th>f_other</th>\n",
              "      <th>Female total</th>\n",
              "      <th>f_unknown</th>\n",
              "      <th>Male 0 - 4</th>\n",
              "      <th>Male 5 - 11</th>\n",
              "      <th>Male 12 - 17</th>\n",
              "      <th>Male 5 - 17</th>\n",
              "      <th>Male 18 - 59</th>\n",
              "      <th>Male 60</th>\n",
              "      <th>Male total</th>\n",
              "      <th>m_other</th>\n",
              "      <th>m_unknown</th>\n",
              "      <th>Total</th>\n",
              "    </tr>\n",
              "  </thead>\n",
              "  <tbody>\n",
              "    <tr>\n",
              "      <th>0</th>\n",
              "      <td>2010</td>\n",
              "      <td>Afghanistan</td>\n",
              "      <td>AFG</td>\n",
              "      <td>Afghanistan</td>\n",
              "      <td>AFG</td>\n",
              "      <td>60105</td>\n",
              "      <td>5</td>\n",
              "      <td>90</td>\n",
              "      <td>NaN</td>\n",
              "      <td>248987</td>\n",
              "      <td>13701</td>\n",
              "      <td>NaN</td>\n",
              "      <td>585005</td>\n",
              "      <td>NaN</td>\n",
              "      <td>61646</td>\n",
              "      <td>5</td>\n",
              "      <td>90</td>\n",
              "      <td>NaN</td>\n",
              "      <td>243299</td>\n",
              "      <td>21816</td>\n",
              "      <td>605152</td>\n",
              "      <td>NaN</td>\n",
              "      <td>NaN</td>\n",
              "      <td>1190157</td>\n",
              "    </tr>\n",
              "    <tr>\n",
              "      <th>1</th>\n",
              "      <td>2010</td>\n",
              "      <td>Iran (Islamic Rep. of)</td>\n",
              "      <td>IRN</td>\n",
              "      <td>Afghanistan</td>\n",
              "      <td>AFG</td>\n",
              "      <td>0</td>\n",
              "      <td>0</td>\n",
              "      <td>0</td>\n",
              "      <td>NaN</td>\n",
              "      <td>16</td>\n",
              "      <td>0</td>\n",
              "      <td>NaN</td>\n",
              "      <td>16</td>\n",
              "      <td>NaN</td>\n",
              "      <td>0</td>\n",
              "      <td>5</td>\n",
              "      <td>5</td>\n",
              "      <td>NaN</td>\n",
              "      <td>20</td>\n",
              "      <td>0</td>\n",
              "      <td>30</td>\n",
              "      <td>NaN</td>\n",
              "      <td>NaN</td>\n",
              "      <td>51</td>\n",
              "    </tr>\n",
              "    <tr>\n",
              "      <th>2</th>\n",
              "      <td>2010</td>\n",
              "      <td>Iraq</td>\n",
              "      <td>IRQ</td>\n",
              "      <td>Afghanistan</td>\n",
              "      <td>AFG</td>\n",
              "      <td>0</td>\n",
              "      <td>0</td>\n",
              "      <td>0</td>\n",
              "      <td>NaN</td>\n",
              "      <td>0</td>\n",
              "      <td>0</td>\n",
              "      <td>NaN</td>\n",
              "      <td>0</td>\n",
              "      <td>NaN</td>\n",
              "      <td>6</td>\n",
              "      <td>0</td>\n",
              "      <td>0</td>\n",
              "      <td>NaN</td>\n",
              "      <td>0</td>\n",
              "      <td>0</td>\n",
              "      <td>6</td>\n",
              "      <td>NaN</td>\n",
              "      <td>NaN</td>\n",
              "      <td>6</td>\n",
              "    </tr>\n",
              "    <tr>\n",
              "      <th>3</th>\n",
              "      <td>2010</td>\n",
              "      <td>Pakistan</td>\n",
              "      <td>PAK</td>\n",
              "      <td>Afghanistan</td>\n",
              "      <td>AFG</td>\n",
              "      <td>579</td>\n",
              "      <td>0</td>\n",
              "      <td>0</td>\n",
              "      <td>NaN</td>\n",
              "      <td>1309</td>\n",
              "      <td>70</td>\n",
              "      <td>NaN</td>\n",
              "      <td>3171</td>\n",
              "      <td>NaN</td>\n",
              "      <td>602</td>\n",
              "      <td>7</td>\n",
              "      <td>0</td>\n",
              "      <td>NaN</td>\n",
              "      <td>1227</td>\n",
              "      <td>117</td>\n",
              "      <td>3236</td>\n",
              "      <td>NaN</td>\n",
              "      <td>NaN</td>\n",
              "      <td>6407</td>\n",
              "    </tr>\n",
              "    <tr>\n",
              "      <th>4</th>\n",
              "      <td>2010</td>\n",
              "      <td>China</td>\n",
              "      <td>CHN</td>\n",
              "      <td>Albania</td>\n",
              "      <td>ALB</td>\n",
              "      <td>0</td>\n",
              "      <td>0</td>\n",
              "      <td>0</td>\n",
              "      <td>NaN</td>\n",
              "      <td>0</td>\n",
              "      <td>0</td>\n",
              "      <td>NaN</td>\n",
              "      <td>0</td>\n",
              "      <td>NaN</td>\n",
              "      <td>0</td>\n",
              "      <td>0</td>\n",
              "      <td>0</td>\n",
              "      <td>NaN</td>\n",
              "      <td>6</td>\n",
              "      <td>0</td>\n",
              "      <td>6</td>\n",
              "      <td>NaN</td>\n",
              "      <td>NaN</td>\n",
              "      <td>6</td>\n",
              "    </tr>\n",
              "  </tbody>\n",
              "</table>\n",
              "</div>"
            ],
            "text/plain": [
              "   Year       Country of origin  ... m_unknown    Total\n",
              "0  2010             Afghanistan  ...       NaN  1190157\n",
              "1  2010  Iran (Islamic Rep. of)  ...       NaN       51\n",
              "2  2010                    Iraq  ...       NaN        6\n",
              "3  2010                Pakistan  ...       NaN     6407\n",
              "4  2010                   China  ...       NaN        6\n",
              "\n",
              "[5 rows x 24 columns]"
            ]
          },
          "metadata": {},
          "execution_count": 143
        }
      ]
    },
    {
      "cell_type": "code",
      "metadata": {
        "id": "ThgM7et-NjS_"
      },
      "source": [
        "refugees['Country of origin'].value_counts()"
      ],
      "execution_count": null,
      "outputs": []
    },
    {
      "cell_type": "code",
      "metadata": {
        "id": "G9C1foXCSOVB",
        "colab": {
          "base_uri": "https://localhost:8080/",
          "height": 35
        },
        "outputId": "0e33d64e-3637-495b-e2ea-534a08110992"
      },
      "source": [
        "refugees.loc[4]['Country of origin']"
      ],
      "execution_count": null,
      "outputs": [
        {
          "output_type": "execute_result",
          "data": {
            "application/vnd.google.colaboratory.intrinsic+json": {
              "type": "string"
            },
            "text/plain": [
              "'China'"
            ]
          },
          "metadata": {},
          "execution_count": 151
        }
      ]
    },
    {
      "cell_type": "markdown",
      "metadata": {
        "id": "yakA6H0bMVNq"
      },
      "source": [
        "#**Nutritional vallues**"
      ]
    },
    {
      "cell_type": "code",
      "metadata": {
        "id": "EJcGZoxM9AQa"
      },
      "source": [
        "nutrition = pd.read_csv('nutrition.csv')"
      ],
      "execution_count": 2,
      "outputs": []
    },
    {
      "cell_type": "code",
      "metadata": {
        "colab": {
          "base_uri": "https://localhost:8080/"
        },
        "id": "zO5OWk3C-eRP",
        "outputId": "c18ad5df-a122-4683-9b8b-9f29f7eef1d1"
      },
      "source": [
        "# O parâmetro \"verbose\" elimina a descrição exaustiva das colunas. \n",
        "#\"Memory_usage = deep\" mostra um uso mais detalhado da memória \n",
        "nutrition.info(verbose=False,memory_usage=\"deep\")"
      ],
      "execution_count": 3,
      "outputs": [
        {
          "output_type": "stream",
          "name": "stdout",
          "text": [
            "<class 'pandas.core.frame.DataFrame'>\n",
            "RangeIndex: 8789 entries, 0 to 8788\n",
            "Columns: 77 entries, Unnamed: 0 to water\n",
            "dtypes: int64(3), object(74)\n",
            "memory usage: 39.2 MB\n"
          ]
        }
      ]
    },
    {
      "cell_type": "code",
      "metadata": {
        "id": "RMMdslU0_QxU",
        "outputId": "d2ba356c-18c5-4308-f2ed-73950086d2d3",
        "colab": {
          "base_uri": "https://localhost:8080/"
        }
      },
      "source": [
        "nutrition['protein'].sort_values(ascending=False)"
      ],
      "execution_count": 4,
      "outputs": [
        {
          "output_type": "execute_result",
          "data": {
            "text/plain": [
              "753     9.99 g\n",
              "2279    9.98 g\n",
              "4261    9.98 g\n",
              "811     9.95 g\n",
              "2449    9.94 g\n",
              "         ...  \n",
              "1920    0.00 g\n",
              "407     0.00 g\n",
              "7985    0.00 g\n",
              "5954    0.00 g\n",
              "328     0.00 g\n",
              "Name: protein, Length: 8789, dtype: object"
            ]
          },
          "metadata": {},
          "execution_count": 4
        }
      ]
    },
    {
      "cell_type": "code",
      "metadata": {
        "id": "0nt0ppwbAI0E"
      },
      "source": [
        "nutrition.drop('Unnamed: 0',axis=1,inplace=True)\n",
        "nutrition.head(5)"
      ],
      "execution_count": null,
      "outputs": []
    },
    {
      "cell_type": "code",
      "metadata": {
        "id": "MprqNipjDx8O"
      },
      "source": [
        "nutrition.sample(frac=0.0005) # Frac retorna uma fração do dataset\n",
        "nutrition.sample(4)"
      ],
      "execution_count": null,
      "outputs": []
    },
    {
      "cell_type": "code",
      "metadata": {
        "id": "uRm7ojPFDyK1"
      },
      "source": [
        "nutrition_1 = pd.read_csv('nutrition.csv',index_col='name')\n",
        "nutrition_1.drop('Unnamed: 0', axis= 1, inplace=True)"
      ],
      "execution_count": 7,
      "outputs": []
    },
    {
      "cell_type": "code",
      "metadata": {
        "id": "7iLWoGt6DyPt",
        "colab": {
          "base_uri": "https://localhost:8080/",
          "height": 340
        },
        "outputId": "f6f2a96a-4cc9-4181-8670-0d645454356b"
      },
      "source": [
        "nutrition_1.head()"
      ],
      "execution_count": 8,
      "outputs": [
        {
          "output_type": "execute_result",
          "data": {
            "text/html": [
              "<div>\n",
              "<style scoped>\n",
              "    .dataframe tbody tr th:only-of-type {\n",
              "        vertical-align: middle;\n",
              "    }\n",
              "\n",
              "    .dataframe tbody tr th {\n",
              "        vertical-align: top;\n",
              "    }\n",
              "\n",
              "    .dataframe thead th {\n",
              "        text-align: right;\n",
              "    }\n",
              "</style>\n",
              "<table border=\"1\" class=\"dataframe\">\n",
              "  <thead>\n",
              "    <tr style=\"text-align: right;\">\n",
              "      <th></th>\n",
              "      <th>serving_size</th>\n",
              "      <th>calories</th>\n",
              "      <th>total_fat</th>\n",
              "      <th>saturated_fat</th>\n",
              "      <th>cholesterol</th>\n",
              "      <th>sodium</th>\n",
              "      <th>choline</th>\n",
              "      <th>folate</th>\n",
              "      <th>folic_acid</th>\n",
              "      <th>niacin</th>\n",
              "      <th>pantothenic_acid</th>\n",
              "      <th>riboflavin</th>\n",
              "      <th>thiamin</th>\n",
              "      <th>vitamin_a</th>\n",
              "      <th>vitamin_a_rae</th>\n",
              "      <th>carotene_alpha</th>\n",
              "      <th>carotene_beta</th>\n",
              "      <th>cryptoxanthin_beta</th>\n",
              "      <th>lutein_zeaxanthin</th>\n",
              "      <th>lucopene</th>\n",
              "      <th>vitamin_b12</th>\n",
              "      <th>vitamin_b6</th>\n",
              "      <th>vitamin_c</th>\n",
              "      <th>vitamin_d</th>\n",
              "      <th>vitamin_e</th>\n",
              "      <th>tocopherol_alpha</th>\n",
              "      <th>vitamin_k</th>\n",
              "      <th>calcium</th>\n",
              "      <th>copper</th>\n",
              "      <th>irom</th>\n",
              "      <th>magnesium</th>\n",
              "      <th>manganese</th>\n",
              "      <th>phosphorous</th>\n",
              "      <th>potassium</th>\n",
              "      <th>selenium</th>\n",
              "      <th>zink</th>\n",
              "      <th>protein</th>\n",
              "      <th>alanine</th>\n",
              "      <th>arginine</th>\n",
              "      <th>aspartic_acid</th>\n",
              "      <th>cystine</th>\n",
              "      <th>glutamic_acid</th>\n",
              "      <th>glycine</th>\n",
              "      <th>histidine</th>\n",
              "      <th>hydroxyproline</th>\n",
              "      <th>isoleucine</th>\n",
              "      <th>leucine</th>\n",
              "      <th>lysine</th>\n",
              "      <th>methionine</th>\n",
              "      <th>phenylalanine</th>\n",
              "      <th>proline</th>\n",
              "      <th>serine</th>\n",
              "      <th>threonine</th>\n",
              "      <th>tryptophan</th>\n",
              "      <th>tyrosine</th>\n",
              "      <th>valine</th>\n",
              "      <th>carbohydrate</th>\n",
              "      <th>fiber</th>\n",
              "      <th>sugars</th>\n",
              "      <th>fructose</th>\n",
              "      <th>galactose</th>\n",
              "      <th>glucose</th>\n",
              "      <th>lactose</th>\n",
              "      <th>maltose</th>\n",
              "      <th>sucrose</th>\n",
              "      <th>fat</th>\n",
              "      <th>saturated_fatty_acids</th>\n",
              "      <th>monounsaturated_fatty_acids</th>\n",
              "      <th>polyunsaturated_fatty_acids</th>\n",
              "      <th>fatty_acids_total_trans</th>\n",
              "      <th>alcohol</th>\n",
              "      <th>ash</th>\n",
              "      <th>caffeine</th>\n",
              "      <th>theobromine</th>\n",
              "      <th>water</th>\n",
              "    </tr>\n",
              "    <tr>\n",
              "      <th>name</th>\n",
              "      <th></th>\n",
              "      <th></th>\n",
              "      <th></th>\n",
              "      <th></th>\n",
              "      <th></th>\n",
              "      <th></th>\n",
              "      <th></th>\n",
              "      <th></th>\n",
              "      <th></th>\n",
              "      <th></th>\n",
              "      <th></th>\n",
              "      <th></th>\n",
              "      <th></th>\n",
              "      <th></th>\n",
              "      <th></th>\n",
              "      <th></th>\n",
              "      <th></th>\n",
              "      <th></th>\n",
              "      <th></th>\n",
              "      <th></th>\n",
              "      <th></th>\n",
              "      <th></th>\n",
              "      <th></th>\n",
              "      <th></th>\n",
              "      <th></th>\n",
              "      <th></th>\n",
              "      <th></th>\n",
              "      <th></th>\n",
              "      <th></th>\n",
              "      <th></th>\n",
              "      <th></th>\n",
              "      <th></th>\n",
              "      <th></th>\n",
              "      <th></th>\n",
              "      <th></th>\n",
              "      <th></th>\n",
              "      <th></th>\n",
              "      <th></th>\n",
              "      <th></th>\n",
              "      <th></th>\n",
              "      <th></th>\n",
              "      <th></th>\n",
              "      <th></th>\n",
              "      <th></th>\n",
              "      <th></th>\n",
              "      <th></th>\n",
              "      <th></th>\n",
              "      <th></th>\n",
              "      <th></th>\n",
              "      <th></th>\n",
              "      <th></th>\n",
              "      <th></th>\n",
              "      <th></th>\n",
              "      <th></th>\n",
              "      <th></th>\n",
              "      <th></th>\n",
              "      <th></th>\n",
              "      <th></th>\n",
              "      <th></th>\n",
              "      <th></th>\n",
              "      <th></th>\n",
              "      <th></th>\n",
              "      <th></th>\n",
              "      <th></th>\n",
              "      <th></th>\n",
              "      <th></th>\n",
              "      <th></th>\n",
              "      <th></th>\n",
              "      <th></th>\n",
              "      <th></th>\n",
              "      <th></th>\n",
              "      <th></th>\n",
              "      <th></th>\n",
              "      <th></th>\n",
              "      <th></th>\n",
              "    </tr>\n",
              "  </thead>\n",
              "  <tbody>\n",
              "    <tr>\n",
              "      <th>Cornstarch</th>\n",
              "      <td>100 g</td>\n",
              "      <td>381</td>\n",
              "      <td>0.1g</td>\n",
              "      <td>NaN</td>\n",
              "      <td>0</td>\n",
              "      <td>9.00 mg</td>\n",
              "      <td>0.4 mg</td>\n",
              "      <td>0.00 mcg</td>\n",
              "      <td>0.00 mcg</td>\n",
              "      <td>0.000 mg</td>\n",
              "      <td>0.000 mg</td>\n",
              "      <td>0.000 mg</td>\n",
              "      <td>0.000 mg</td>\n",
              "      <td>0.00 IU</td>\n",
              "      <td>0.00 mcg</td>\n",
              "      <td>0.00 mcg</td>\n",
              "      <td>0.00 mcg</td>\n",
              "      <td>0.00 mcg</td>\n",
              "      <td>0.00 mcg</td>\n",
              "      <td>0</td>\n",
              "      <td>0.00 mcg</td>\n",
              "      <td>0.000 mg</td>\n",
              "      <td>0.0 mg</td>\n",
              "      <td>0.00 IU</td>\n",
              "      <td>0.00 mg</td>\n",
              "      <td>0.00 mg</td>\n",
              "      <td>0.0 mcg</td>\n",
              "      <td>2.00 mg</td>\n",
              "      <td>0.050 mg</td>\n",
              "      <td>0.47 mg</td>\n",
              "      <td>3.00 mg</td>\n",
              "      <td>0.053 mg</td>\n",
              "      <td>13.00 mg</td>\n",
              "      <td>3.00 mg</td>\n",
              "      <td>2.8 mcg</td>\n",
              "      <td>0.06 mg</td>\n",
              "      <td>0.26 g</td>\n",
              "      <td>0.019 g</td>\n",
              "      <td>0.012 g</td>\n",
              "      <td>0.020 g</td>\n",
              "      <td>0.006 g</td>\n",
              "      <td>0.053 g</td>\n",
              "      <td>0.009 g</td>\n",
              "      <td>0.008 g</td>\n",
              "      <td>0</td>\n",
              "      <td>0.010 g</td>\n",
              "      <td>0.036 g</td>\n",
              "      <td>0.006 g</td>\n",
              "      <td>0.006 g</td>\n",
              "      <td>0.013 g</td>\n",
              "      <td>0.024 g</td>\n",
              "      <td>0.012 g</td>\n",
              "      <td>0.009 g</td>\n",
              "      <td>0.001 g</td>\n",
              "      <td>0.010 g</td>\n",
              "      <td>0.014 g</td>\n",
              "      <td>91.27 g</td>\n",
              "      <td>0.9 g</td>\n",
              "      <td>0.00 g</td>\n",
              "      <td>0</td>\n",
              "      <td>0</td>\n",
              "      <td>0</td>\n",
              "      <td>0</td>\n",
              "      <td>0</td>\n",
              "      <td>0</td>\n",
              "      <td>0.05 g</td>\n",
              "      <td>0.009 g</td>\n",
              "      <td>0.016 g</td>\n",
              "      <td>0.025 g</td>\n",
              "      <td>0.00 mg</td>\n",
              "      <td>0.0 g</td>\n",
              "      <td>0.09 g</td>\n",
              "      <td>0.00 mg</td>\n",
              "      <td>0.00 mg</td>\n",
              "      <td>8.32 g</td>\n",
              "    </tr>\n",
              "    <tr>\n",
              "      <th>Nuts, pecans</th>\n",
              "      <td>100 g</td>\n",
              "      <td>691</td>\n",
              "      <td>72g</td>\n",
              "      <td>6.2g</td>\n",
              "      <td>0</td>\n",
              "      <td>0.00 mg</td>\n",
              "      <td>40.5 mg</td>\n",
              "      <td>22.00 mcg</td>\n",
              "      <td>0.00 mcg</td>\n",
              "      <td>1.167 mg</td>\n",
              "      <td>0.863 mg</td>\n",
              "      <td>0.130 mg</td>\n",
              "      <td>0.660 mg</td>\n",
              "      <td>56.00 IU</td>\n",
              "      <td>3.00 mcg</td>\n",
              "      <td>0.00 mcg</td>\n",
              "      <td>29.00 mcg</td>\n",
              "      <td>9.00 mcg</td>\n",
              "      <td>17.00 mcg</td>\n",
              "      <td>0</td>\n",
              "      <td>0.00 mcg</td>\n",
              "      <td>0.210 mg</td>\n",
              "      <td>1.1 mg</td>\n",
              "      <td>0.00 IU</td>\n",
              "      <td>1.40 mg</td>\n",
              "      <td>1.40 mg</td>\n",
              "      <td>3.5 mcg</td>\n",
              "      <td>70.00 mg</td>\n",
              "      <td>1.200 mg</td>\n",
              "      <td>2.53 mg</td>\n",
              "      <td>121.00 mg</td>\n",
              "      <td>4.500 mg</td>\n",
              "      <td>277.00 mg</td>\n",
              "      <td>410.00 mg</td>\n",
              "      <td>3.8 mcg</td>\n",
              "      <td>4.53 mg</td>\n",
              "      <td>9.17 g</td>\n",
              "      <td>0.397 g</td>\n",
              "      <td>1.177 g</td>\n",
              "      <td>0.929 g</td>\n",
              "      <td>0.152 g</td>\n",
              "      <td>1.829 g</td>\n",
              "      <td>0.453 g</td>\n",
              "      <td>0.262 g</td>\n",
              "      <td>0</td>\n",
              "      <td>0.336 g</td>\n",
              "      <td>0.598 g</td>\n",
              "      <td>0.287 g</td>\n",
              "      <td>0.183 g</td>\n",
              "      <td>0.426 g</td>\n",
              "      <td>0.363 g</td>\n",
              "      <td>0.474 g</td>\n",
              "      <td>0.306 g</td>\n",
              "      <td>0.093 g</td>\n",
              "      <td>0.215 g</td>\n",
              "      <td>0.411 g</td>\n",
              "      <td>13.86 g</td>\n",
              "      <td>9.6 g</td>\n",
              "      <td>3.97 g</td>\n",
              "      <td>0.04 g</td>\n",
              "      <td>0</td>\n",
              "      <td>0.04 g</td>\n",
              "      <td>0.00 g</td>\n",
              "      <td>0.00 g</td>\n",
              "      <td>3.90 g</td>\n",
              "      <td>71.97 g</td>\n",
              "      <td>6.180 g</td>\n",
              "      <td>40.801 g</td>\n",
              "      <td>21.614 g</td>\n",
              "      <td>0.00 mg</td>\n",
              "      <td>0.0 g</td>\n",
              "      <td>1.49 g</td>\n",
              "      <td>0.00 mg</td>\n",
              "      <td>0.00 mg</td>\n",
              "      <td>3.52 g</td>\n",
              "    </tr>\n",
              "    <tr>\n",
              "      <th>Eggplant, raw</th>\n",
              "      <td>100 g</td>\n",
              "      <td>25</td>\n",
              "      <td>0.2g</td>\n",
              "      <td>NaN</td>\n",
              "      <td>0</td>\n",
              "      <td>2.00 mg</td>\n",
              "      <td>6.9 mg</td>\n",
              "      <td>22.00 mcg</td>\n",
              "      <td>0.00 mcg</td>\n",
              "      <td>0.649 mg</td>\n",
              "      <td>0.281 mg</td>\n",
              "      <td>0.037 mg</td>\n",
              "      <td>0.039 mg</td>\n",
              "      <td>23.00 IU</td>\n",
              "      <td>1.00 mcg</td>\n",
              "      <td>0.00 mcg</td>\n",
              "      <td>14.00 mcg</td>\n",
              "      <td>0.00 mcg</td>\n",
              "      <td>36.00 mcg</td>\n",
              "      <td>0</td>\n",
              "      <td>0.00 mcg</td>\n",
              "      <td>0.084 mg</td>\n",
              "      <td>2.2 mg</td>\n",
              "      <td>0.00 IU</td>\n",
              "      <td>0.30 mg</td>\n",
              "      <td>0.30 mg</td>\n",
              "      <td>3.5 mcg</td>\n",
              "      <td>9.00 mg</td>\n",
              "      <td>0.081 mg</td>\n",
              "      <td>0.23 mg</td>\n",
              "      <td>14.00 mg</td>\n",
              "      <td>0.232 mg</td>\n",
              "      <td>24.00 mg</td>\n",
              "      <td>229.00 mg</td>\n",
              "      <td>0.3 mcg</td>\n",
              "      <td>0.16 mg</td>\n",
              "      <td>0.98 g</td>\n",
              "      <td>0.051 g</td>\n",
              "      <td>0.057 g</td>\n",
              "      <td>0.164 g</td>\n",
              "      <td>0.006 g</td>\n",
              "      <td>0.186 g</td>\n",
              "      <td>0.041 g</td>\n",
              "      <td>0.023 g</td>\n",
              "      <td>0</td>\n",
              "      <td>0.045 g</td>\n",
              "      <td>0.064 g</td>\n",
              "      <td>0.047 g</td>\n",
              "      <td>0.011 g</td>\n",
              "      <td>0.043 g</td>\n",
              "      <td>0.043 g</td>\n",
              "      <td>0.042 g</td>\n",
              "      <td>0.037 g</td>\n",
              "      <td>0.009 g</td>\n",
              "      <td>0.027 g</td>\n",
              "      <td>0.053 g</td>\n",
              "      <td>5.88 g</td>\n",
              "      <td>3.0 g</td>\n",
              "      <td>3.53 g</td>\n",
              "      <td>1.54 g</td>\n",
              "      <td>0</td>\n",
              "      <td>1.58 g</td>\n",
              "      <td>0</td>\n",
              "      <td>0</td>\n",
              "      <td>0.26 g</td>\n",
              "      <td>0.18 g</td>\n",
              "      <td>0.034 g</td>\n",
              "      <td>0.016 g</td>\n",
              "      <td>0.076 g</td>\n",
              "      <td>0.00 mg</td>\n",
              "      <td>0.0 g</td>\n",
              "      <td>0.66 g</td>\n",
              "      <td>0.00 mg</td>\n",
              "      <td>0.00 mg</td>\n",
              "      <td>92.30 g</td>\n",
              "    </tr>\n",
              "    <tr>\n",
              "      <th>Teff, uncooked</th>\n",
              "      <td>100 g</td>\n",
              "      <td>367</td>\n",
              "      <td>2.4g</td>\n",
              "      <td>0.4g</td>\n",
              "      <td>0</td>\n",
              "      <td>12.00 mg</td>\n",
              "      <td>13.1 mg</td>\n",
              "      <td>0</td>\n",
              "      <td>0</td>\n",
              "      <td>3.363 mg</td>\n",
              "      <td>0.942 mg</td>\n",
              "      <td>0.270 mg</td>\n",
              "      <td>0.390 mg</td>\n",
              "      <td>9.00 IU</td>\n",
              "      <td>0.00 mcg</td>\n",
              "      <td>0.00 mcg</td>\n",
              "      <td>5.00 mcg</td>\n",
              "      <td>0.00 mcg</td>\n",
              "      <td>66.00 mcg</td>\n",
              "      <td>0</td>\n",
              "      <td>0</td>\n",
              "      <td>0.482 mg</td>\n",
              "      <td>0</td>\n",
              "      <td>0</td>\n",
              "      <td>0.08 mg</td>\n",
              "      <td>0.08 mg</td>\n",
              "      <td>1.9 mcg</td>\n",
              "      <td>180.00 mg</td>\n",
              "      <td>0.810 mg</td>\n",
              "      <td>7.63 mg</td>\n",
              "      <td>184.00 mg</td>\n",
              "      <td>9.240 mg</td>\n",
              "      <td>429.00 mg</td>\n",
              "      <td>427.00 mg</td>\n",
              "      <td>4.4 mcg</td>\n",
              "      <td>3.63 mg</td>\n",
              "      <td>13.30 g</td>\n",
              "      <td>0.747 g</td>\n",
              "      <td>0.517 g</td>\n",
              "      <td>0.820 g</td>\n",
              "      <td>0.236 g</td>\n",
              "      <td>3.349 g</td>\n",
              "      <td>0.477 g</td>\n",
              "      <td>0.301 g</td>\n",
              "      <td>0</td>\n",
              "      <td>0.501 g</td>\n",
              "      <td>1.068 g</td>\n",
              "      <td>0.376 g</td>\n",
              "      <td>0.428 g</td>\n",
              "      <td>0.698 g</td>\n",
              "      <td>0.664 g</td>\n",
              "      <td>0.622 g</td>\n",
              "      <td>0.510 g</td>\n",
              "      <td>0.139 g</td>\n",
              "      <td>0.458 g</td>\n",
              "      <td>0.686 g</td>\n",
              "      <td>73.13 g</td>\n",
              "      <td>8.0 g</td>\n",
              "      <td>1.84 g</td>\n",
              "      <td>0.47 g</td>\n",
              "      <td>0.00 g</td>\n",
              "      <td>0.73 g</td>\n",
              "      <td>0.00 g</td>\n",
              "      <td>0.01 g</td>\n",
              "      <td>0.62 g</td>\n",
              "      <td>2.38 g</td>\n",
              "      <td>0.449 g</td>\n",
              "      <td>0.589 g</td>\n",
              "      <td>1.071 g</td>\n",
              "      <td>0</td>\n",
              "      <td>0</td>\n",
              "      <td>2.37 g</td>\n",
              "      <td>0</td>\n",
              "      <td>0</td>\n",
              "      <td>8.82 g</td>\n",
              "    </tr>\n",
              "    <tr>\n",
              "      <th>Sherbet, orange</th>\n",
              "      <td>100 g</td>\n",
              "      <td>144</td>\n",
              "      <td>2g</td>\n",
              "      <td>1.2g</td>\n",
              "      <td>1mg</td>\n",
              "      <td>46.00 mg</td>\n",
              "      <td>7.7 mg</td>\n",
              "      <td>4.00 mcg</td>\n",
              "      <td>0.00 mcg</td>\n",
              "      <td>0.063 mg</td>\n",
              "      <td>0.224 mg</td>\n",
              "      <td>0.097 mg</td>\n",
              "      <td>0.027 mg</td>\n",
              "      <td>46.00 IU</td>\n",
              "      <td>12.00 mcg</td>\n",
              "      <td>0.00 mcg</td>\n",
              "      <td>1.00 mcg</td>\n",
              "      <td>5.00 mcg</td>\n",
              "      <td>7.00 mcg</td>\n",
              "      <td>0</td>\n",
              "      <td>0.13 mcg</td>\n",
              "      <td>0.023 mg</td>\n",
              "      <td>2.3 mg</td>\n",
              "      <td>0.00 IU</td>\n",
              "      <td>0.01 mg</td>\n",
              "      <td>0.01 mg</td>\n",
              "      <td>0.0 mcg</td>\n",
              "      <td>54.00 mg</td>\n",
              "      <td>0.028 mg</td>\n",
              "      <td>0.14 mg</td>\n",
              "      <td>8.00 mg</td>\n",
              "      <td>0.011 mg</td>\n",
              "      <td>40.00 mg</td>\n",
              "      <td>96.00 mg</td>\n",
              "      <td>1.5 mcg</td>\n",
              "      <td>0.48 mg</td>\n",
              "      <td>1.10 g</td>\n",
              "      <td>0</td>\n",
              "      <td>0</td>\n",
              "      <td>0</td>\n",
              "      <td>0</td>\n",
              "      <td>0</td>\n",
              "      <td>0</td>\n",
              "      <td>0</td>\n",
              "      <td>0</td>\n",
              "      <td>0</td>\n",
              "      <td>0</td>\n",
              "      <td>0</td>\n",
              "      <td>0</td>\n",
              "      <td>0</td>\n",
              "      <td>0</td>\n",
              "      <td>0</td>\n",
              "      <td>0</td>\n",
              "      <td>0</td>\n",
              "      <td>0</td>\n",
              "      <td>0</td>\n",
              "      <td>30.40 g</td>\n",
              "      <td>1.3 g</td>\n",
              "      <td>24.32 g</td>\n",
              "      <td>0</td>\n",
              "      <td>0</td>\n",
              "      <td>0</td>\n",
              "      <td>0</td>\n",
              "      <td>0</td>\n",
              "      <td>0</td>\n",
              "      <td>2.00 g</td>\n",
              "      <td>1.160 g</td>\n",
              "      <td>0.530 g</td>\n",
              "      <td>0.080 g</td>\n",
              "      <td>1.00 mg</td>\n",
              "      <td>0.0 g</td>\n",
              "      <td>0.40 g</td>\n",
              "      <td>0.00 mg</td>\n",
              "      <td>0.00 mg</td>\n",
              "      <td>66.10 g</td>\n",
              "    </tr>\n",
              "  </tbody>\n",
              "</table>\n",
              "</div>"
            ],
            "text/plain": [
              "                serving_size  calories total_fat  ... caffeine theobromine    water\n",
              "name                                              ...                              \n",
              "Cornstarch             100 g       381      0.1g  ...  0.00 mg     0.00 mg   8.32 g\n",
              "Nuts, pecans           100 g       691       72g  ...  0.00 mg     0.00 mg   3.52 g\n",
              "Eggplant, raw          100 g        25      0.2g  ...  0.00 mg     0.00 mg  92.30 g\n",
              "Teff, uncooked         100 g       367      2.4g  ...        0           0   8.82 g\n",
              "Sherbet, orange        100 g       144        2g  ...  0.00 mg     0.00 mg  66.10 g\n",
              "\n",
              "[5 rows x 75 columns]"
            ]
          },
          "metadata": {},
          "execution_count": 8
        }
      ]
    },
    {
      "cell_type": "code",
      "metadata": {
        "id": "JZBHvmOzRTr7",
        "colab": {
          "base_uri": "https://localhost:8080/"
        },
        "outputId": "f29300c1-4ae1-413d-fac7-eb7ed607fdb4"
      },
      "source": [
        "nutrition_1.loc['Sherbet, orange', 'calories']"
      ],
      "execution_count": null,
      "outputs": [
        {
          "output_type": "execute_result",
          "data": {
            "text/plain": [
              "144"
            ]
          },
          "metadata": {},
          "execution_count": 156
        }
      ]
    },
    {
      "cell_type": "code",
      "metadata": {
        "id": "nDb4ZkfASxUU",
        "colab": {
          "base_uri": "https://localhost:8080/",
          "height": 204
        },
        "outputId": "a109d1d0-b83e-41c6-f077-230bf5b7a67c"
      },
      "source": [
        "nutrition_1.loc['Nuts, pecans':'Sherbet, orange', 'calories': 'sodium']"
      ],
      "execution_count": null,
      "outputs": [
        {
          "output_type": "execute_result",
          "data": {
            "text/html": [
              "<div>\n",
              "<style scoped>\n",
              "    .dataframe tbody tr th:only-of-type {\n",
              "        vertical-align: middle;\n",
              "    }\n",
              "\n",
              "    .dataframe tbody tr th {\n",
              "        vertical-align: top;\n",
              "    }\n",
              "\n",
              "    .dataframe thead th {\n",
              "        text-align: right;\n",
              "    }\n",
              "</style>\n",
              "<table border=\"1\" class=\"dataframe\">\n",
              "  <thead>\n",
              "    <tr style=\"text-align: right;\">\n",
              "      <th></th>\n",
              "      <th>calories</th>\n",
              "      <th>total_fat</th>\n",
              "      <th>saturated_fat</th>\n",
              "      <th>cholesterol</th>\n",
              "      <th>sodium</th>\n",
              "    </tr>\n",
              "    <tr>\n",
              "      <th>name</th>\n",
              "      <th></th>\n",
              "      <th></th>\n",
              "      <th></th>\n",
              "      <th></th>\n",
              "      <th></th>\n",
              "    </tr>\n",
              "  </thead>\n",
              "  <tbody>\n",
              "    <tr>\n",
              "      <th>Nuts, pecans</th>\n",
              "      <td>691</td>\n",
              "      <td>72g</td>\n",
              "      <td>6.2g</td>\n",
              "      <td>0</td>\n",
              "      <td>0.00 mg</td>\n",
              "    </tr>\n",
              "    <tr>\n",
              "      <th>Eggplant, raw</th>\n",
              "      <td>25</td>\n",
              "      <td>0.2g</td>\n",
              "      <td>NaN</td>\n",
              "      <td>0</td>\n",
              "      <td>2.00 mg</td>\n",
              "    </tr>\n",
              "    <tr>\n",
              "      <th>Teff, uncooked</th>\n",
              "      <td>367</td>\n",
              "      <td>2.4g</td>\n",
              "      <td>0.4g</td>\n",
              "      <td>0</td>\n",
              "      <td>12.00 mg</td>\n",
              "    </tr>\n",
              "    <tr>\n",
              "      <th>Sherbet, orange</th>\n",
              "      <td>144</td>\n",
              "      <td>2g</td>\n",
              "      <td>1.2g</td>\n",
              "      <td>1mg</td>\n",
              "      <td>46.00 mg</td>\n",
              "    </tr>\n",
              "  </tbody>\n",
              "</table>\n",
              "</div>"
            ],
            "text/plain": [
              "                 calories total_fat saturated_fat cholesterol    sodium\n",
              "name                                                                   \n",
              "Nuts, pecans          691       72g          6.2g           0   0.00 mg\n",
              "Eggplant, raw          25      0.2g           NaN           0   2.00 mg\n",
              "Teff, uncooked        367      2.4g          0.4g           0  12.00 mg\n",
              "Sherbet, orange       144        2g          1.2g         1mg  46.00 mg"
            ]
          },
          "metadata": {},
          "execution_count": 155
        }
      ]
    },
    {
      "cell_type": "code",
      "metadata": {
        "id": "pe4acW47TgPR",
        "colab": {
          "base_uri": "https://localhost:8080/",
          "height": 142
        },
        "outputId": "dd72e117-ea4e-4fc8-b246-1a800444aa89"
      },
      "source": [
        "nutrition_1.loc[\n",
        "                ['Nuts, pecans','Sherbet, orange'],['calories', 'sodium','water'] \n",
        "                ]"
      ],
      "execution_count": 9,
      "outputs": [
        {
          "output_type": "execute_result",
          "data": {
            "text/html": [
              "<div>\n",
              "<style scoped>\n",
              "    .dataframe tbody tr th:only-of-type {\n",
              "        vertical-align: middle;\n",
              "    }\n",
              "\n",
              "    .dataframe tbody tr th {\n",
              "        vertical-align: top;\n",
              "    }\n",
              "\n",
              "    .dataframe thead th {\n",
              "        text-align: right;\n",
              "    }\n",
              "</style>\n",
              "<table border=\"1\" class=\"dataframe\">\n",
              "  <thead>\n",
              "    <tr style=\"text-align: right;\">\n",
              "      <th></th>\n",
              "      <th>calories</th>\n",
              "      <th>sodium</th>\n",
              "      <th>water</th>\n",
              "    </tr>\n",
              "    <tr>\n",
              "      <th>name</th>\n",
              "      <th></th>\n",
              "      <th></th>\n",
              "      <th></th>\n",
              "    </tr>\n",
              "  </thead>\n",
              "  <tbody>\n",
              "    <tr>\n",
              "      <th>Nuts, pecans</th>\n",
              "      <td>691</td>\n",
              "      <td>0.00 mg</td>\n",
              "      <td>3.52 g</td>\n",
              "    </tr>\n",
              "    <tr>\n",
              "      <th>Sherbet, orange</th>\n",
              "      <td>144</td>\n",
              "      <td>46.00 mg</td>\n",
              "      <td>66.10 g</td>\n",
              "    </tr>\n",
              "  </tbody>\n",
              "</table>\n",
              "</div>"
            ],
            "text/plain": [
              "                 calories    sodium    water\n",
              "name                                        \n",
              "Nuts, pecans          691   0.00 mg   3.52 g\n",
              "Sherbet, orange       144  46.00 mg  66.10 g"
            ]
          },
          "metadata": {},
          "execution_count": 9
        }
      ]
    },
    {
      "cell_type": "code",
      "metadata": {
        "id": "QJ0QRzSqthRK",
        "outputId": "a3d37003-6e24-46f6-be87-eeb5f53ce857",
        "colab": {
          "base_uri": "https://localhost:8080/",
          "height": 129
        }
      },
      "source": [
        "print(nutrition_1.iloc[[1,2,4],0])\n",
        "print(nutrition_1.iloc[[1,3,4],0:3])\n",
        "print (nutrition.shape)"
      ],
      "execution_count": 79,
      "outputs": [
        {
          "output_type": "error",
          "ename": "SyntaxError",
          "evalue": "ignored",
          "traceback": [
            "\u001b[0;36m  File \u001b[0;32m\"<ipython-input-79-ad0fe5813780>\"\u001b[0;36m, line \u001b[0;32m2\u001b[0m\n\u001b[0;31m    print(nutrition_1.iloc[[1:4],0:3])\u001b[0m\n\u001b[0m                             ^\u001b[0m\n\u001b[0;31mSyntaxError\u001b[0m\u001b[0;31m:\u001b[0m invalid syntax\n"
          ]
        }
      ]
    },
    {
      "cell_type": "code",
      "metadata": {
        "id": "kCTZrIH8xB5k",
        "outputId": "a42cda6e-e590-4954-cf9a-ada947282047",
        "colab": {
          "base_uri": "https://localhost:8080/"
        }
      },
      "source": [
        "nutri_2 = nutrition.iloc[\n",
        "               [True if i %2 == 0 else False for i in range (8789)],\n",
        "               [True if i %2 == 0 else False for i in range (77)]\n",
        "\n",
        "]\n",
        "print(nutrition_1.shape)\n",
        "print(nutri_2.shape)"
      ],
      "execution_count": 26,
      "outputs": [
        {
          "output_type": "stream",
          "name": "stdout",
          "text": [
            "(8789, 75)\n",
            "(4395, 39)\n"
          ]
        }
      ]
    },
    {
      "cell_type": "code",
      "metadata": {
        "id": "hT-8y-tRxyNY",
        "outputId": "71530dd7-6e0a-43ba-f8a3-e080a6fe1c6a",
        "colab": {
          "base_uri": "https://localhost:8080/"
        }
      },
      "source": [
        "print(nutrition_1.iloc[9,1]) # Essa é uma forma de encontrar um valor. Contudo, há uma funçãpo mais precisa\n",
        "#para buscar valores\n",
        "# Essas funções são .at .iat. Essas funções são similares a .loc e .iloc, mas comparativamente muito mais rápidas\n",
        "print(nutrition_1.at[\"Vegetarian fillets\", \"calories\"])\n",
        "print(nutrition_1.iat[9,1])"
      ],
      "execution_count": 35,
      "outputs": [
        {
          "output_type": "stream",
          "name": "stdout",
          "text": [
            "290\n",
            "290\n",
            "290\n"
          ]
        }
      ]
    },
    {
      "cell_type": "code",
      "metadata": {
        "id": "O_AUnYW9y451",
        "outputId": "f2e45337-8470-43df-f6f1-fa02e5c94ba2",
        "colab": {
          "base_uri": "https://localhost:8080/"
        }
      },
      "source": [
        "%%time \n",
        "print(nutrition_1.iloc[9,1]) "
      ],
      "execution_count": 38,
      "outputs": [
        {
          "output_type": "stream",
          "name": "stdout",
          "text": [
            "290\n",
            "CPU times: user 345 µs, sys: 919 µs, total: 1.26 ms\n",
            "Wall time: 2.32 ms\n"
          ]
        }
      ]
    },
    {
      "cell_type": "code",
      "metadata": {
        "id": "rTl1n3L7z1Gl",
        "outputId": "34019b40-a83f-476f-e7c5-4edac2c400ec",
        "colab": {
          "base_uri": "https://localhost:8080/"
        }
      },
      "source": [
        "%%time\n",
        "print(nutrition_1.loc[\"Vegetarian fillets\", \"calories\"])"
      ],
      "execution_count": 51,
      "outputs": [
        {
          "output_type": "stream",
          "name": "stdout",
          "text": [
            "290\n",
            "CPU times: user 749 µs, sys: 917 µs, total: 1.67 ms\n",
            "Wall time: 2.01 ms\n"
          ]
        }
      ]
    },
    {
      "cell_type": "code",
      "metadata": {
        "id": "O2fuFBRN0G86",
        "outputId": "98f1bc48-19ed-404a-b83e-237985ea71c6",
        "colab": {
          "base_uri": "https://localhost:8080/"
        }
      },
      "source": [
        "%%time\n",
        "print(nutrition_1.iat[9,1])"
      ],
      "execution_count": 52,
      "outputs": [
        {
          "output_type": "stream",
          "name": "stdout",
          "text": [
            "290\n",
            "CPU times: user 1.63 ms, sys: 55 µs, total: 1.69 ms\n",
            "Wall time: 1.78 ms\n"
          ]
        }
      ]
    },
    {
      "cell_type": "code",
      "metadata": {
        "id": "ikqpAgSmz3Iq",
        "outputId": "5af3e6ea-b7d3-4a1e-f476-c4cf8a9995aa",
        "colab": {
          "base_uri": "https://localhost:8080/"
        }
      },
      "source": [
        "%%time\n",
        "print(nutrition_1.at[\"Vegetarian fillets\", \"calories\"])"
      ],
      "execution_count": 55,
      "outputs": [
        {
          "output_type": "stream",
          "name": "stdout",
          "text": [
            "290\n",
            "CPU times: user 1.66 ms, sys: 41 µs, total: 1.7 ms\n",
            "Wall time: 1.59 ms\n"
          ]
        }
      ]
    },
    {
      "cell_type": "code",
      "metadata": {
        "id": "dMtdCZqA2aEk"
      },
      "source": [
        "nutr_mini = nutrition_1.sample(10)"
      ],
      "execution_count": 57,
      "outputs": []
    },
    {
      "cell_type": "code",
      "metadata": {
        "id": "mNja6WMm6A7w",
        "outputId": "ae5982b8-03f0-4b75-ef0d-505f8f221f72",
        "colab": {
          "base_uri": "https://localhost:8080/"
        }
      },
      "source": [
        "nutr_mini.shape"
      ],
      "execution_count": 108,
      "outputs": [
        {
          "output_type": "execute_result",
          "data": {
            "text/plain": [
              "(10, 75)"
            ]
          },
          "metadata": {},
          "execution_count": 108
        }
      ]
    },
    {
      "cell_type": "code",
      "metadata": {
        "id": "hL6iBfA32jdN",
        "outputId": "c9ed626b-99de-4c93-b16a-d5d0ea75ce8d",
        "colab": {
          "base_uri": "https://localhost:8080/",
          "height": 390
        }
      },
      "source": [
        "nutr_mini.loc[ :,['total_fat','cholesterol']]"
      ],
      "execution_count": 111,
      "outputs": [
        {
          "output_type": "execute_result",
          "data": {
            "text/html": [
              "<div>\n",
              "<style scoped>\n",
              "    .dataframe tbody tr th:only-of-type {\n",
              "        vertical-align: middle;\n",
              "    }\n",
              "\n",
              "    .dataframe tbody tr th {\n",
              "        vertical-align: top;\n",
              "    }\n",
              "\n",
              "    .dataframe thead th {\n",
              "        text-align: right;\n",
              "    }\n",
              "</style>\n",
              "<table border=\"1\" class=\"dataframe\">\n",
              "  <thead>\n",
              "    <tr style=\"text-align: right;\">\n",
              "      <th></th>\n",
              "      <th>total_fat</th>\n",
              "      <th>cholesterol</th>\n",
              "    </tr>\n",
              "    <tr>\n",
              "      <th>name</th>\n",
              "      <th></th>\n",
              "      <th></th>\n",
              "    </tr>\n",
              "  </thead>\n",
              "  <tbody>\n",
              "    <tr>\n",
              "      <th>Babyfood, pasta with vegetables, dinner</th>\n",
              "      <td>2.1g</td>\n",
              "      <td>5mg</td>\n",
              "    </tr>\n",
              "    <tr>\n",
              "      <th>Lamb, raw, separable lean only, boneless, loin, imported, New Zealand</th>\n",
              "      <td>3.8g</td>\n",
              "      <td>66mg</td>\n",
              "    </tr>\n",
              "    <tr>\n",
              "      <th>Succotash, raw, (corn and limas)</th>\n",
              "      <td>1g</td>\n",
              "      <td>0</td>\n",
              "    </tr>\n",
              "    <tr>\n",
              "      <th>Squash, raw, includes skin, zucchini, summer</th>\n",
              "      <td>0.3g</td>\n",
              "      <td>0</td>\n",
              "    </tr>\n",
              "    <tr>\n",
              "      <th>Arrowroot, raw</th>\n",
              "      <td>0.2g</td>\n",
              "      <td>0</td>\n",
              "    </tr>\n",
              "    <tr>\n",
              "      <th>Snacks, salted, yucca (cassava) chips</th>\n",
              "      <td>26g</td>\n",
              "      <td>0</td>\n",
              "    </tr>\n",
              "    <tr>\n",
              "      <th>Crackers, GAMESA SABROSAS, cream</th>\n",
              "      <td>20g</td>\n",
              "      <td>0</td>\n",
              "    </tr>\n",
              "    <tr>\n",
              "      <th>Fish, dry heat, cooked, Atlantic, herring</th>\n",
              "      <td>12g</td>\n",
              "      <td>77mg</td>\n",
              "    </tr>\n",
              "    <tr>\n",
              "      <th>Chicken, roasted, cooked, meat only, leg, broilers or fryers</th>\n",
              "      <td>7.8g</td>\n",
              "      <td>128mg</td>\n",
              "    </tr>\n",
              "    <tr>\n",
              "      <th>Pork, braised, cooked, separable lean only, blade (steaks), (Boston butt), shoulder, fresh</th>\n",
              "      <td>13g</td>\n",
              "      <td>100mg</td>\n",
              "    </tr>\n",
              "  </tbody>\n",
              "</table>\n",
              "</div>"
            ],
            "text/plain": [
              "                                                   total_fat cholesterol\n",
              "name                                                                    \n",
              "Babyfood, pasta with vegetables, dinner                 2.1g         5mg\n",
              "Lamb, raw, separable lean only, boneless, loin,...      3.8g        66mg\n",
              "Succotash, raw, (corn and limas)                          1g           0\n",
              "Squash, raw, includes skin, zucchini, summer            0.3g           0\n",
              "Arrowroot, raw                                          0.2g           0\n",
              "Snacks, salted, yucca (cassava) chips                    26g           0\n",
              "Crackers, GAMESA SABROSAS, cream                         20g           0\n",
              "Fish, dry heat, cooked, Atlantic, herring                12g        77mg\n",
              "Chicken, roasted, cooked, meat only, leg, broil...      7.8g       128mg\n",
              "Pork, braised, cooked, separable lean only, bla...       13g       100mg"
            ]
          },
          "metadata": {},
          "execution_count": 111
        }
      ]
    },
    {
      "cell_type": "code",
      "metadata": {
        "id": "atZo7VDr5PBy",
        "outputId": "fe95bcc0-90d8-4d0d-bde2-f99b5997aef5",
        "colab": {
          "base_uri": "https://localhost:8080/",
          "height": 397
        }
      },
      "source": [
        "nutr_mini.iloc[[0,1,2],20:]"
      ],
      "execution_count": 123,
      "outputs": [
        {
          "output_type": "execute_result",
          "data": {
            "text/html": [
              "<div>\n",
              "<style scoped>\n",
              "    .dataframe tbody tr th:only-of-type {\n",
              "        vertical-align: middle;\n",
              "    }\n",
              "\n",
              "    .dataframe tbody tr th {\n",
              "        vertical-align: top;\n",
              "    }\n",
              "\n",
              "    .dataframe thead th {\n",
              "        text-align: right;\n",
              "    }\n",
              "</style>\n",
              "<table border=\"1\" class=\"dataframe\">\n",
              "  <thead>\n",
              "    <tr style=\"text-align: right;\">\n",
              "      <th></th>\n",
              "      <th>vitamin_b12</th>\n",
              "      <th>vitamin_b6</th>\n",
              "      <th>vitamin_c</th>\n",
              "      <th>vitamin_d</th>\n",
              "      <th>vitamin_e</th>\n",
              "      <th>tocopherol_alpha</th>\n",
              "      <th>vitamin_k</th>\n",
              "      <th>calcium</th>\n",
              "      <th>copper</th>\n",
              "      <th>irom</th>\n",
              "      <th>magnesium</th>\n",
              "      <th>manganese</th>\n",
              "      <th>phosphorous</th>\n",
              "      <th>potassium</th>\n",
              "      <th>selenium</th>\n",
              "      <th>zink</th>\n",
              "      <th>protein</th>\n",
              "      <th>alanine</th>\n",
              "      <th>arginine</th>\n",
              "      <th>aspartic_acid</th>\n",
              "      <th>cystine</th>\n",
              "      <th>glutamic_acid</th>\n",
              "      <th>glycine</th>\n",
              "      <th>histidine</th>\n",
              "      <th>hydroxyproline</th>\n",
              "      <th>isoleucine</th>\n",
              "      <th>leucine</th>\n",
              "      <th>lysine</th>\n",
              "      <th>methionine</th>\n",
              "      <th>phenylalanine</th>\n",
              "      <th>proline</th>\n",
              "      <th>serine</th>\n",
              "      <th>threonine</th>\n",
              "      <th>tryptophan</th>\n",
              "      <th>tyrosine</th>\n",
              "      <th>valine</th>\n",
              "      <th>carbohydrate</th>\n",
              "      <th>fiber</th>\n",
              "      <th>sugars</th>\n",
              "      <th>fructose</th>\n",
              "      <th>galactose</th>\n",
              "      <th>glucose</th>\n",
              "      <th>lactose</th>\n",
              "      <th>maltose</th>\n",
              "      <th>sucrose</th>\n",
              "      <th>fat</th>\n",
              "      <th>saturated_fatty_acids</th>\n",
              "      <th>monounsaturated_fatty_acids</th>\n",
              "      <th>polyunsaturated_fatty_acids</th>\n",
              "      <th>fatty_acids_total_trans</th>\n",
              "      <th>alcohol</th>\n",
              "      <th>ash</th>\n",
              "      <th>caffeine</th>\n",
              "      <th>theobromine</th>\n",
              "      <th>water</th>\n",
              "    </tr>\n",
              "    <tr>\n",
              "      <th>name</th>\n",
              "      <th></th>\n",
              "      <th></th>\n",
              "      <th></th>\n",
              "      <th></th>\n",
              "      <th></th>\n",
              "      <th></th>\n",
              "      <th></th>\n",
              "      <th></th>\n",
              "      <th></th>\n",
              "      <th></th>\n",
              "      <th></th>\n",
              "      <th></th>\n",
              "      <th></th>\n",
              "      <th></th>\n",
              "      <th></th>\n",
              "      <th></th>\n",
              "      <th></th>\n",
              "      <th></th>\n",
              "      <th></th>\n",
              "      <th></th>\n",
              "      <th></th>\n",
              "      <th></th>\n",
              "      <th></th>\n",
              "      <th></th>\n",
              "      <th></th>\n",
              "      <th></th>\n",
              "      <th></th>\n",
              "      <th></th>\n",
              "      <th></th>\n",
              "      <th></th>\n",
              "      <th></th>\n",
              "      <th></th>\n",
              "      <th></th>\n",
              "      <th></th>\n",
              "      <th></th>\n",
              "      <th></th>\n",
              "      <th></th>\n",
              "      <th></th>\n",
              "      <th></th>\n",
              "      <th></th>\n",
              "      <th></th>\n",
              "      <th></th>\n",
              "      <th></th>\n",
              "      <th></th>\n",
              "      <th></th>\n",
              "      <th></th>\n",
              "      <th></th>\n",
              "      <th></th>\n",
              "      <th></th>\n",
              "      <th></th>\n",
              "      <th></th>\n",
              "      <th></th>\n",
              "      <th></th>\n",
              "      <th></th>\n",
              "      <th></th>\n",
              "    </tr>\n",
              "  </thead>\n",
              "  <tbody>\n",
              "    <tr>\n",
              "      <th>Babyfood, pasta with vegetables, dinner</th>\n",
              "      <td>0.00 mcg</td>\n",
              "      <td>0.110 mg</td>\n",
              "      <td>2.9 mg</td>\n",
              "      <td>0.00 IU</td>\n",
              "      <td>0.23 mg</td>\n",
              "      <td>0.23 mg</td>\n",
              "      <td>2.1 mcg</td>\n",
              "      <td>14.00 mg</td>\n",
              "      <td>0.110 mg</td>\n",
              "      <td>0.50 mg</td>\n",
              "      <td>24.00 mg</td>\n",
              "      <td>0.390 mg</td>\n",
              "      <td>50.00 mg</td>\n",
              "      <td>133.00 mg</td>\n",
              "      <td>6.4 mcg</td>\n",
              "      <td>0.40 mg</td>\n",
              "      <td>1.70 g</td>\n",
              "      <td>0</td>\n",
              "      <td>0</td>\n",
              "      <td>0</td>\n",
              "      <td>0</td>\n",
              "      <td>0</td>\n",
              "      <td>0</td>\n",
              "      <td>0</td>\n",
              "      <td>0</td>\n",
              "      <td>0</td>\n",
              "      <td>0</td>\n",
              "      <td>0</td>\n",
              "      <td>0</td>\n",
              "      <td>0</td>\n",
              "      <td>0</td>\n",
              "      <td>0</td>\n",
              "      <td>0</td>\n",
              "      <td>0</td>\n",
              "      <td>0</td>\n",
              "      <td>0</td>\n",
              "      <td>8.40 g</td>\n",
              "      <td>1.5 g</td>\n",
              "      <td>1.20 g</td>\n",
              "      <td>0</td>\n",
              "      <td>0</td>\n",
              "      <td>0</td>\n",
              "      <td>0</td>\n",
              "      <td>0</td>\n",
              "      <td>0</td>\n",
              "      <td>2.10 g</td>\n",
              "      <td>1.230 g</td>\n",
              "      <td>0.580 g</td>\n",
              "      <td>0.144 g</td>\n",
              "      <td>5.00 mg</td>\n",
              "      <td>0.0 g</td>\n",
              "      <td>0.41 g</td>\n",
              "      <td>0.00 mg</td>\n",
              "      <td>0.00 mg</td>\n",
              "      <td>87.30 g</td>\n",
              "    </tr>\n",
              "    <tr>\n",
              "      <th>Lamb, raw, separable lean only, boneless, loin, imported, New Zealand</th>\n",
              "      <td>1.12 mcg</td>\n",
              "      <td>0.176 mg</td>\n",
              "      <td>0.0 mg</td>\n",
              "      <td>1.00 IU</td>\n",
              "      <td>0.33 mg</td>\n",
              "      <td>0.33 mg</td>\n",
              "      <td>0</td>\n",
              "      <td>4.00 mg</td>\n",
              "      <td>0.127 mg</td>\n",
              "      <td>1.55 mg</td>\n",
              "      <td>26.00 mg</td>\n",
              "      <td>0.010 mg</td>\n",
              "      <td>217.00 mg</td>\n",
              "      <td>368.00 mg</td>\n",
              "      <td>2.9 mcg</td>\n",
              "      <td>2.10 mg</td>\n",
              "      <td>21.50 g</td>\n",
              "      <td>1.069 g</td>\n",
              "      <td>1.447 g</td>\n",
              "      <td>0</td>\n",
              "      <td>0.281 g</td>\n",
              "      <td>3.003 g</td>\n",
              "      <td>0.919 g</td>\n",
              "      <td>0.455 g</td>\n",
              "      <td>0</td>\n",
              "      <td>0.962 g</td>\n",
              "      <td>1.660 g</td>\n",
              "      <td>1.878 g</td>\n",
              "      <td>0.701 g</td>\n",
              "      <td>0.847 g</td>\n",
              "      <td>0.689 g</td>\n",
              "      <td>0.733 g</td>\n",
              "      <td>1.026 g</td>\n",
              "      <td>0.238 g</td>\n",
              "      <td>0.745 g</td>\n",
              "      <td>1.095 g</td>\n",
              "      <td>0.00 g</td>\n",
              "      <td>0.0 g</td>\n",
              "      <td>0.00 g</td>\n",
              "      <td>0</td>\n",
              "      <td>0</td>\n",
              "      <td>0</td>\n",
              "      <td>0</td>\n",
              "      <td>0</td>\n",
              "      <td>0</td>\n",
              "      <td>3.77 g</td>\n",
              "      <td>1.187 g</td>\n",
              "      <td>0.923 g</td>\n",
              "      <td>0.272 g</td>\n",
              "      <td>66.00 mg</td>\n",
              "      <td>0.0 g</td>\n",
              "      <td>1.17 g</td>\n",
              "      <td>0.00 mg</td>\n",
              "      <td>0.00 mg</td>\n",
              "      <td>74.54 g</td>\n",
              "    </tr>\n",
              "    <tr>\n",
              "      <th>Succotash, raw, (corn and limas)</th>\n",
              "      <td>0.00 mcg</td>\n",
              "      <td>0.130 mg</td>\n",
              "      <td>15.1 mg</td>\n",
              "      <td>0.00 IU</td>\n",
              "      <td>0</td>\n",
              "      <td>0</td>\n",
              "      <td>0</td>\n",
              "      <td>18.00 mg</td>\n",
              "      <td>0.186 mg</td>\n",
              "      <td>1.83 mg</td>\n",
              "      <td>48.00 mg</td>\n",
              "      <td>0.688 mg</td>\n",
              "      <td>113.00 mg</td>\n",
              "      <td>369.00 mg</td>\n",
              "      <td>0.6 mcg</td>\n",
              "      <td>0.61 mg</td>\n",
              "      <td>5.03 g</td>\n",
              "      <td>0.277 g</td>\n",
              "      <td>0.294 g</td>\n",
              "      <td>0.489 g</td>\n",
              "      <td>0.055 g</td>\n",
              "      <td>0.758 g</td>\n",
              "      <td>0.200 g</td>\n",
              "      <td>0.160 g</td>\n",
              "      <td>0</td>\n",
              "      <td>0.284 g</td>\n",
              "      <td>0.443 g</td>\n",
              "      <td>0.295 g</td>\n",
              "      <td>0.068 g</td>\n",
              "      <td>0.243 g</td>\n",
              "      <td>0.196 g</td>\n",
              "      <td>0.290 g</td>\n",
              "      <td>0.209 g</td>\n",
              "      <td>0.056 g</td>\n",
              "      <td>0.171 g</td>\n",
              "      <td>0.306 g</td>\n",
              "      <td>19.59 g</td>\n",
              "      <td>3.8 g</td>\n",
              "      <td>0</td>\n",
              "      <td>0</td>\n",
              "      <td>0</td>\n",
              "      <td>0</td>\n",
              "      <td>0</td>\n",
              "      <td>0</td>\n",
              "      <td>0</td>\n",
              "      <td>1.02 g</td>\n",
              "      <td>0.190 g</td>\n",
              "      <td>0.198 g</td>\n",
              "      <td>0.489 g</td>\n",
              "      <td>0.00 mg</td>\n",
              "      <td>0.0 g</td>\n",
              "      <td>1.26 g</td>\n",
              "      <td>0</td>\n",
              "      <td>0</td>\n",
              "      <td>73.10 g</td>\n",
              "    </tr>\n",
              "  </tbody>\n",
              "</table>\n",
              "</div>"
            ],
            "text/plain": [
              "                                                   vitamin_b12  ...    water\n",
              "name                                                            ...         \n",
              "Babyfood, pasta with vegetables, dinner               0.00 mcg  ...  87.30 g\n",
              "Lamb, raw, separable lean only, boneless, loin,...    1.12 mcg  ...  74.54 g\n",
              "Succotash, raw, (corn and limas)                      0.00 mcg  ...  73.10 g\n",
              "\n",
              "[3 rows x 55 columns]"
            ]
          },
          "metadata": {},
          "execution_count": 123
        }
      ]
    },
    {
      "cell_type": "code",
      "metadata": {
        "id": "oY6tGvRZ2xtF",
        "outputId": "9568c807-4f32-40f5-8444-e579ebe97967",
        "colab": {
          "base_uri": "https://localhost:8080/",
          "height": 35
        }
      },
      "source": [
        "nutr_mini.iat[2,4]"
      ],
      "execution_count": 121,
      "outputs": [
        {
          "output_type": "execute_result",
          "data": {
            "application/vnd.google.colaboratory.intrinsic+json": {
              "type": "string"
            },
            "text/plain": [
              "'0'"
            ]
          },
          "metadata": {},
          "execution_count": 121
        }
      ]
    }
  ]
}