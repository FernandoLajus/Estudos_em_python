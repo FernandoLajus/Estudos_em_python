{
  "nbformat": 4,
  "nbformat_minor": 0,
  "metadata": {
    "colab": {
      "name": "Data Frames.ipynb",
      "provenance": [],
      "authorship_tag": "ABX9TyP/n9lM6EYOZzaw9CLUsPZ2",
      "include_colab_link": true
    },
    "kernelspec": {
      "name": "python3",
      "display_name": "Python 3"
    },
    "language_info": {
      "name": "python"
    }
  },
  "cells": [
    {
      "cell_type": "markdown",
      "metadata": {
        "id": "view-in-github",
        "colab_type": "text"
      },
      "source": [
        "<a href=\"https://colab.research.google.com/github/FernandoLajus/Python_pd_bootcamp/blob/main/Data_Frames.ipynb\" target=\"_parent\"><img src=\"https://colab.research.google.com/assets/colab-badge.svg\" alt=\"Open In Colab\"/></a>"
      ]
    },
    {
      "cell_type": "code",
      "metadata": {
        "id": "CIWFwl9lq7BO"
      },
      "source": [
        "import numpy as np\n",
        "import pandas as pd"
      ],
      "execution_count": 1,
      "outputs": []
    },
    {
      "cell_type": "code",
      "metadata": {
        "colab": {
          "base_uri": "https://localhost:8080/",
          "height": 35
        },
        "id": "Gi5Yo3L0sH0P",
        "outputId": "3db556a3-29bc-497b-e676-e785686e2e55"
      },
      "source": [
        "pd.__version__"
      ],
      "execution_count": 2,
      "outputs": [
        {
          "output_type": "execute_result",
          "data": {
            "application/vnd.google.colaboratory.intrinsic+json": {
              "type": "string"
            },
            "text/plain": [
              "'1.1.5'"
            ]
          },
          "metadata": {},
          "execution_count": 2
        }
      ]
    },
    {
      "cell_type": "code",
      "metadata": {
        "id": "qKigwxoTsMGs"
      },
      "source": [
        "name = ['Fernando','Paulo','Maria','Valentina','Júlio']\n",
        "years = [21,32,25,19,31]\n",
        "married = [True,True,False,False,False ]"
      ],
      "execution_count": 3,
      "outputs": []
    },
    {
      "cell_type": "code",
      "metadata": {
        "id": "gqwUEay1sj9Y"
      },
      "source": [
        "df = pd.DataFrame({'nome':name,'years': years, 'married':married})"
      ],
      "execution_count": 4,
      "outputs": []
    },
    {
      "cell_type": "code",
      "metadata": {
        "colab": {
          "base_uri": "https://localhost:8080/",
          "height": 204
        },
        "id": "CeowOkZWt6Ur",
        "outputId": "f6f78506-4d8d-469c-e8d7-494e124f4844"
      },
      "source": [
        "df.head()"
      ],
      "execution_count": 5,
      "outputs": [
        {
          "output_type": "execute_result",
          "data": {
            "text/html": [
              "<div>\n",
              "<style scoped>\n",
              "    .dataframe tbody tr th:only-of-type {\n",
              "        vertical-align: middle;\n",
              "    }\n",
              "\n",
              "    .dataframe tbody tr th {\n",
              "        vertical-align: top;\n",
              "    }\n",
              "\n",
              "    .dataframe thead th {\n",
              "        text-align: right;\n",
              "    }\n",
              "</style>\n",
              "<table border=\"1\" class=\"dataframe\">\n",
              "  <thead>\n",
              "    <tr style=\"text-align: right;\">\n",
              "      <th></th>\n",
              "      <th>nome</th>\n",
              "      <th>years</th>\n",
              "      <th>married</th>\n",
              "    </tr>\n",
              "  </thead>\n",
              "  <tbody>\n",
              "    <tr>\n",
              "      <th>0</th>\n",
              "      <td>Fernando</td>\n",
              "      <td>21</td>\n",
              "      <td>True</td>\n",
              "    </tr>\n",
              "    <tr>\n",
              "      <th>1</th>\n",
              "      <td>Paulo</td>\n",
              "      <td>32</td>\n",
              "      <td>True</td>\n",
              "    </tr>\n",
              "    <tr>\n",
              "      <th>2</th>\n",
              "      <td>Maria</td>\n",
              "      <td>25</td>\n",
              "      <td>False</td>\n",
              "    </tr>\n",
              "    <tr>\n",
              "      <th>3</th>\n",
              "      <td>Valentina</td>\n",
              "      <td>19</td>\n",
              "      <td>False</td>\n",
              "    </tr>\n",
              "    <tr>\n",
              "      <th>4</th>\n",
              "      <td>Júlio</td>\n",
              "      <td>31</td>\n",
              "      <td>False</td>\n",
              "    </tr>\n",
              "  </tbody>\n",
              "</table>\n",
              "</div>"
            ],
            "text/plain": [
              "        nome  years  married\n",
              "0   Fernando     21     True\n",
              "1      Paulo     32     True\n",
              "2      Maria     25    False\n",
              "3  Valentina     19    False\n",
              "4      Júlio     31    False"
            ]
          },
          "metadata": {},
          "execution_count": 5
        }
      ]
    },
    {
      "cell_type": "code",
      "metadata": {
        "colab": {
          "base_uri": "https://localhost:8080/",
          "height": 35
        },
        "id": "QofkIn8mtCq6",
        "outputId": "8ca5f1f7-5073-4a47-f1d9-f6ce0f478968"
      },
      "source": [
        " df.iloc[2,0]"
      ],
      "execution_count": 6,
      "outputs": [
        {
          "output_type": "execute_result",
          "data": {
            "application/vnd.google.colaboratory.intrinsic+json": {
              "type": "string"
            },
            "text/plain": [
              "'Maria'"
            ]
          },
          "metadata": {},
          "execution_count": 6
        }
      ]
    },
    {
      "cell_type": "code",
      "metadata": {
        "colab": {
          "base_uri": "https://localhost:8080/"
        },
        "id": "wW4TAHvPuPl5",
        "outputId": "768f8a58-8735-4b05-e13a-e39836ed6c11"
      },
      "source": [
        "df.shape"
      ],
      "execution_count": 7,
      "outputs": [
        {
          "output_type": "execute_result",
          "data": {
            "text/plain": [
              "(5, 3)"
            ]
          },
          "metadata": {},
          "execution_count": 7
        }
      ]
    },
    {
      "cell_type": "code",
      "metadata": {
        "colab": {
          "base_uri": "https://localhost:8080/"
        },
        "id": "CHCyUfgcuXBI",
        "outputId": "0f6be4e9-d080-417c-e0b8-118e24ea9da9"
      },
      "source": [
        "df.years"
      ],
      "execution_count": 8,
      "outputs": [
        {
          "output_type": "execute_result",
          "data": {
            "text/plain": [
              "0    21\n",
              "1    32\n",
              "2    25\n",
              "3    19\n",
              "4    31\n",
              "Name: years, dtype: int64"
            ]
          },
          "metadata": {},
          "execution_count": 8
        }
      ]
    },
    {
      "cell_type": "code",
      "metadata": {
        "colab": {
          "base_uri": "https://localhost:8080/"
        },
        "id": "bSFASMUTuo4b",
        "outputId": "86314043-6a65-4c52-8057-1a1d8ad883b6"
      },
      "source": [
        "df.dtypes"
      ],
      "execution_count": 9,
      "outputs": [
        {
          "output_type": "execute_result",
          "data": {
            "text/plain": [
              "nome       object\n",
              "years       int64\n",
              "married      bool\n",
              "dtype: object"
            ]
          },
          "metadata": {},
          "execution_count": 9
        }
      ]
    },
    {
      "cell_type": "code",
      "metadata": {
        "id": "ZfZZkzVY2WIx",
        "outputId": "a9d97b21-5d97-47ff-bd5e-a4332ff1fd0c",
        "colab": {
          "base_uri": "https://localhost:8080/"
        }
      },
      "source": [
        "df.info()"
      ],
      "execution_count": 12,
      "outputs": [
        {
          "output_type": "stream",
          "name": "stdout",
          "text": [
            "<class 'pandas.core.frame.DataFrame'>\n",
            "RangeIndex: 5 entries, 0 to 4\n",
            "Data columns (total 3 columns):\n",
            " #   Column   Non-Null Count  Dtype \n",
            "---  ------   --------------  ----- \n",
            " 0   nome     5 non-null      object\n",
            " 1   years    5 non-null      int64 \n",
            " 2   married  5 non-null      bool  \n",
            "dtypes: bool(1), int64(1), object(1)\n",
            "memory usage: 213.0+ bytes\n"
          ]
        }
      ]
    },
    {
      "cell_type": "code",
      "metadata": {
        "id": "wFFVGDHq7EcJ"
      },
      "source": [
        "refugees = pd.read_csv('Refugee.csv')"
      ],
      "execution_count": 14,
      "outputs": []
    },
    {
      "cell_type": "code",
      "metadata": {
        "id": "FgYFOUWA7TGv"
      },
      "source": [
        "refugees.info(memory_usage='deep')"
      ],
      "execution_count": null,
      "outputs": []
    },
    {
      "cell_type": "code",
      "metadata": {
        "id": "3jc-zvSD7t48"
      },
      "source": [
        "refugees['Country of origin'].sort_values().head()"
      ],
      "execution_count": null,
      "outputs": []
    },
    {
      "cell_type": "code",
      "metadata": {
        "id": "EJcGZoxM9AQa"
      },
      "source": [
        "nutrition = pd.read_csv('nutrition.csv')"
      ],
      "execution_count": 50,
      "outputs": []
    },
    {
      "cell_type": "code",
      "metadata": {
        "id": "zO5OWk3C-eRP",
        "outputId": "667830a5-3585-4cc1-f69f-2fa211d3e4eb",
        "colab": {
          "base_uri": "https://localhost:8080/"
        }
      },
      "source": [
        "nutrition.info(verbose=False,memory_usage=\"deep\")"
      ],
      "execution_count": 76,
      "outputs": [
        {
          "output_type": "stream",
          "name": "stdout",
          "text": [
            "<class 'pandas.core.frame.DataFrame'>\n",
            "RangeIndex: 8789 entries, 0 to 8788\n",
            "Columns: 76 entries, name to water\n",
            "dtypes: int64(2), object(74)\n",
            "memory usage: 39.2 MB\n"
          ]
        }
      ]
    },
    {
      "cell_type": "code",
      "metadata": {
        "id": "RMMdslU0_QxU",
        "outputId": "b51ea263-eecf-49d8-bbd4-a41a4e7f24f7",
        "colab": {
          "base_uri": "https://localhost:8080/"
        }
      },
      "source": [
        "nutrition['protein'].sort_values(ascending=False)"
      ],
      "execution_count": 66,
      "outputs": [
        {
          "output_type": "execute_result",
          "data": {
            "text/plain": [
              "753     9.99 g\n",
              "2279    9.98 g\n",
              "4261    9.98 g\n",
              "811     9.95 g\n",
              "2449    9.94 g\n",
              "         ...  \n",
              "1920    0.00 g\n",
              "407     0.00 g\n",
              "7985    0.00 g\n",
              "5954    0.00 g\n",
              "328     0.00 g\n",
              "Name: protein, Length: 8789, dtype: object"
            ]
          },
          "metadata": {},
          "execution_count": 66
        }
      ]
    },
    {
      "cell_type": "code",
      "metadata": {
        "id": "0nt0ppwbAI0E",
        "outputId": "2813acd6-f131-4d56-eec5-a842260d9378",
        "colab": {
          "base_uri": "https://localhost:8080/",
          "height": 309
        }
      },
      "source": [
        "nutrition.drop('Unnamed: 0',axis=1,inplace=True)\n",
        "nutrition.head(5)"
      ],
      "execution_count": 75,
      "outputs": [
        {
          "output_type": "execute_result",
          "data": {
            "text/html": [
              "<div>\n",
              "<style scoped>\n",
              "    .dataframe tbody tr th:only-of-type {\n",
              "        vertical-align: middle;\n",
              "    }\n",
              "\n",
              "    .dataframe tbody tr th {\n",
              "        vertical-align: top;\n",
              "    }\n",
              "\n",
              "    .dataframe thead th {\n",
              "        text-align: right;\n",
              "    }\n",
              "</style>\n",
              "<table border=\"1\" class=\"dataframe\">\n",
              "  <thead>\n",
              "    <tr style=\"text-align: right;\">\n",
              "      <th></th>\n",
              "      <th>name</th>\n",
              "      <th>serving_size</th>\n",
              "      <th>calories</th>\n",
              "      <th>total_fat</th>\n",
              "      <th>saturated_fat</th>\n",
              "      <th>cholesterol</th>\n",
              "      <th>sodium</th>\n",
              "      <th>choline</th>\n",
              "      <th>folate</th>\n",
              "      <th>folic_acid</th>\n",
              "      <th>niacin</th>\n",
              "      <th>pantothenic_acid</th>\n",
              "      <th>riboflavin</th>\n",
              "      <th>thiamin</th>\n",
              "      <th>vitamin_a</th>\n",
              "      <th>vitamin_a_rae</th>\n",
              "      <th>carotene_alpha</th>\n",
              "      <th>carotene_beta</th>\n",
              "      <th>cryptoxanthin_beta</th>\n",
              "      <th>lutein_zeaxanthin</th>\n",
              "      <th>lucopene</th>\n",
              "      <th>vitamin_b12</th>\n",
              "      <th>vitamin_b6</th>\n",
              "      <th>vitamin_c</th>\n",
              "      <th>vitamin_d</th>\n",
              "      <th>vitamin_e</th>\n",
              "      <th>tocopherol_alpha</th>\n",
              "      <th>vitamin_k</th>\n",
              "      <th>calcium</th>\n",
              "      <th>copper</th>\n",
              "      <th>irom</th>\n",
              "      <th>magnesium</th>\n",
              "      <th>manganese</th>\n",
              "      <th>phosphorous</th>\n",
              "      <th>potassium</th>\n",
              "      <th>selenium</th>\n",
              "      <th>zink</th>\n",
              "      <th>protein</th>\n",
              "      <th>alanine</th>\n",
              "      <th>arginine</th>\n",
              "      <th>aspartic_acid</th>\n",
              "      <th>cystine</th>\n",
              "      <th>glutamic_acid</th>\n",
              "      <th>glycine</th>\n",
              "      <th>histidine</th>\n",
              "      <th>hydroxyproline</th>\n",
              "      <th>isoleucine</th>\n",
              "      <th>leucine</th>\n",
              "      <th>lysine</th>\n",
              "      <th>methionine</th>\n",
              "      <th>phenylalanine</th>\n",
              "      <th>proline</th>\n",
              "      <th>serine</th>\n",
              "      <th>threonine</th>\n",
              "      <th>tryptophan</th>\n",
              "      <th>tyrosine</th>\n",
              "      <th>valine</th>\n",
              "      <th>carbohydrate</th>\n",
              "      <th>fiber</th>\n",
              "      <th>sugars</th>\n",
              "      <th>fructose</th>\n",
              "      <th>galactose</th>\n",
              "      <th>glucose</th>\n",
              "      <th>lactose</th>\n",
              "      <th>maltose</th>\n",
              "      <th>sucrose</th>\n",
              "      <th>fat</th>\n",
              "      <th>saturated_fatty_acids</th>\n",
              "      <th>monounsaturated_fatty_acids</th>\n",
              "      <th>polyunsaturated_fatty_acids</th>\n",
              "      <th>fatty_acids_total_trans</th>\n",
              "      <th>alcohol</th>\n",
              "      <th>ash</th>\n",
              "      <th>caffeine</th>\n",
              "      <th>theobromine</th>\n",
              "      <th>water</th>\n",
              "    </tr>\n",
              "  </thead>\n",
              "  <tbody>\n",
              "    <tr>\n",
              "      <th>0</th>\n",
              "      <td>Cornstarch</td>\n",
              "      <td>100 g</td>\n",
              "      <td>381</td>\n",
              "      <td>0.1g</td>\n",
              "      <td>NaN</td>\n",
              "      <td>0</td>\n",
              "      <td>9.00 mg</td>\n",
              "      <td>0.4 mg</td>\n",
              "      <td>0.00 mcg</td>\n",
              "      <td>0.00 mcg</td>\n",
              "      <td>0.000 mg</td>\n",
              "      <td>0.000 mg</td>\n",
              "      <td>0.000 mg</td>\n",
              "      <td>0.000 mg</td>\n",
              "      <td>0.00 IU</td>\n",
              "      <td>0.00 mcg</td>\n",
              "      <td>0.00 mcg</td>\n",
              "      <td>0.00 mcg</td>\n",
              "      <td>0.00 mcg</td>\n",
              "      <td>0.00 mcg</td>\n",
              "      <td>0</td>\n",
              "      <td>0.00 mcg</td>\n",
              "      <td>0.000 mg</td>\n",
              "      <td>0.0 mg</td>\n",
              "      <td>0.00 IU</td>\n",
              "      <td>0.00 mg</td>\n",
              "      <td>0.00 mg</td>\n",
              "      <td>0.0 mcg</td>\n",
              "      <td>2.00 mg</td>\n",
              "      <td>0.050 mg</td>\n",
              "      <td>0.47 mg</td>\n",
              "      <td>3.00 mg</td>\n",
              "      <td>0.053 mg</td>\n",
              "      <td>13.00 mg</td>\n",
              "      <td>3.00 mg</td>\n",
              "      <td>2.8 mcg</td>\n",
              "      <td>0.06 mg</td>\n",
              "      <td>0.26 g</td>\n",
              "      <td>0.019 g</td>\n",
              "      <td>0.012 g</td>\n",
              "      <td>0.020 g</td>\n",
              "      <td>0.006 g</td>\n",
              "      <td>0.053 g</td>\n",
              "      <td>0.009 g</td>\n",
              "      <td>0.008 g</td>\n",
              "      <td>0</td>\n",
              "      <td>0.010 g</td>\n",
              "      <td>0.036 g</td>\n",
              "      <td>0.006 g</td>\n",
              "      <td>0.006 g</td>\n",
              "      <td>0.013 g</td>\n",
              "      <td>0.024 g</td>\n",
              "      <td>0.012 g</td>\n",
              "      <td>0.009 g</td>\n",
              "      <td>0.001 g</td>\n",
              "      <td>0.010 g</td>\n",
              "      <td>0.014 g</td>\n",
              "      <td>91.27 g</td>\n",
              "      <td>0.9 g</td>\n",
              "      <td>0.00 g</td>\n",
              "      <td>0</td>\n",
              "      <td>0</td>\n",
              "      <td>0</td>\n",
              "      <td>0</td>\n",
              "      <td>0</td>\n",
              "      <td>0</td>\n",
              "      <td>0.05 g</td>\n",
              "      <td>0.009 g</td>\n",
              "      <td>0.016 g</td>\n",
              "      <td>0.025 g</td>\n",
              "      <td>0.00 mg</td>\n",
              "      <td>0.0 g</td>\n",
              "      <td>0.09 g</td>\n",
              "      <td>0.00 mg</td>\n",
              "      <td>0.00 mg</td>\n",
              "      <td>8.32 g</td>\n",
              "    </tr>\n",
              "    <tr>\n",
              "      <th>1</th>\n",
              "      <td>Nuts, pecans</td>\n",
              "      <td>100 g</td>\n",
              "      <td>691</td>\n",
              "      <td>72g</td>\n",
              "      <td>6.2g</td>\n",
              "      <td>0</td>\n",
              "      <td>0.00 mg</td>\n",
              "      <td>40.5 mg</td>\n",
              "      <td>22.00 mcg</td>\n",
              "      <td>0.00 mcg</td>\n",
              "      <td>1.167 mg</td>\n",
              "      <td>0.863 mg</td>\n",
              "      <td>0.130 mg</td>\n",
              "      <td>0.660 mg</td>\n",
              "      <td>56.00 IU</td>\n",
              "      <td>3.00 mcg</td>\n",
              "      <td>0.00 mcg</td>\n",
              "      <td>29.00 mcg</td>\n",
              "      <td>9.00 mcg</td>\n",
              "      <td>17.00 mcg</td>\n",
              "      <td>0</td>\n",
              "      <td>0.00 mcg</td>\n",
              "      <td>0.210 mg</td>\n",
              "      <td>1.1 mg</td>\n",
              "      <td>0.00 IU</td>\n",
              "      <td>1.40 mg</td>\n",
              "      <td>1.40 mg</td>\n",
              "      <td>3.5 mcg</td>\n",
              "      <td>70.00 mg</td>\n",
              "      <td>1.200 mg</td>\n",
              "      <td>2.53 mg</td>\n",
              "      <td>121.00 mg</td>\n",
              "      <td>4.500 mg</td>\n",
              "      <td>277.00 mg</td>\n",
              "      <td>410.00 mg</td>\n",
              "      <td>3.8 mcg</td>\n",
              "      <td>4.53 mg</td>\n",
              "      <td>9.17 g</td>\n",
              "      <td>0.397 g</td>\n",
              "      <td>1.177 g</td>\n",
              "      <td>0.929 g</td>\n",
              "      <td>0.152 g</td>\n",
              "      <td>1.829 g</td>\n",
              "      <td>0.453 g</td>\n",
              "      <td>0.262 g</td>\n",
              "      <td>0</td>\n",
              "      <td>0.336 g</td>\n",
              "      <td>0.598 g</td>\n",
              "      <td>0.287 g</td>\n",
              "      <td>0.183 g</td>\n",
              "      <td>0.426 g</td>\n",
              "      <td>0.363 g</td>\n",
              "      <td>0.474 g</td>\n",
              "      <td>0.306 g</td>\n",
              "      <td>0.093 g</td>\n",
              "      <td>0.215 g</td>\n",
              "      <td>0.411 g</td>\n",
              "      <td>13.86 g</td>\n",
              "      <td>9.6 g</td>\n",
              "      <td>3.97 g</td>\n",
              "      <td>0.04 g</td>\n",
              "      <td>0</td>\n",
              "      <td>0.04 g</td>\n",
              "      <td>0.00 g</td>\n",
              "      <td>0.00 g</td>\n",
              "      <td>3.90 g</td>\n",
              "      <td>71.97 g</td>\n",
              "      <td>6.180 g</td>\n",
              "      <td>40.801 g</td>\n",
              "      <td>21.614 g</td>\n",
              "      <td>0.00 mg</td>\n",
              "      <td>0.0 g</td>\n",
              "      <td>1.49 g</td>\n",
              "      <td>0.00 mg</td>\n",
              "      <td>0.00 mg</td>\n",
              "      <td>3.52 g</td>\n",
              "    </tr>\n",
              "    <tr>\n",
              "      <th>2</th>\n",
              "      <td>Eggplant, raw</td>\n",
              "      <td>100 g</td>\n",
              "      <td>25</td>\n",
              "      <td>0.2g</td>\n",
              "      <td>NaN</td>\n",
              "      <td>0</td>\n",
              "      <td>2.00 mg</td>\n",
              "      <td>6.9 mg</td>\n",
              "      <td>22.00 mcg</td>\n",
              "      <td>0.00 mcg</td>\n",
              "      <td>0.649 mg</td>\n",
              "      <td>0.281 mg</td>\n",
              "      <td>0.037 mg</td>\n",
              "      <td>0.039 mg</td>\n",
              "      <td>23.00 IU</td>\n",
              "      <td>1.00 mcg</td>\n",
              "      <td>0.00 mcg</td>\n",
              "      <td>14.00 mcg</td>\n",
              "      <td>0.00 mcg</td>\n",
              "      <td>36.00 mcg</td>\n",
              "      <td>0</td>\n",
              "      <td>0.00 mcg</td>\n",
              "      <td>0.084 mg</td>\n",
              "      <td>2.2 mg</td>\n",
              "      <td>0.00 IU</td>\n",
              "      <td>0.30 mg</td>\n",
              "      <td>0.30 mg</td>\n",
              "      <td>3.5 mcg</td>\n",
              "      <td>9.00 mg</td>\n",
              "      <td>0.081 mg</td>\n",
              "      <td>0.23 mg</td>\n",
              "      <td>14.00 mg</td>\n",
              "      <td>0.232 mg</td>\n",
              "      <td>24.00 mg</td>\n",
              "      <td>229.00 mg</td>\n",
              "      <td>0.3 mcg</td>\n",
              "      <td>0.16 mg</td>\n",
              "      <td>0.98 g</td>\n",
              "      <td>0.051 g</td>\n",
              "      <td>0.057 g</td>\n",
              "      <td>0.164 g</td>\n",
              "      <td>0.006 g</td>\n",
              "      <td>0.186 g</td>\n",
              "      <td>0.041 g</td>\n",
              "      <td>0.023 g</td>\n",
              "      <td>0</td>\n",
              "      <td>0.045 g</td>\n",
              "      <td>0.064 g</td>\n",
              "      <td>0.047 g</td>\n",
              "      <td>0.011 g</td>\n",
              "      <td>0.043 g</td>\n",
              "      <td>0.043 g</td>\n",
              "      <td>0.042 g</td>\n",
              "      <td>0.037 g</td>\n",
              "      <td>0.009 g</td>\n",
              "      <td>0.027 g</td>\n",
              "      <td>0.053 g</td>\n",
              "      <td>5.88 g</td>\n",
              "      <td>3.0 g</td>\n",
              "      <td>3.53 g</td>\n",
              "      <td>1.54 g</td>\n",
              "      <td>0</td>\n",
              "      <td>1.58 g</td>\n",
              "      <td>0</td>\n",
              "      <td>0</td>\n",
              "      <td>0.26 g</td>\n",
              "      <td>0.18 g</td>\n",
              "      <td>0.034 g</td>\n",
              "      <td>0.016 g</td>\n",
              "      <td>0.076 g</td>\n",
              "      <td>0.00 mg</td>\n",
              "      <td>0.0 g</td>\n",
              "      <td>0.66 g</td>\n",
              "      <td>0.00 mg</td>\n",
              "      <td>0.00 mg</td>\n",
              "      <td>92.30 g</td>\n",
              "    </tr>\n",
              "    <tr>\n",
              "      <th>3</th>\n",
              "      <td>Teff, uncooked</td>\n",
              "      <td>100 g</td>\n",
              "      <td>367</td>\n",
              "      <td>2.4g</td>\n",
              "      <td>0.4g</td>\n",
              "      <td>0</td>\n",
              "      <td>12.00 mg</td>\n",
              "      <td>13.1 mg</td>\n",
              "      <td>0</td>\n",
              "      <td>0</td>\n",
              "      <td>3.363 mg</td>\n",
              "      <td>0.942 mg</td>\n",
              "      <td>0.270 mg</td>\n",
              "      <td>0.390 mg</td>\n",
              "      <td>9.00 IU</td>\n",
              "      <td>0.00 mcg</td>\n",
              "      <td>0.00 mcg</td>\n",
              "      <td>5.00 mcg</td>\n",
              "      <td>0.00 mcg</td>\n",
              "      <td>66.00 mcg</td>\n",
              "      <td>0</td>\n",
              "      <td>0</td>\n",
              "      <td>0.482 mg</td>\n",
              "      <td>0</td>\n",
              "      <td>0</td>\n",
              "      <td>0.08 mg</td>\n",
              "      <td>0.08 mg</td>\n",
              "      <td>1.9 mcg</td>\n",
              "      <td>180.00 mg</td>\n",
              "      <td>0.810 mg</td>\n",
              "      <td>7.63 mg</td>\n",
              "      <td>184.00 mg</td>\n",
              "      <td>9.240 mg</td>\n",
              "      <td>429.00 mg</td>\n",
              "      <td>427.00 mg</td>\n",
              "      <td>4.4 mcg</td>\n",
              "      <td>3.63 mg</td>\n",
              "      <td>13.30 g</td>\n",
              "      <td>0.747 g</td>\n",
              "      <td>0.517 g</td>\n",
              "      <td>0.820 g</td>\n",
              "      <td>0.236 g</td>\n",
              "      <td>3.349 g</td>\n",
              "      <td>0.477 g</td>\n",
              "      <td>0.301 g</td>\n",
              "      <td>0</td>\n",
              "      <td>0.501 g</td>\n",
              "      <td>1.068 g</td>\n",
              "      <td>0.376 g</td>\n",
              "      <td>0.428 g</td>\n",
              "      <td>0.698 g</td>\n",
              "      <td>0.664 g</td>\n",
              "      <td>0.622 g</td>\n",
              "      <td>0.510 g</td>\n",
              "      <td>0.139 g</td>\n",
              "      <td>0.458 g</td>\n",
              "      <td>0.686 g</td>\n",
              "      <td>73.13 g</td>\n",
              "      <td>8.0 g</td>\n",
              "      <td>1.84 g</td>\n",
              "      <td>0.47 g</td>\n",
              "      <td>0.00 g</td>\n",
              "      <td>0.73 g</td>\n",
              "      <td>0.00 g</td>\n",
              "      <td>0.01 g</td>\n",
              "      <td>0.62 g</td>\n",
              "      <td>2.38 g</td>\n",
              "      <td>0.449 g</td>\n",
              "      <td>0.589 g</td>\n",
              "      <td>1.071 g</td>\n",
              "      <td>0</td>\n",
              "      <td>0</td>\n",
              "      <td>2.37 g</td>\n",
              "      <td>0</td>\n",
              "      <td>0</td>\n",
              "      <td>8.82 g</td>\n",
              "    </tr>\n",
              "    <tr>\n",
              "      <th>4</th>\n",
              "      <td>Sherbet, orange</td>\n",
              "      <td>100 g</td>\n",
              "      <td>144</td>\n",
              "      <td>2g</td>\n",
              "      <td>1.2g</td>\n",
              "      <td>1mg</td>\n",
              "      <td>46.00 mg</td>\n",
              "      <td>7.7 mg</td>\n",
              "      <td>4.00 mcg</td>\n",
              "      <td>0.00 mcg</td>\n",
              "      <td>0.063 mg</td>\n",
              "      <td>0.224 mg</td>\n",
              "      <td>0.097 mg</td>\n",
              "      <td>0.027 mg</td>\n",
              "      <td>46.00 IU</td>\n",
              "      <td>12.00 mcg</td>\n",
              "      <td>0.00 mcg</td>\n",
              "      <td>1.00 mcg</td>\n",
              "      <td>5.00 mcg</td>\n",
              "      <td>7.00 mcg</td>\n",
              "      <td>0</td>\n",
              "      <td>0.13 mcg</td>\n",
              "      <td>0.023 mg</td>\n",
              "      <td>2.3 mg</td>\n",
              "      <td>0.00 IU</td>\n",
              "      <td>0.01 mg</td>\n",
              "      <td>0.01 mg</td>\n",
              "      <td>0.0 mcg</td>\n",
              "      <td>54.00 mg</td>\n",
              "      <td>0.028 mg</td>\n",
              "      <td>0.14 mg</td>\n",
              "      <td>8.00 mg</td>\n",
              "      <td>0.011 mg</td>\n",
              "      <td>40.00 mg</td>\n",
              "      <td>96.00 mg</td>\n",
              "      <td>1.5 mcg</td>\n",
              "      <td>0.48 mg</td>\n",
              "      <td>1.10 g</td>\n",
              "      <td>0</td>\n",
              "      <td>0</td>\n",
              "      <td>0</td>\n",
              "      <td>0</td>\n",
              "      <td>0</td>\n",
              "      <td>0</td>\n",
              "      <td>0</td>\n",
              "      <td>0</td>\n",
              "      <td>0</td>\n",
              "      <td>0</td>\n",
              "      <td>0</td>\n",
              "      <td>0</td>\n",
              "      <td>0</td>\n",
              "      <td>0</td>\n",
              "      <td>0</td>\n",
              "      <td>0</td>\n",
              "      <td>0</td>\n",
              "      <td>0</td>\n",
              "      <td>0</td>\n",
              "      <td>30.40 g</td>\n",
              "      <td>1.3 g</td>\n",
              "      <td>24.32 g</td>\n",
              "      <td>0</td>\n",
              "      <td>0</td>\n",
              "      <td>0</td>\n",
              "      <td>0</td>\n",
              "      <td>0</td>\n",
              "      <td>0</td>\n",
              "      <td>2.00 g</td>\n",
              "      <td>1.160 g</td>\n",
              "      <td>0.530 g</td>\n",
              "      <td>0.080 g</td>\n",
              "      <td>1.00 mg</td>\n",
              "      <td>0.0 g</td>\n",
              "      <td>0.40 g</td>\n",
              "      <td>0.00 mg</td>\n",
              "      <td>0.00 mg</td>\n",
              "      <td>66.10 g</td>\n",
              "    </tr>\n",
              "  </tbody>\n",
              "</table>\n",
              "</div>"
            ],
            "text/plain": [
              "              name serving_size  calories  ... caffeine theobromine    water\n",
              "0       Cornstarch        100 g       381  ...  0.00 mg     0.00 mg   8.32 g\n",
              "1     Nuts, pecans        100 g       691  ...  0.00 mg     0.00 mg   3.52 g\n",
              "2    Eggplant, raw        100 g        25  ...  0.00 mg     0.00 mg  92.30 g\n",
              "3   Teff, uncooked        100 g       367  ...        0           0   8.82 g\n",
              "4  Sherbet, orange        100 g       144  ...  0.00 mg     0.00 mg  66.10 g\n",
              "\n",
              "[5 rows x 76 columns]"
            ]
          },
          "metadata": {},
          "execution_count": 75
        }
      ]
    }
  ]
}