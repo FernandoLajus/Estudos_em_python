{
  "nbformat": 4,
  "nbformat_minor": 0,
  "metadata": {
    "colab": {
      "name": "Python Geospatial Tools .ipynb",
      "provenance": [],
      "authorship_tag": "ABX9TyOaguNi01yGagcf5bnlTG8m",
      "include_colab_link": true
    },
    "kernelspec": {
      "name": "python3",
      "display_name": "Python 3"
    },
    "language_info": {
      "name": "python"
    }
  },
  "cells": [
    {
      "cell_type": "markdown",
      "metadata": {
        "id": "view-in-github",
        "colab_type": "text"
      },
      "source": [
        "<a href=\"https://colab.research.google.com/github/FernandoLajus/Python_pd_bootcamp/blob/main/Python_Geospatial_Tools(Anaconda).ipynb\" target=\"_parent\"><img src=\"https://colab.research.google.com/assets/colab-badge.svg\" alt=\"Open In Colab\"/></a>"
      ]
    },
    {
      "cell_type": "code",
      "metadata": {
        "id": "v49OSvfYd6sI"
      },
      "source": [
        ""
      ],
      "execution_count": null,
      "outputs": []
    },
    {
      "cell_type": "markdown",
      "metadata": {
        "id": "_t7xtgAWpX9e"
      },
      "source": [
        "**Algumas bibliotecas do Python para trabalhar com dados geoespaciais:**\n",
        "\n",
        "Dask (horizontal Scaling)\n",
        "\n",
        "Numba e Cuda (vertical scaling)\n",
        "\n",
        "STAC/Intak e Zarr and fsspec-refence-maker (Data access scaling (indexing big collections)\n",
        "\n",
        "Arrow (Vectoring)\n",
        "\n",
        "GeoPandas e SpatialPandas para trabalhos em geral com dados espaciais\n",
        "\n"
      ]
    },
    {
      "cell_type": "code",
      "metadata": {
        "id": "8D60iLATqOTK"
      },
      "source": [
        "!pip install geopandas"
      ],
      "execution_count": null,
      "outputs": []
    },
    {
      "cell_type": "code",
      "metadata": {
        "id": "p7NCXLVi81nW"
      },
      "source": [
        "import numpy as np\n",
        "import pandas as pd\n",
        "import geopandas as gpd"
      ],
      "execution_count": 6,
      "outputs": []
    },
    {
      "cell_type": "markdown",
      "metadata": {
        "id": "FhyhlqAJ_Cpc"
      },
      "source": [
        "#**dask.distributed**\n",
        "\n",
        "Starting the Dask Client is optional. It will provide a dashboard which is useful to gain insight on the computation"
      ]
    },
    {
      "cell_type": "code",
      "metadata": {
        "id": "df0I1Y_N_Ijh",
        "outputId": "bced5b1f-dec8-4336-d456-a908a7d5ed6b",
        "colab": {
          "base_uri": "https://localhost:8080/",
          "height": 186
        }
      },
      "source": [
        "from dask.distributed import Client, progress\n",
        "\n",
        "client = Client(processes=False, threads_per_worker=4,\n",
        "                n_workers=1, memory_limit='16GB')\n",
        "\n",
        "client"
      ],
      "execution_count": 15,
      "outputs": [
        {
          "output_type": "stream",
          "name": "stderr",
          "text": [
            "/usr/local/lib/python3.7/dist-packages/distributed/node.py:155: UserWarning: Port 8787 is already in use.\n",
            "Perhaps you already have a cluster running?\n",
            "Hosting the HTTP server on port 36455 instead\n",
            "  http_address[\"port\"], self.http_server.port\n"
          ]
        },
        {
          "output_type": "execute_result",
          "data": {
            "text/html": [
              "<table style=\"border: 2px solid white;\">\n",
              "<tr>\n",
              "<td style=\"vertical-align: top; border: 0px solid white\">\n",
              "<h3 style=\"text-align: left;\">Client</h3>\n",
              "<ul style=\"text-align: left; list-style: none; margin: 0; padding: 0;\">\n",
              "  <li><b>Scheduler: </b>inproc://172.28.0.2/605/8</li>\n",
              "  <li><b>Dashboard: </b><a href='http://172.28.0.2:36455/status' target='_blank'>http://172.28.0.2:36455/status</a></li>\n",
              "</ul>\n",
              "</td>\n",
              "<td style=\"vertical-align: top; border: 0px solid white\">\n",
              "<h3 style=\"text-align: left;\">Cluster</h3>\n",
              "<ul style=\"text-align: left; list-style:none; margin: 0; padding: 0;\">\n",
              "  <li><b>Workers: </b>1</li>\n",
              "  <li><b>Cores: </b>4</li>\n",
              "  <li><b>Memory: </b>13.62 GB</li>\n",
              "</ul>\n",
              "</td>\n",
              "</tr>\n",
              "</table>"
            ],
            "text/plain": [
              "<Client: 'inproc://172.28.0.2/605/8' processes=1 threads=4, memory=13.62 GB>"
            ]
          },
          "metadata": {},
          "execution_count": 15
        }
      ]
    },
    {
      "cell_type": "markdown",
      "metadata": {
        "id": "VWXRgMWw5OL_"
      },
      "source": [
        "#**dask.array**\n",
        "Dask arrays coordinate many Numpy arrays, arranged into chunks within a grid. They support a large subset of the Numpy API."
      ]
    },
    {
      "cell_type": "code",
      "metadata": {
        "id": "3zCgNidW4Qpq",
        "colab": {
          "base_uri": "https://localhost:8080/",
          "height": 197
        },
        "outputId": "a115ec2f-5f5f-4613-cd7f-3f4b882211e8"
      },
      "source": [
        "import dask.array as da\n",
        "\n",
        "x = da.random.random((1000, 1000), chunks=(200, 200))\n",
        "\n",
        "x"
      ],
      "execution_count": null,
      "outputs": [
        {
          "output_type": "execute_result",
          "data": {
            "text/html": [
              "<table>\n",
              "<tr>\n",
              "<td>\n",
              "<table>\n",
              "  <thead>\n",
              "    <tr><td> </td><th> Array </th><th> Chunk </th></tr>\n",
              "  </thead>\n",
              "  <tbody>\n",
              "    <tr><th> Bytes </th><td> 8.00 MB </td> <td> 320.00 kB </td></tr>\n",
              "    <tr><th> Shape </th><td> (1000, 1000) </td> <td> (200, 200) </td></tr>\n",
              "    <tr><th> Count </th><td> 25 Tasks </td><td> 25 Chunks </td></tr>\n",
              "    <tr><th> Type </th><td> float64 </td><td> numpy.ndarray </td></tr>\n",
              "  </tbody>\n",
              "</table>\n",
              "</td>\n",
              "<td>\n",
              "<svg width=\"170\" height=\"170\" style=\"stroke:rgb(0,0,0);stroke-width:1\" >\n",
              "\n",
              "  <!-- Horizontal lines -->\n",
              "  <line x1=\"0\" y1=\"0\" x2=\"120\" y2=\"0\" style=\"stroke-width:2\" />\n",
              "  <line x1=\"0\" y1=\"24\" x2=\"120\" y2=\"24\" />\n",
              "  <line x1=\"0\" y1=\"48\" x2=\"120\" y2=\"48\" />\n",
              "  <line x1=\"0\" y1=\"72\" x2=\"120\" y2=\"72\" />\n",
              "  <line x1=\"0\" y1=\"96\" x2=\"120\" y2=\"96\" />\n",
              "  <line x1=\"0\" y1=\"120\" x2=\"120\" y2=\"120\" style=\"stroke-width:2\" />\n",
              "\n",
              "  <!-- Vertical lines -->\n",
              "  <line x1=\"0\" y1=\"0\" x2=\"0\" y2=\"120\" style=\"stroke-width:2\" />\n",
              "  <line x1=\"24\" y1=\"0\" x2=\"24\" y2=\"120\" />\n",
              "  <line x1=\"48\" y1=\"0\" x2=\"48\" y2=\"120\" />\n",
              "  <line x1=\"72\" y1=\"0\" x2=\"72\" y2=\"120\" />\n",
              "  <line x1=\"96\" y1=\"0\" x2=\"96\" y2=\"120\" />\n",
              "  <line x1=\"120\" y1=\"0\" x2=\"120\" y2=\"120\" style=\"stroke-width:2\" />\n",
              "\n",
              "  <!-- Colored Rectangle -->\n",
              "  <polygon points=\"0.000000,0.000000 120.000000,0.000000 120.000000,120.000000 0.000000,120.000000\" style=\"fill:#ECB172A0;stroke-width:0\"/>\n",
              "\n",
              "  <!-- Text -->\n",
              "  <text x=\"60.000000\" y=\"140.000000\" font-size=\"1.0rem\" font-weight=\"100\" text-anchor=\"middle\" >1000</text>\n",
              "  <text x=\"140.000000\" y=\"60.000000\" font-size=\"1.0rem\" font-weight=\"100\" text-anchor=\"middle\" transform=\"rotate(-90,140.000000,60.000000)\">1000</text>\n",
              "</svg>\n",
              "</td>\n",
              "</tr>\n",
              "</table>"
            ],
            "text/plain": [
              "dask.array<random_sample, shape=(1000, 1000), dtype=float64, chunksize=(200, 200), chunktype=numpy.ndarray>"
            ]
          },
          "metadata": {},
          "execution_count": 20
        }
      ]
    },
    {
      "cell_type": "code",
      "metadata": {
        "id": "vVv6wcRB4bkd",
        "colab": {
          "base_uri": "https://localhost:8080/",
          "height": 130
        },
        "outputId": "11a8bec4-4637-4793-b2bd-76186853583c"
      },
      "source": [
        "summed= x.sum(axis=1)\n",
        "summed"
      ],
      "execution_count": null,
      "outputs": [
        {
          "output_type": "execute_result",
          "data": {
            "text/html": [
              "<table>\n",
              "<tr>\n",
              "<td>\n",
              "<table>\n",
              "  <thead>\n",
              "    <tr><td> </td><th> Array </th><th> Chunk </th></tr>\n",
              "  </thead>\n",
              "  <tbody>\n",
              "    <tr><th> Bytes </th><td> 8.00 kB </td> <td> 1.60 kB </td></tr>\n",
              "    <tr><th> Shape </th><td> (1000,) </td> <td> (200,) </td></tr>\n",
              "    <tr><th> Count </th><td> 65 Tasks </td><td> 5 Chunks </td></tr>\n",
              "    <tr><th> Type </th><td> float64 </td><td> numpy.ndarray </td></tr>\n",
              "  </tbody>\n",
              "</table>\n",
              "</td>\n",
              "<td>\n",
              "<svg width=\"170\" height=\"75\" style=\"stroke:rgb(0,0,0);stroke-width:1\" >\n",
              "\n",
              "  <!-- Horizontal lines -->\n",
              "  <line x1=\"0\" y1=\"0\" x2=\"120\" y2=\"0\" style=\"stroke-width:2\" />\n",
              "  <line x1=\"0\" y1=\"25\" x2=\"120\" y2=\"25\" style=\"stroke-width:2\" />\n",
              "\n",
              "  <!-- Vertical lines -->\n",
              "  <line x1=\"0\" y1=\"0\" x2=\"0\" y2=\"25\" style=\"stroke-width:2\" />\n",
              "  <line x1=\"24\" y1=\"0\" x2=\"24\" y2=\"25\" />\n",
              "  <line x1=\"48\" y1=\"0\" x2=\"48\" y2=\"25\" />\n",
              "  <line x1=\"72\" y1=\"0\" x2=\"72\" y2=\"25\" />\n",
              "  <line x1=\"96\" y1=\"0\" x2=\"96\" y2=\"25\" />\n",
              "  <line x1=\"120\" y1=\"0\" x2=\"120\" y2=\"25\" style=\"stroke-width:2\" />\n",
              "\n",
              "  <!-- Colored Rectangle -->\n",
              "  <polygon points=\"0.000000,0.000000 120.000000,0.000000 120.000000,25.412617 0.000000,25.412617\" style=\"fill:#ECB172A0;stroke-width:0\"/>\n",
              "\n",
              "  <!-- Text -->\n",
              "  <text x=\"60.000000\" y=\"45.412617\" font-size=\"1.0rem\" font-weight=\"100\" text-anchor=\"middle\" >1000</text>\n",
              "  <text x=\"140.000000\" y=\"12.706308\" font-size=\"1.0rem\" font-weight=\"100\" text-anchor=\"middle\" transform=\"rotate(0,140.000000,12.706308)\">1</text>\n",
              "</svg>\n",
              "</td>\n",
              "</tr>\n",
              "</table>"
            ],
            "text/plain": [
              "dask.array<sum-aggregate, shape=(1000,), dtype=float64, chunksize=(200,), chunktype=numpy.ndarray>"
            ]
          },
          "metadata": {},
          "execution_count": 28
        }
      ]
    },
    {
      "cell_type": "markdown",
      "metadata": {
        "id": "Sku5Jwnp_lhj"
      },
      "source": [
        "Dask Dataframes coordinate many Pandas dataframes, partitioned along an index. They support a large subset of the Pandas API."
      ]
    },
    {
      "cell_type": "code",
      "metadata": {
        "id": "dS2t3ZfL_Hn3",
        "outputId": "f6455438-61eb-406f-fbbb-5b44d78e60a8",
        "colab": {
          "base_uri": "https://localhost:8080/",
          "height": 269
        }
      },
      "source": [
        "import dask\n",
        "\n",
        "import dask.dataframe as dd\n",
        "\n",
        "ddf = dask.datasets.timeseries()\n",
        "\n",
        "ddf"
      ],
      "execution_count": 17,
      "outputs": [
        {
          "output_type": "execute_result",
          "data": {
            "text/html": [
              "<div><strong>Dask DataFrame Structure:</strong></div>\n",
              "<div>\n",
              "<style scoped>\n",
              "    .dataframe tbody tr th:only-of-type {\n",
              "        vertical-align: middle;\n",
              "    }\n",
              "\n",
              "    .dataframe tbody tr th {\n",
              "        vertical-align: top;\n",
              "    }\n",
              "\n",
              "    .dataframe thead th {\n",
              "        text-align: right;\n",
              "    }\n",
              "</style>\n",
              "<table border=\"1\" class=\"dataframe\">\n",
              "  <thead>\n",
              "    <tr style=\"text-align: right;\">\n",
              "      <th></th>\n",
              "      <th>id</th>\n",
              "      <th>name</th>\n",
              "      <th>x</th>\n",
              "      <th>y</th>\n",
              "    </tr>\n",
              "    <tr>\n",
              "      <th>npartitions=30</th>\n",
              "      <th></th>\n",
              "      <th></th>\n",
              "      <th></th>\n",
              "      <th></th>\n",
              "    </tr>\n",
              "  </thead>\n",
              "  <tbody>\n",
              "    <tr>\n",
              "      <th>2000-01-01</th>\n",
              "      <td>int64</td>\n",
              "      <td>object</td>\n",
              "      <td>float64</td>\n",
              "      <td>float64</td>\n",
              "    </tr>\n",
              "    <tr>\n",
              "      <th>2000-01-02</th>\n",
              "      <td>...</td>\n",
              "      <td>...</td>\n",
              "      <td>...</td>\n",
              "      <td>...</td>\n",
              "    </tr>\n",
              "    <tr>\n",
              "      <th>...</th>\n",
              "      <td>...</td>\n",
              "      <td>...</td>\n",
              "      <td>...</td>\n",
              "      <td>...</td>\n",
              "    </tr>\n",
              "    <tr>\n",
              "      <th>2000-01-30</th>\n",
              "      <td>...</td>\n",
              "      <td>...</td>\n",
              "      <td>...</td>\n",
              "      <td>...</td>\n",
              "    </tr>\n",
              "    <tr>\n",
              "      <th>2000-01-31</th>\n",
              "      <td>...</td>\n",
              "      <td>...</td>\n",
              "      <td>...</td>\n",
              "      <td>...</td>\n",
              "    </tr>\n",
              "  </tbody>\n",
              "</table>\n",
              "</div>\n",
              "<div>Dask Name: make-timeseries, 30 tasks</div>"
            ],
            "text/plain": [
              "Dask DataFrame Structure:\n",
              "                   id    name        x        y\n",
              "npartitions=30                                 \n",
              "2000-01-01      int64  object  float64  float64\n",
              "2000-01-02        ...     ...      ...      ...\n",
              "...               ...     ...      ...      ...\n",
              "2000-01-30        ...     ...      ...      ...\n",
              "2000-01-31        ...     ...      ...      ...\n",
              "Dask Name: make-timeseries, 30 tasks"
            ]
          },
          "metadata": {},
          "execution_count": 17
        }
      ]
    },
    {
      "cell_type": "markdown",
      "metadata": {
        "id": "_kmrkC28_02w"
      },
      "source": [
        "#**Numba**\n",
        "Numba translates Python functions to optimized machine code at runtime using the industry-standard LLVM compiler library. Numba-compiled numerical algorithms in Python can approach the speeds of C or FORTRAN.\n",
        "\n",
        "Documentation\n",
        "GitHub"
      ]
    },
    {
      "cell_type": "code",
      "metadata": {
        "id": "yWuJZDe-_wXt",
        "outputId": "ba3e9de3-6497-454c-d211-2123ea4c9541",
        "colab": {
          "base_uri": "https://localhost:8080/"
        }
      },
      "source": [
        "from numba import jit\n",
        "\n",
        "x = np.arange(100).reshape(10, 10)\n",
        "\n",
        "@jit(nopython=True) # Set \"nopython\" mode for best performance, equivalent to @njit\n",
        "def go_fast(a): # Function is compiled to machine code when called the first time\n",
        "    trace = 0.0\n",
        "    for i in range(a.shape[0]):   # Numba likes loops\n",
        "        trace += np.tanh(a[i, i]) # Numba likes NumPy functions\n",
        "    return a + trace              # Numba likes NumPy broadcasting\n",
        "\n",
        "print(go_fast(x))"
      ],
      "execution_count": 21,
      "outputs": [
        {
          "output_type": "stream",
          "name": "stdout",
          "text": [
            "[[  9.  10.  11.  12.  13.  14.  15.  16.  17.  18.]\n",
            " [ 19.  20.  21.  22.  23.  24.  25.  26.  27.  28.]\n",
            " [ 29.  30.  31.  32.  33.  34.  35.  36.  37.  38.]\n",
            " [ 39.  40.  41.  42.  43.  44.  45.  46.  47.  48.]\n",
            " [ 49.  50.  51.  52.  53.  54.  55.  56.  57.  58.]\n",
            " [ 59.  60.  61.  62.  63.  64.  65.  66.  67.  68.]\n",
            " [ 69.  70.  71.  72.  73.  74.  75.  76.  77.  78.]\n",
            " [ 79.  80.  81.  82.  83.  84.  85.  86.  87.  88.]\n",
            " [ 89.  90.  91.  92.  93.  94.  95.  96.  97.  98.]\n",
            " [ 99. 100. 101. 102. 103. 104. 105. 106. 107. 108.]]\n"
          ]
        }
      ]
    },
    {
      "cell_type": "code",
      "metadata": {
        "id": "XawZ-dJf_we-"
      },
      "source": [
        ""
      ],
      "execution_count": null,
      "outputs": []
    },
    {
      "cell_type": "markdown",
      "metadata": {
        "id": "so80Osc45ELn"
      },
      "source": [
        "#**Geopandas**\n",
        "\n",
        "GeoPandas is an open source project to make working with geospatial data in python easier. GeoPandas extends the datatypes used by pandas to allow spatial operations on geometric types. Geometric operations are performed by shapely. Geopandas further depends on fiona for file access and matplotlib for plotting.\n",
        "\n",
        "Documentation\n",
        "GitHub"
      ]
    },
    {
      "cell_type": "code",
      "metadata": {
        "id": "kqvmMJMH6R3S",
        "colab": {
          "base_uri": "https://localhost:8080/",
          "height": 419
        },
        "outputId": "9b324bdd-5ad3-41d6-8903-ac8b6683a66a"
      },
      "source": [
        "url = \"http://d2ad6b4ur7yvpq.cloudfront.net/naturalearth-3.3.0/ne_110m_land.geojson\"\n",
        "gdf = gpd.read_file(url)\n",
        "\n",
        "gdf"
      ],
      "execution_count": 7,
      "outputs": [
        {
          "output_type": "execute_result",
          "data": {
            "text/html": [
              "<div>\n",
              "<style scoped>\n",
              "    .dataframe tbody tr th:only-of-type {\n",
              "        vertical-align: middle;\n",
              "    }\n",
              "\n",
              "    .dataframe tbody tr th {\n",
              "        vertical-align: top;\n",
              "    }\n",
              "\n",
              "    .dataframe thead th {\n",
              "        text-align: right;\n",
              "    }\n",
              "</style>\n",
              "<table border=\"1\" class=\"dataframe\">\n",
              "  <thead>\n",
              "    <tr style=\"text-align: right;\">\n",
              "      <th></th>\n",
              "      <th>scalerank</th>\n",
              "      <th>featureclass</th>\n",
              "      <th>geometry</th>\n",
              "    </tr>\n",
              "  </thead>\n",
              "  <tbody>\n",
              "    <tr>\n",
              "      <th>0</th>\n",
              "      <td>1</td>\n",
              "      <td>Country</td>\n",
              "      <td>POLYGON ((-59.57209 -80.04018, -59.86585 -80.5...</td>\n",
              "    </tr>\n",
              "    <tr>\n",
              "      <th>1</th>\n",
              "      <td>1</td>\n",
              "      <td>Country</td>\n",
              "      <td>POLYGON ((-159.20818 -79.49706, -161.12760 -79...</td>\n",
              "    </tr>\n",
              "    <tr>\n",
              "      <th>2</th>\n",
              "      <td>1</td>\n",
              "      <td>Country</td>\n",
              "      <td>POLYGON ((-45.15476 -78.04707, -43.92083 -78.4...</td>\n",
              "    </tr>\n",
              "    <tr>\n",
              "      <th>3</th>\n",
              "      <td>1</td>\n",
              "      <td>Country</td>\n",
              "      <td>POLYGON ((-121.21151 -73.50099, -119.91885 -73...</td>\n",
              "    </tr>\n",
              "    <tr>\n",
              "      <th>4</th>\n",
              "      <td>1</td>\n",
              "      <td>Country</td>\n",
              "      <td>POLYGON ((-125.55957 -73.48135, -124.03188 -73...</td>\n",
              "    </tr>\n",
              "    <tr>\n",
              "      <th>...</th>\n",
              "      <td>...</td>\n",
              "      <td>...</td>\n",
              "      <td>...</td>\n",
              "    </tr>\n",
              "    <tr>\n",
              "      <th>122</th>\n",
              "      <td>1</td>\n",
              "      <td>Country</td>\n",
              "      <td>POLYGON ((51.13619 80.54728, 49.79368 80.41543...</td>\n",
              "    </tr>\n",
              "    <tr>\n",
              "      <th>123</th>\n",
              "      <td>1</td>\n",
              "      <td>Country</td>\n",
              "      <td>POLYGON ((99.93976 78.88094, 97.75794 78.75620...</td>\n",
              "    </tr>\n",
              "    <tr>\n",
              "      <th>124</th>\n",
              "      <td>1</td>\n",
              "      <td>Country</td>\n",
              "      <td>POLYGON ((-87.02000 79.66000, -85.81435 79.336...</td>\n",
              "    </tr>\n",
              "    <tr>\n",
              "      <th>125</th>\n",
              "      <td>1</td>\n",
              "      <td>Country</td>\n",
              "      <td>POLYGON ((-68.50000 83.10632, -65.82735 83.028...</td>\n",
              "    </tr>\n",
              "    <tr>\n",
              "      <th>126</th>\n",
              "      <td>1</td>\n",
              "      <td>Country</td>\n",
              "      <td>POLYGON ((-27.10046 83.51966, -20.84539 82.726...</td>\n",
              "    </tr>\n",
              "  </tbody>\n",
              "</table>\n",
              "<p>127 rows × 3 columns</p>\n",
              "</div>"
            ],
            "text/plain": [
              "     scalerank featureclass                                           geometry\n",
              "0            1      Country  POLYGON ((-59.57209 -80.04018, -59.86585 -80.5...\n",
              "1            1      Country  POLYGON ((-159.20818 -79.49706, -161.12760 -79...\n",
              "2            1      Country  POLYGON ((-45.15476 -78.04707, -43.92083 -78.4...\n",
              "3            1      Country  POLYGON ((-121.21151 -73.50099, -119.91885 -73...\n",
              "4            1      Country  POLYGON ((-125.55957 -73.48135, -124.03188 -73...\n",
              "..         ...          ...                                                ...\n",
              "122          1      Country  POLYGON ((51.13619 80.54728, 49.79368 80.41543...\n",
              "123          1      Country  POLYGON ((99.93976 78.88094, 97.75794 78.75620...\n",
              "124          1      Country  POLYGON ((-87.02000 79.66000, -85.81435 79.336...\n",
              "125          1      Country  POLYGON ((-68.50000 83.10632, -65.82735 83.028...\n",
              "126          1      Country  POLYGON ((-27.10046 83.51966, -20.84539 82.726...\n",
              "\n",
              "[127 rows x 3 columns]"
            ]
          },
          "metadata": {},
          "execution_count": 7
        }
      ]
    },
    {
      "cell_type": "code",
      "metadata": {
        "id": "SSTnS1IJ7wtY",
        "colab": {
          "base_uri": "https://localhost:8080/",
          "height": 121
        },
        "outputId": "60a07360-2568-4f5b-bf23-e7a822c788e5"
      },
      "source": [
        "gdf.geometry.iloc[30]"
      ],
      "execution_count": null,
      "outputs": [
        {
          "output_type": "execute_result",
          "data": {
            "text/plain": [
              "<shapely.geometry.polygon.Polygon at 0x7f338ac3ff90>"
            ],
            "image/svg+xml": "<svg xmlns=\"http://www.w3.org/2000/svg\" xmlns:xlink=\"http://www.w3.org/1999/xlink\" width=\"100.0\" height=\"100.0\" viewBox=\"156.4494751487474 -7.4466500626965715 1.1308333007857527 0.889194303389008\" preserveAspectRatio=\"xMinYMin meet\"><g transform=\"matrix(1,0,0,-1,0,-14.004105822004135)\"><path fill-rule=\"evenodd\" fill=\"#66cc99\" stroke=\"#555555\" stroke-width=\"0.022616666015715055\" opacity=\"0.6\" d=\"M 157.53842573468924,-7.347819919466943 L 157.33941979393327,-7.404767347852655 L 156.90203047101485,-7.176874281445407 L 156.49135786359133,-6.765943291860495 L 156.54282759015402,-6.59933847415148 L 157.1400004417189,-7.021638278840655 L 157.53842573468924,-7.347819919466943 z\" /></g></svg>"
          },
          "metadata": {},
          "execution_count": 40
        }
      ]
    },
    {
      "cell_type": "markdown",
      "metadata": {
        "id": "5gmTI2WX75Fp"
      },
      "source": [
        "However, underlying this is a GeometryArray class:"
      ]
    },
    {
      "cell_type": "code",
      "metadata": {
        "id": "NNWEnFzX76ma",
        "colab": {
          "base_uri": "https://localhost:8080/"
        },
        "outputId": "dfe53a19-b5a4-4970-ae61-9c48fc1cc0d3"
      },
      "source": [
        "type(gdf.geometry.values)"
      ],
      "execution_count": null,
      "outputs": [
        {
          "output_type": "execute_result",
          "data": {
            "text/plain": [
              "geopandas.array.GeometryArray"
            ]
          },
          "metadata": {},
          "execution_count": 41
        }
      ]
    },
    {
      "cell_type": "markdown",
      "metadata": {
        "id": "NRp3d25B8BP5"
      },
      "source": [
        "which stores pointers to GEOS objects:"
      ]
    },
    {
      "cell_type": "code",
      "metadata": {
        "id": "vseIRStP8B3N",
        "colab": {
          "base_uri": "https://localhost:8080/"
        },
        "outputId": "22643f84-f170-46ed-ec08-6db2bdb8d4a3"
      },
      "source": [
        "gdf.geometry.values.data[:1]"
      ],
      "execution_count": null,
      "outputs": [
        {
          "output_type": "execute_result",
          "data": {
            "text/plain": [
              "array([<shapely.geometry.polygon.Polygon object at 0x7f3383765cd0>],\n",
              "      dtype=object)"
            ]
          },
          "metadata": {},
          "execution_count": 44
        }
      ]
    },
    {
      "cell_type": "markdown",
      "metadata": {
        "id": "0sTba3Fv9AbX"
      },
      "source": [
        "#**spatialpandas**\n",
        "\n",
        "Spatialpandas provides Pandas and Dask extensions for vectorized spatial and geometric operations, such as fast, spatially indexed rendering of large collections of polygons, lines, or points.\n",
        "\n",
        "Documentation\n",
        "GitHub"
      ]
    },
    {
      "cell_type": "code",
      "metadata": {
        "id": "Lc0JeB4B8bWr"
      },
      "source": [
        "!pip install spatialpandas"
      ],
      "execution_count": null,
      "outputs": []
    },
    {
      "cell_type": "code",
      "metadata": {
        "id": "ktrVpY4D9FvM",
        "outputId": "512b27e5-f703-4d8a-94ac-03d236ed70b2",
        "colab": {
          "base_uri": "https://localhost:8080/",
          "height": 419
        }
      },
      "source": [
        "import spatialpandas as spd\n",
        "\n",
        "sdf = spd.GeoDataFrame(gdf)\n",
        "\n",
        "sdf"
      ],
      "execution_count": 8,
      "outputs": [
        {
          "output_type": "execute_result",
          "data": {
            "text/html": [
              "<div>\n",
              "<style scoped>\n",
              "    .dataframe tbody tr th:only-of-type {\n",
              "        vertical-align: middle;\n",
              "    }\n",
              "\n",
              "    .dataframe tbody tr th {\n",
              "        vertical-align: top;\n",
              "    }\n",
              "\n",
              "    .dataframe thead th {\n",
              "        text-align: right;\n",
              "    }\n",
              "</style>\n",
              "<table border=\"1\" class=\"dataframe\">\n",
              "  <thead>\n",
              "    <tr style=\"text-align: right;\">\n",
              "      <th></th>\n",
              "      <th>scalerank</th>\n",
              "      <th>featureclass</th>\n",
              "      <th>geometry</th>\n",
              "    </tr>\n",
              "  </thead>\n",
              "  <tbody>\n",
              "    <tr>\n",
              "      <th>0</th>\n",
              "      <td>1</td>\n",
              "      <td>Country</td>\n",
              "      <td>Polygon([[-59.57209469261153, -80.040178725096...</td>\n",
              "    </tr>\n",
              "    <tr>\n",
              "      <th>1</th>\n",
              "      <td>1</td>\n",
              "      <td>Country</td>\n",
              "      <td>Polygon([[-159.20818356019765, -79.49705942170...</td>\n",
              "    </tr>\n",
              "    <tr>\n",
              "      <th>2</th>\n",
              "      <td>1</td>\n",
              "      <td>Country</td>\n",
              "      <td>Polygon([[-45.154757656421026, -78.04706960058...</td>\n",
              "    </tr>\n",
              "    <tr>\n",
              "      <th>3</th>\n",
              "      <td>1</td>\n",
              "      <td>Country</td>\n",
              "      <td>Polygon([[-121.21151139385714, -73.50099049900...</td>\n",
              "    </tr>\n",
              "    <tr>\n",
              "      <th>4</th>\n",
              "      <td>1</td>\n",
              "      <td>Country</td>\n",
              "      <td>Polygon([[-125.55956640689533, -73.48135345473...</td>\n",
              "    </tr>\n",
              "    <tr>\n",
              "      <th>...</th>\n",
              "      <td>...</td>\n",
              "      <td>...</td>\n",
              "      <td>...</td>\n",
              "    </tr>\n",
              "    <tr>\n",
              "      <th>122</th>\n",
              "      <td>1</td>\n",
              "      <td>Country</td>\n",
              "      <td>Polygon([[51.136186557831394, 80.5472801785410...</td>\n",
              "    </tr>\n",
              "    <tr>\n",
              "      <th>123</th>\n",
              "      <td>1</td>\n",
              "      <td>Country</td>\n",
              "      <td>Polygon([[99.93976, 78.88094, 100.186655, 79.7...</td>\n",
              "    </tr>\n",
              "    <tr>\n",
              "      <th>124</th>\n",
              "      <td>1</td>\n",
              "      <td>Country</td>\n",
              "      <td>Polygon([[-87.02, 79.66, -87.81, 80.3200000000...</td>\n",
              "    </tr>\n",
              "    <tr>\n",
              "      <th>125</th>\n",
              "      <td>1</td>\n",
              "      <td>Country</td>\n",
              "      <td>Polygon([[-68.5, 83.10632151676583, -70.665765...</td>\n",
              "    </tr>\n",
              "    <tr>\n",
              "      <th>126</th>\n",
              "      <td>1</td>\n",
              "      <td>Country</td>\n",
              "      <td>Polygon([[-27.10046, 83.51966, -35.08787, 83.6...</td>\n",
              "    </tr>\n",
              "  </tbody>\n",
              "</table>\n",
              "<p>127 rows × 3 columns</p>\n",
              "</div>"
            ],
            "text/plain": [
              "     scalerank featureclass                                           geometry\n",
              "0            1      Country  Polygon([[-59.57209469261153, -80.040178725096...\n",
              "1            1      Country  Polygon([[-159.20818356019765, -79.49705942170...\n",
              "2            1      Country  Polygon([[-45.154757656421026, -78.04706960058...\n",
              "3            1      Country  Polygon([[-121.21151139385714, -73.50099049900...\n",
              "4            1      Country  Polygon([[-125.55956640689533, -73.48135345473...\n",
              "..         ...          ...                                                ...\n",
              "122          1      Country  Polygon([[51.136186557831394, 80.5472801785410...\n",
              "123          1      Country  Polygon([[99.93976, 78.88094, 100.186655, 79.7...\n",
              "124          1      Country  Polygon([[-87.02, 79.66, -87.81, 80.3200000000...\n",
              "125          1      Country  Polygon([[-68.5, 83.10632151676583, -70.665765...\n",
              "126          1      Country  Polygon([[-27.10046, 83.51966, -35.08787, 83.6...\n",
              "\n",
              "[127 rows x 3 columns]"
            ]
          },
          "metadata": {},
          "execution_count": 8
        }
      ]
    },
    {
      "cell_type": "markdown",
      "metadata": {
        "id": "q89dY7g49ZEp"
      },
      "source": [
        "Instead of storing shapely or GEOS objects, spatialpandas declares geometry array classes:"
      ]
    },
    {
      "cell_type": "code",
      "metadata": {
        "id": "ulD1U4ED9Z1x",
        "outputId": "f5499cb1-c338-45b6-d8fd-e301c2d1d43d",
        "colab": {
          "base_uri": "https://localhost:8080/"
        }
      },
      "source": [
        "type(sdf.geometry.values)"
      ],
      "execution_count": 9,
      "outputs": [
        {
          "output_type": "execute_result",
          "data": {
            "text/plain": [
              "spatialpandas.geometry.polygon.PolygonArray"
            ]
          },
          "metadata": {},
          "execution_count": 9
        }
      ]
    },
    {
      "cell_type": "markdown",
      "metadata": {
        "id": "MpkKsE_P9dtg"
      },
      "source": [
        "which stores the geometry data as a contiguous PyArrow ListArray:"
      ]
    },
    {
      "cell_type": "code",
      "metadata": {
        "id": "EOPLDicu9eYZ",
        "outputId": "9e92359f-860d-43cc-a8bc-b1f8bd00b8bd",
        "colab": {
          "base_uri": "https://localhost:8080/"
        }
      },
      "source": [
        "sdf.geometry.values.data[:1]"
      ],
      "execution_count": 10,
      "outputs": [
        {
          "output_type": "execute_result",
          "data": {
            "text/plain": [
              "<pyarrow.lib.ListArray object at 0x7fe6d5fc31a0>\n",
              "[\n",
              "  [\n",
              "    [\n",
              "      -59.5721,\n",
              "      -80.0402,\n",
              "      -60.6101,\n",
              "      -79.6287,\n",
              "      -61.139,\n",
              "      -79.9814,\n",
              "      -61.8832,\n",
              "      -80.3929,\n",
              "      -64.0377,\n",
              "      -80.2949,\n",
              "      ...\n",
              "      -64.4881,\n",
              "      -80.9219,\n",
              "      -62.2554,\n",
              "      -80.8632,\n",
              "      -60.1597,\n",
              "      -81.0003,\n",
              "      -59.8658,\n",
              "      -80.5497,\n",
              "      -59.5721,\n",
              "      -80.0402\n",
              "    ]\n",
              "  ]\n",
              "]"
            ]
          },
          "metadata": {},
          "execution_count": 10
        }
      ]
    },
    {
      "cell_type": "markdown",
      "metadata": {
        "id": "0edSoycy_Ysi"
      },
      "source": [
        "Spatialpandas supports spatially indexing a GeoDataFrame of geometries ensuring that nearby geometries are stored in the same partitions. This ensures that without loading data in memory we can quickly look up specific geometries with a spatial query."
      ]
    },
    {
      "cell_type": "code",
      "metadata": {
        "id": "y0M4RYwY-o31",
        "outputId": "f55c7f8d-7a93-4831-f508-316af506f34b",
        "colab": {
          "base_uri": "https://localhost:8080/",
          "height": 269
        }
      },
      "source": [
        "sidf = dd.from_pandas(sdf, npartitions=8)\n",
        "\n",
        "sidf"
      ],
      "execution_count": 18,
      "outputs": [
        {
          "output_type": "execute_result",
          "data": {
            "text/html": [
              "<div><strong>Dask DataFrame Structure:</strong></div>\n",
              "<div>\n",
              "<style scoped>\n",
              "    .dataframe tbody tr th:only-of-type {\n",
              "        vertical-align: middle;\n",
              "    }\n",
              "\n",
              "    .dataframe tbody tr th {\n",
              "        vertical-align: top;\n",
              "    }\n",
              "\n",
              "    .dataframe thead th {\n",
              "        text-align: right;\n",
              "    }\n",
              "</style>\n",
              "<table border=\"1\" class=\"dataframe\">\n",
              "  <thead>\n",
              "    <tr style=\"text-align: right;\">\n",
              "      <th></th>\n",
              "      <th>scalerank</th>\n",
              "      <th>featureclass</th>\n",
              "      <th>geometry</th>\n",
              "    </tr>\n",
              "    <tr>\n",
              "      <th>npartitions=8</th>\n",
              "      <th></th>\n",
              "      <th></th>\n",
              "      <th></th>\n",
              "    </tr>\n",
              "  </thead>\n",
              "  <tbody>\n",
              "    <tr>\n",
              "      <th>0</th>\n",
              "      <td>int64</td>\n",
              "      <td>object</td>\n",
              "      <td>polygon[float64]</td>\n",
              "    </tr>\n",
              "    <tr>\n",
              "      <th>16</th>\n",
              "      <td>...</td>\n",
              "      <td>...</td>\n",
              "      <td>...</td>\n",
              "    </tr>\n",
              "    <tr>\n",
              "      <th>...</th>\n",
              "      <td>...</td>\n",
              "      <td>...</td>\n",
              "      <td>...</td>\n",
              "    </tr>\n",
              "    <tr>\n",
              "      <th>112</th>\n",
              "      <td>...</td>\n",
              "      <td>...</td>\n",
              "      <td>...</td>\n",
              "    </tr>\n",
              "    <tr>\n",
              "      <th>126</th>\n",
              "      <td>...</td>\n",
              "      <td>...</td>\n",
              "      <td>...</td>\n",
              "    </tr>\n",
              "  </tbody>\n",
              "</table>\n",
              "</div>\n",
              "<div>Dask Name: from_pandas, 8 tasks</div>"
            ],
            "text/plain": [
              "Dask DaskGeoDataFrame Structure:\n",
              "              scalerank featureclass          geometry\n",
              "npartitions=8                                         \n",
              "0                 int64       object  polygon[float64]\n",
              "16                  ...          ...               ...\n",
              "...                 ...          ...               ...\n",
              "112                 ...          ...               ...\n",
              "126                 ...          ...               ...\n",
              "Dask Name: from_pandas, 8 tasks"
            ]
          },
          "metadata": {},
          "execution_count": 18
        }
      ]
    },
    {
      "cell_type": "code",
      "metadata": {
        "id": "qSNrcqTAApcc"
      },
      "source": [
        "!pip install datashader"
      ],
      "execution_count": null,
      "outputs": []
    },
    {
      "cell_type": "code",
      "metadata": {
        "id": "P1f2ud2x_txr",
        "outputId": "3b22a3bf-f6e9-4380-96ff-3715d7dea254",
        "colab": {
          "base_uri": "https://localhost:8080/",
          "height": 423
        }
      },
      "source": [
        "import datashader as ds\n",
        "\n",
        "def plot_partitions(ddf):\n",
        "    # Get divisions array\n",
        "    divs = np.array(ddf.divisions)[:-1]\n",
        "    \n",
        "    # Add categorical \"partition\" column\n",
        "    ddf2 = ddf.map_partitions(\n",
        "        lambda df: df.assign(\n",
        "            partition=pd.Categorical(np.searchsorted(divs, df.index, side=\"right\"))\n",
        "        )\n",
        "    ).compute()\n",
        "    \n",
        "    # Create Datashader image, coloring countries by partition\n",
        "    cvs = ds.Canvas(plot_width=650, plot_height=400)\n",
        "    agg = cvs.polygons(ddf2, geometry='geometry', agg=ds.count_cat('partition'))\n",
        "    return ds.transfer_functions.shade(agg)\n",
        "\n",
        "plot_partitions(sidf)"
      ],
      "execution_count": 24,
      "outputs": [
        {
          "output_type": "execute_result",
          "data": {
            "image/png": "[encoded data removed]",
            "text/html": [
              "<img style=\"margin: auto; border:1px solid\" src='data:image/png;base64,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'/>"
            ],
            "text/plain": [
              "<xarray.Image (y: 400, x: 650)>\n",
              "array([[4280031972, 4280031972, 4280031972, ..., 4280031972, 4280031972,\n",
              "        4280031972],\n",
              "       [4280031972, 4280031972, 4280031972, ..., 4280031972, 4280031972,\n",
              "        4280031972],\n",
              "       [4280031972, 4280031972, 4280031972, ..., 4280031972, 4280031972,\n",
              "        4280031972],\n",
              "       ...,\n",
              "       [   5995955,    5995955,    5995955, ...,    5995955,    5995955,\n",
              "           5995955],\n",
              "       [   5995955,    5995955,    5995955, ...,    5995955,    5995955,\n",
              "           5995955],\n",
              "       [   5995955,    5995955,    5995955, ...,    5995955,    5995955,\n",
              "           5995955]], dtype=uint32)\n",
              "Coordinates:\n",
              "  * x        (x) float64 -179.7 -179.2 -178.6 -178.1 ... 178.1 178.6 179.2 179.7\n",
              "  * y        (y) float64 -89.78 -89.35 -88.91 -88.48 ... 82.13 82.56 82.99 83.43"
            ]
          },
          "metadata": {},
          "execution_count": 24
        }
      ]
    },
    {
      "cell_type": "code",
      "metadata": {
        "id": "Rpjx8-PuBFtg"
      },
      "source": [
        "minx, miny, maxx, maxy = sidf.geometry.total_bounds\n",
        "\n",
        "N = 1_000_000\n",
        "\n",
        "df_points = gpd.GeoDataFrame(\n",
        "    {\"id\": np.arange(N)},\n",
        "    geometry=gpd.points_from_xy(minx + maxx * np.random.random(N), miny + maxy * np.random.random(N)),\n",
        "    crs=gdf.crs\n",
        ")\n",
        "\n",
        "sdf_points = dd.from_pandas(spd.GeoDataFrame(df_points), npartitions=16).persist()\n"
      ],
      "execution_count": 25,
      "outputs": []
    },
    {
      "cell_type": "code",
      "metadata": {
        "id": "TETiosukBHUT",
        "outputId": "1d471391-4bbe-44fb-86ac-c9be6ea5d064",
        "colab": {
          "base_uri": "https://localhost:8080/",
          "height": 507
        }
      },
      "source": [
        "%%time\n",
        "spd.sjoin(sdf_points, sdf).compute()"
      ],
      "execution_count": 26,
      "outputs": [
        {
          "output_type": "stream",
          "name": "stderr",
          "text": [
            "/usr/local/lib/python3.7/dist-packages/numba/np/ufunc/parallel.py:363: NumbaWarning: The TBB threading layer requires TBB version 2019.5 or later i.e., TBB_INTERFACE_VERSION >= 11005. Found TBB_INTERFACE_VERSION = 9107. The TBB threading layer is disabled.\n",
            "  warnings.warn(problem)\n"
          ]
        },
        {
          "output_type": "stream",
          "name": "stdout",
          "text": [
            "CPU times: user 20.9 s, sys: 374 ms, total: 21.3 s\n",
            "Wall time: 17.6 s\n"
          ]
        },
        {
          "output_type": "execute_result",
          "data": {
            "text/html": [
              "<div>\n",
              "<style scoped>\n",
              "    .dataframe tbody tr th:only-of-type {\n",
              "        vertical-align: middle;\n",
              "    }\n",
              "\n",
              "    .dataframe tbody tr th {\n",
              "        vertical-align: top;\n",
              "    }\n",
              "\n",
              "    .dataframe thead th {\n",
              "        text-align: right;\n",
              "    }\n",
              "</style>\n",
              "<table border=\"1\" class=\"dataframe\">\n",
              "  <thead>\n",
              "    <tr style=\"text-align: right;\">\n",
              "      <th></th>\n",
              "      <th>id</th>\n",
              "      <th>geometry</th>\n",
              "      <th>index_right</th>\n",
              "      <th>scalerank</th>\n",
              "      <th>featureclass</th>\n",
              "    </tr>\n",
              "  </thead>\n",
              "  <tbody>\n",
              "    <tr>\n",
              "      <th>2</th>\n",
              "      <td>2</td>\n",
              "      <td>Point([-66.19019094522884, -19.533089209480437])</td>\n",
              "      <td>95</td>\n",
              "      <td>1</td>\n",
              "      <td>Country</td>\n",
              "    </tr>\n",
              "    <tr>\n",
              "      <th>17</th>\n",
              "      <td>17</td>\n",
              "      <td>Point([-60.55796021072291, -14.519681583482395])</td>\n",
              "      <td>95</td>\n",
              "      <td>1</td>\n",
              "      <td>Country</td>\n",
              "    </tr>\n",
              "    <tr>\n",
              "      <th>21</th>\n",
              "      <td>21</td>\n",
              "      <td>Point([-68.58091425914412, -14.68174230077291])</td>\n",
              "      <td>95</td>\n",
              "      <td>1</td>\n",
              "      <td>Country</td>\n",
              "    </tr>\n",
              "    <tr>\n",
              "      <th>23</th>\n",
              "      <td>23</td>\n",
              "      <td>Point([-52.748690534759376, -10.544769487680767])</td>\n",
              "      <td>95</td>\n",
              "      <td>1</td>\n",
              "      <td>Country</td>\n",
              "    </tr>\n",
              "    <tr>\n",
              "      <th>39</th>\n",
              "      <td>39</td>\n",
              "      <td>Point([-41.687229665475485, -7.095332864720987])</td>\n",
              "      <td>95</td>\n",
              "      <td>1</td>\n",
              "      <td>Country</td>\n",
              "    </tr>\n",
              "    <tr>\n",
              "      <th>...</th>\n",
              "      <td>...</td>\n",
              "      <td>...</td>\n",
              "      <td>...</td>\n",
              "      <td>...</td>\n",
              "      <td>...</td>\n",
              "    </tr>\n",
              "    <tr>\n",
              "      <th>964880</th>\n",
              "      <td>964880</td>\n",
              "      <td>Point([-120.71979436431285, -73.62373221132461])</td>\n",
              "      <td>3</td>\n",
              "      <td>1</td>\n",
              "      <td>Country</td>\n",
              "    </tr>\n",
              "    <tr>\n",
              "      <th>982684</th>\n",
              "      <td>982684</td>\n",
              "      <td>Point([-121.94690998002119, -73.78397655653018])</td>\n",
              "      <td>3</td>\n",
              "      <td>1</td>\n",
              "      <td>Country</td>\n",
              "    </tr>\n",
              "    <tr>\n",
              "      <th>997808</th>\n",
              "      <td>997808</td>\n",
              "      <td>Point([-118.79567504462523, -73.49426128384783])</td>\n",
              "      <td>3</td>\n",
              "      <td>1</td>\n",
              "      <td>Country</td>\n",
              "    </tr>\n",
              "    <tr>\n",
              "      <th>998260</th>\n",
              "      <td>998260</td>\n",
              "      <td>Point([-120.71781614838312, -73.77525214867018])</td>\n",
              "      <td>3</td>\n",
              "      <td>1</td>\n",
              "      <td>Country</td>\n",
              "    </tr>\n",
              "    <tr>\n",
              "      <th>945811</th>\n",
              "      <td>945811</td>\n",
              "      <td>Point([-124.7596440902818, -73.80314053066137])</td>\n",
              "      <td>4</td>\n",
              "      <td>1</td>\n",
              "      <td>Country</td>\n",
              "    </tr>\n",
              "  </tbody>\n",
              "</table>\n",
              "<p>226044 rows × 5 columns</p>\n",
              "</div>"
            ],
            "text/plain": [
              "            id  ... featureclass\n",
              "2            2  ...      Country\n",
              "17          17  ...      Country\n",
              "21          21  ...      Country\n",
              "23          23  ...      Country\n",
              "39          39  ...      Country\n",
              "...        ...  ...          ...\n",
              "964880  964880  ...      Country\n",
              "982684  982684  ...      Country\n",
              "997808  997808  ...      Country\n",
              "998260  998260  ...      Country\n",
              "945811  945811  ...      Country\n",
              "\n",
              "[226044 rows x 5 columns]"
            ]
          },
          "metadata": {},
          "execution_count": 26
        }
      ]
    },
    {
      "cell_type": "markdown",
      "metadata": {
        "id": "6J1fQ0KpBm5U"
      },
      "source": [
        "#**Datashader**\n",
        "Accurately render even the largest data\n",
        "\n",
        "Datashader is a graphics pipeline system for creating meaningful representations of large datasets quickly and flexibly. Datashader breaks the creation of images into a series of explicit steps that allow computations to be done on intermediate representations. This approach allows accurate and effective visualizations to be produced automatically without trial-and-error parameter tuning, and also makes it simple for data scientists to focus on particular data and relationships of interest in a principled way.\n",
        "\n",
        "The computation-intensive steps in this process are written in ordinary Python but transparently compiled to machine code using Numba and flexibly distributed across CPU cores and processors using Dask or GPUs using CUDA. This approach provides a highly optimized rendering pipeline that makes it practical to work with extremely large datasets even on standard hardware, while exploiting distributed and GPU systems when available.\n",
        "\n",
        "Documentation\n",
        "GitHub"
      ]
    },
    {
      "cell_type": "code",
      "metadata": {
        "id": "YdOZ1E97BqbK"
      },
      "source": [
        "import datashader as ds\n",
        "\n",
        "W = 1280\n",
        "H = 768 "
      ],
      "execution_count": 27,
      "outputs": []
    },
    {
      "cell_type": "code",
      "metadata": {
        "id": "p93dH6bABrY3",
        "outputId": "76af728f-96bf-4c31-e46d-61a0a7f18124",
        "colab": {
          "base_uri": "https://localhost:8080/",
          "height": 340
        }
      },
      "source": [
        "points_df = dd.read_parquet('/Users/philippjfr/development/datashader/examples/data/nyc_taxi.parq/').compute()\n",
        "\n",
        "points_df"
      ],
      "execution_count": 28,
      "outputs": [
        {
          "output_type": "error",
          "ename": "OSError",
          "evalue": "ignored",
          "traceback": [
            "\u001b[0;31m---------------------------------------------------------------------------\u001b[0m",
            "\u001b[0;31mOSError\u001b[0m                                   Traceback (most recent call last)",
            "\u001b[0;32m<ipython-input-28-2c1ccdc62c1b>\u001b[0m in \u001b[0;36m<module>\u001b[0;34m()\u001b[0m\n\u001b[0;32m----> 1\u001b[0;31m \u001b[0mpoints_df\u001b[0m \u001b[0;34m=\u001b[0m \u001b[0mdd\u001b[0m\u001b[0;34m.\u001b[0m\u001b[0mread_parquet\u001b[0m\u001b[0;34m(\u001b[0m\u001b[0;34m'/Users/philippjfr/development/datashader/examples/data/nyc_taxi.parq/'\u001b[0m\u001b[0;34m)\u001b[0m\u001b[0;34m.\u001b[0m\u001b[0mcompute\u001b[0m\u001b[0;34m(\u001b[0m\u001b[0;34m)\u001b[0m\u001b[0;34m\u001b[0m\u001b[0;34m\u001b[0m\u001b[0m\n\u001b[0m\u001b[1;32m      2\u001b[0m \u001b[0;34m\u001b[0m\u001b[0m\n\u001b[1;32m      3\u001b[0m \u001b[0mpoints_df\u001b[0m\u001b[0;34m\u001b[0m\u001b[0;34m\u001b[0m\u001b[0m\n",
            "\u001b[0;32m/usr/local/lib/python3.7/dist-packages/dask/dataframe/io/parquet/core.py\u001b[0m in \u001b[0;36mread_parquet\u001b[0;34m(path, columns, filters, categories, index, storage_options, engine, gather_statistics, split_row_groups, chunksize, **kwargs)\u001b[0m\n\u001b[1;32m    231\u001b[0m         \u001b[0mfilters\u001b[0m\u001b[0;34m=\u001b[0m\u001b[0mfilters\u001b[0m\u001b[0;34m,\u001b[0m\u001b[0;34m\u001b[0m\u001b[0;34m\u001b[0m\u001b[0m\n\u001b[1;32m    232\u001b[0m         \u001b[0msplit_row_groups\u001b[0m\u001b[0;34m=\u001b[0m\u001b[0msplit_row_groups\u001b[0m\u001b[0;34m,\u001b[0m\u001b[0;34m\u001b[0m\u001b[0;34m\u001b[0m\u001b[0m\n\u001b[0;32m--> 233\u001b[0;31m         \u001b[0;34m**\u001b[0m\u001b[0mkwargs\u001b[0m\u001b[0;34m\u001b[0m\u001b[0;34m\u001b[0m\u001b[0m\n\u001b[0m\u001b[1;32m    234\u001b[0m     )\n\u001b[1;32m    235\u001b[0m     \u001b[0;32mif\u001b[0m \u001b[0mmeta\u001b[0m\u001b[0;34m.\u001b[0m\u001b[0mindex\u001b[0m\u001b[0;34m.\u001b[0m\u001b[0mname\u001b[0m \u001b[0;32mis\u001b[0m \u001b[0;32mnot\u001b[0m \u001b[0;32mNone\u001b[0m\u001b[0;34m:\u001b[0m\u001b[0;34m\u001b[0m\u001b[0;34m\u001b[0m\u001b[0m\n",
            "\u001b[0;32m/usr/local/lib/python3.7/dist-packages/dask/dataframe/io/parquet/arrow.py\u001b[0m in \u001b[0;36mread_metadata\u001b[0;34m(fs, paths, categories, index, gather_statistics, filters, split_row_groups, **kwargs)\u001b[0m\n\u001b[1;32m    137\u001b[0m         \u001b[0;31m# correspond to a row group (populated below)\u001b[0m\u001b[0;34m\u001b[0m\u001b[0;34m\u001b[0m\u001b[0;34m\u001b[0m\u001b[0m\n\u001b[1;32m    138\u001b[0m         parts, dataset = _determine_dataset_parts(\n\u001b[0;32m--> 139\u001b[0;31m             \u001b[0mfs\u001b[0m\u001b[0;34m,\u001b[0m \u001b[0mpaths\u001b[0m\u001b[0;34m,\u001b[0m \u001b[0mgather_statistics\u001b[0m\u001b[0;34m,\u001b[0m \u001b[0mfilters\u001b[0m\u001b[0;34m,\u001b[0m \u001b[0mkwargs\u001b[0m\u001b[0;34m.\u001b[0m\u001b[0mget\u001b[0m\u001b[0;34m(\u001b[0m\u001b[0;34m\"dataset\"\u001b[0m\u001b[0;34m,\u001b[0m \u001b[0;34m{\u001b[0m\u001b[0;34m}\u001b[0m\u001b[0;34m)\u001b[0m\u001b[0;34m\u001b[0m\u001b[0;34m\u001b[0m\u001b[0m\n\u001b[0m\u001b[1;32m    140\u001b[0m         )\n\u001b[1;32m    141\u001b[0m         \u001b[0;31m# TODO: Call to `_determine_dataset_parts` uses `pq.ParquetDataset`\u001b[0m\u001b[0;34m\u001b[0m\u001b[0;34m\u001b[0m\u001b[0;34m\u001b[0m\u001b[0m\n",
            "\u001b[0;32m/usr/local/lib/python3.7/dist-packages/dask/dataframe/io/parquet/arrow.py\u001b[0m in \u001b[0;36m_determine_dataset_parts\u001b[0;34m(fs, paths, gather_statistics, filters, dataset_kwargs)\u001b[0m\n\u001b[1;32m    116\u001b[0m     \u001b[0;32melse\u001b[0m\u001b[0;34m:\u001b[0m\u001b[0;34m\u001b[0m\u001b[0;34m\u001b[0m\u001b[0m\n\u001b[1;32m    117\u001b[0m         \u001b[0;31m# There is only one file to read\u001b[0m\u001b[0;34m\u001b[0m\u001b[0;34m\u001b[0m\u001b[0;34m\u001b[0m\u001b[0m\n\u001b[0;32m--> 118\u001b[0;31m         \u001b[0mdataset\u001b[0m \u001b[0;34m=\u001b[0m \u001b[0mpq\u001b[0m\u001b[0;34m.\u001b[0m\u001b[0mParquetDataset\u001b[0m\u001b[0;34m(\u001b[0m\u001b[0mpaths\u001b[0m\u001b[0;34m,\u001b[0m \u001b[0mfilesystem\u001b[0m\u001b[0;34m=\u001b[0m\u001b[0mfs\u001b[0m\u001b[0;34m,\u001b[0m \u001b[0;34m**\u001b[0m\u001b[0mdataset_kwargs\u001b[0m\u001b[0;34m)\u001b[0m\u001b[0;34m\u001b[0m\u001b[0;34m\u001b[0m\u001b[0m\n\u001b[0m\u001b[1;32m    119\u001b[0m     \u001b[0;32mreturn\u001b[0m \u001b[0mparts\u001b[0m\u001b[0;34m,\u001b[0m \u001b[0mdataset\u001b[0m\u001b[0;34m\u001b[0m\u001b[0;34m\u001b[0m\u001b[0m\n\u001b[1;32m    120\u001b[0m \u001b[0;34m\u001b[0m\u001b[0m\n",
            "\u001b[0;32m/usr/local/lib/python3.7/dist-packages/pyarrow/parquet.py\u001b[0m in \u001b[0;36m__init__\u001b[0;34m(self, path_or_paths, filesystem, schema, metadata, split_row_groups, validate_schema, filters, metadata_nthreads, read_dictionary, memory_map, buffer_size, partitioning, use_legacy_dataset)\u001b[0m\n\u001b[1;32m   1244\u001b[0m          \u001b[0mself\u001b[0m\u001b[0;34m.\u001b[0m\u001b[0mmetadata_path\u001b[0m\u001b[0;34m)\u001b[0m \u001b[0;34m=\u001b[0m \u001b[0m_make_manifest\u001b[0m\u001b[0;34m(\u001b[0m\u001b[0;34m\u001b[0m\u001b[0;34m\u001b[0m\u001b[0m\n\u001b[1;32m   1245\u001b[0m              \u001b[0mpath_or_paths\u001b[0m\u001b[0;34m,\u001b[0m \u001b[0mself\u001b[0m\u001b[0;34m.\u001b[0m\u001b[0mfs\u001b[0m\u001b[0;34m,\u001b[0m \u001b[0mmetadata_nthreads\u001b[0m\u001b[0;34m=\u001b[0m\u001b[0mmetadata_nthreads\u001b[0m\u001b[0;34m,\u001b[0m\u001b[0;34m\u001b[0m\u001b[0;34m\u001b[0m\u001b[0m\n\u001b[0;32m-> 1246\u001b[0;31m              \u001b[0mopen_file_func\u001b[0m\u001b[0;34m=\u001b[0m\u001b[0mpartial\u001b[0m\u001b[0;34m(\u001b[0m\u001b[0m_open_dataset_file\u001b[0m\u001b[0;34m,\u001b[0m \u001b[0mself\u001b[0m\u001b[0;34m.\u001b[0m\u001b[0m_metadata\u001b[0m\u001b[0;34m)\u001b[0m\u001b[0;34m\u001b[0m\u001b[0;34m\u001b[0m\u001b[0m\n\u001b[0m\u001b[1;32m   1247\u001b[0m         )\n\u001b[1;32m   1248\u001b[0m \u001b[0;34m\u001b[0m\u001b[0m\n",
            "\u001b[0;32m/usr/local/lib/python3.7/dist-packages/pyarrow/parquet.py\u001b[0m in \u001b[0;36m_make_manifest\u001b[0;34m(path_or_paths, fs, pathsep, metadata_nthreads, open_file_func)\u001b[0m\n\u001b[1;32m   1439\u001b[0m             \u001b[0;32mif\u001b[0m \u001b[0;32mnot\u001b[0m \u001b[0mfs\u001b[0m\u001b[0;34m.\u001b[0m\u001b[0misfile\u001b[0m\u001b[0;34m(\u001b[0m\u001b[0mpath\u001b[0m\u001b[0;34m)\u001b[0m\u001b[0;34m:\u001b[0m\u001b[0;34m\u001b[0m\u001b[0;34m\u001b[0m\u001b[0m\n\u001b[1;32m   1440\u001b[0m                 raise OSError('Passed non-file path: {}'\n\u001b[0;32m-> 1441\u001b[0;31m                               .format(path))\n\u001b[0m\u001b[1;32m   1442\u001b[0m             \u001b[0mpiece\u001b[0m \u001b[0;34m=\u001b[0m \u001b[0mParquetDatasetPiece\u001b[0m\u001b[0;34m(\u001b[0m\u001b[0mpath\u001b[0m\u001b[0;34m,\u001b[0m \u001b[0mopen_file_func\u001b[0m\u001b[0;34m=\u001b[0m\u001b[0mopen_file_func\u001b[0m\u001b[0;34m)\u001b[0m\u001b[0;34m\u001b[0m\u001b[0;34m\u001b[0m\u001b[0m\n\u001b[1;32m   1443\u001b[0m             \u001b[0mpieces\u001b[0m\u001b[0;34m.\u001b[0m\u001b[0mappend\u001b[0m\u001b[0;34m(\u001b[0m\u001b[0mpiece\u001b[0m\u001b[0;34m)\u001b[0m\u001b[0;34m\u001b[0m\u001b[0;34m\u001b[0m\u001b[0m\n",
            "\u001b[0;31mOSError\u001b[0m: Passed non-file path: /Users/philippjfr/development/datashader/examples/data/nyc_taxi.parq"
          ]
        }
      ]
    },
    {
      "cell_type": "code",
      "metadata": {
        "id": "fnwj1LjGBtQh"
      },
      "source": [
        "%%time\n",
        "cvs = ds.Canvas(plot_width=W, plot_height=H)\n",
        "\n",
        "pickup_agg = cvs.points(points_df, 'pickup_x', 'pickup_y')\n",
        "\n",
        "pickup_agg"
      ],
      "execution_count": null,
      "outputs": []
    },
    {
      "cell_type": "code",
      "metadata": {
        "id": "OdqNNStHBuxR"
      },
      "source": [
        ""
      ],
      "execution_count": null,
      "outputs": []
    }
  ]
}